{
 "cells": [
  {
   "cell_type": "markdown",
   "id": "996502d9-1faf-4eb1-8470-17ca43b6e613",
   "metadata": {},
   "source": [
    "# Projet Kaggle"
   ]
  },
  {
   "cell_type": "code",
   "execution_count": 1,
   "id": "e093cf53-1561-46d1-9572-de6bc07aaf3f",
   "metadata": {},
   "outputs": [],
   "source": [
    "import matplotlib.pyplot as plt\n",
    "import numpy as np\n",
    "import scipy\n",
    "import sklearn\n",
    "import math\n",
    "import numpy.random as rnd\n",
    "import pandas as pd\n",
    "from sklearn.metrics import accuracy_score\n",
    "from sklearn.model_selection import train_test_split\n",
    "from sklearn.model_selection import LeaveOneOut\n",
    "import torch\n",
    "from torchvision import datasets, transforms\n",
    "from torch.utils.data import DataLoader\n",
    "from torch.utils.data import Dataset\n",
    "import random\n",
    "from PIL import Image\n",
    "import os\n",
    "import torch.nn as nn\n",
    "from torch.utils.data import Subset, DataLoader\n",
    "import torch.optim as optim\n",
    "import time\n",
    "import torch.nn.functional as F\n",
    "import torchvision.models as models"
   ]
  },
  {
   "cell_type": "code",
   "execution_count": 2,
   "id": "55292ece-33e6-4f3e-8a35-dbaa46bcadda",
   "metadata": {},
   "outputs": [],
   "source": [
    "device = torch.device('cuda' if torch.cuda.is_available() else 'cpu')"
   ]
  },
  {
   "cell_type": "code",
   "execution_count": 3,
   "id": "d3228730-543b-422e-aa96-a65a5e2625f4",
   "metadata": {},
   "outputs": [],
   "source": [
    "# device"
   ]
  },
  {
   "cell_type": "markdown",
   "id": "0b5a5875-ea72-450a-b1ac-d41bd24eaf92",
   "metadata": {},
   "source": [
    "## import data"
   ]
  },
  {
   "cell_type": "code",
   "execution_count": 4,
   "id": "efd90b35-3a29-4773-9bf1-736ce7f93bd3",
   "metadata": {},
   "outputs": [],
   "source": [
    "csv_path = 'modia-ml-2024/train.csv'\n",
    "img_dir = 'modia-ml-2024/train/train'\n",
    "# labels_df = pd.read_csv(labels_path)\n",
    "# labels_tensor = torch.tensor(labels_df['label'].values)"
   ]
  },
  {
   "cell_type": "code",
   "execution_count": 5,
   "id": "35fc2749-017e-4244-817e-816831f77dc4",
   "metadata": {},
   "outputs": [],
   "source": [
    "class Dataset(Dataset):\n",
    "    def __init__(self, csv_path, img_dir, transform=None, train=True):\n",
    "        df = pd.read_csv(csv_path)\n",
    "        self.image_names = df[\"id\"].astype(str)\n",
    "        self.train = train\n",
    "        if train:\n",
    "            self.labels = df[\"label\"]-1\n",
    "            self.classes = list(set(self.labels))\n",
    "        self.img_dir = img_dir\n",
    "        self.transform = transform\n",
    "        \n",
    "    \n",
    "    def __getitem__(self, index):\n",
    "        img = Image.open(os.path.join(self.img_dir, self.image_names[index]+\".jpg\"))\n",
    "        if self.transform is not None:\n",
    "          img = self.transform(img)\n",
    "        if self.train:\n",
    "            label = self.labels[index]\n",
    "            return img, label\n",
    "        else:\n",
    "            return img\n",
    "            \n",
    "    def __len__(self):\n",
    "        return self.labels.shape[0]"
   ]
  },
  {
   "cell_type": "code",
   "execution_count": 6,
   "id": "7e50956c-7230-472a-8151-cc6948a00914",
   "metadata": {},
   "outputs": [],
   "source": [
    "# Définir les transformations à appliquer aux images\n",
    "transform = transforms.Compose([\n",
    "    transforms.CenterCrop((256, 256)),  # Resize images to 256x256\n",
    "    transforms.Grayscale(), \n",
    "    # transforms.RandomHorizontalFlip(),\n",
    "    transforms.ToTensor(),  # Convertir les images en tenseurs PyTorch\n",
    "    transforms.Normalize(mean = 0, std = 0.5),\n",
    "])"
   ]
  },
  {
   "cell_type": "code",
   "execution_count": 7,
   "id": "166aac83-b0f1-462e-9a75-a1b9e9f3d1ce",
   "metadata": {},
   "outputs": [
    {
     "ename": "FileNotFoundError",
     "evalue": "[Errno 2] No such file or directory: 'modia-ml-2024/train.csv'",
     "output_type": "error",
     "traceback": [
      "\u001b[0;31m---------------------------------------------------------------------------\u001b[0m",
      "\u001b[0;31mFileNotFoundError\u001b[0m                         Traceback (most recent call last)",
      "Cell \u001b[0;32mIn[7], line 1\u001b[0m\n\u001b[0;32m----> 1\u001b[0m dataset \u001b[38;5;241m=\u001b[39m \u001b[43mDataset\u001b[49m\u001b[43m(\u001b[49m\n\u001b[1;32m      2\u001b[0m \u001b[43m    \u001b[49m\u001b[43mcsv_path\u001b[49m\u001b[38;5;241;43m=\u001b[39;49m\u001b[43m \u001b[49m\u001b[43mcsv_path\u001b[49m\u001b[43m,\u001b[49m\n\u001b[1;32m      3\u001b[0m \u001b[43m    \u001b[49m\u001b[43mimg_dir\u001b[49m\u001b[38;5;241;43m=\u001b[39;49m\u001b[43mimg_dir\u001b[49m\u001b[43m,\u001b[49m\n\u001b[1;32m      4\u001b[0m \u001b[43m    \u001b[49m\u001b[43mtransform\u001b[49m\u001b[38;5;241;43m=\u001b[39;49m\u001b[43m \u001b[49m\u001b[43mtransform\u001b[49m\u001b[43m,\u001b[49m\n\u001b[1;32m      5\u001b[0m \u001b[43m)\u001b[49m\n",
      "Cell \u001b[0;32mIn[5], line 3\u001b[0m, in \u001b[0;36mDataset.__init__\u001b[0;34m(self, csv_path, img_dir, transform, train)\u001b[0m\n\u001b[1;32m      2\u001b[0m \u001b[38;5;28;01mdef\u001b[39;00m \u001b[38;5;21m__init__\u001b[39m(\u001b[38;5;28mself\u001b[39m, csv_path, img_dir, transform\u001b[38;5;241m=\u001b[39m\u001b[38;5;28;01mNone\u001b[39;00m, train\u001b[38;5;241m=\u001b[39m\u001b[38;5;28;01mTrue\u001b[39;00m):\n\u001b[0;32m----> 3\u001b[0m     df \u001b[38;5;241m=\u001b[39m \u001b[43mpd\u001b[49m\u001b[38;5;241;43m.\u001b[39;49m\u001b[43mread_csv\u001b[49m\u001b[43m(\u001b[49m\u001b[43mcsv_path\u001b[49m\u001b[43m)\u001b[49m\n\u001b[1;32m      4\u001b[0m     \u001b[38;5;28mself\u001b[39m\u001b[38;5;241m.\u001b[39mimage_names \u001b[38;5;241m=\u001b[39m df[\u001b[38;5;124m\"\u001b[39m\u001b[38;5;124mid\u001b[39m\u001b[38;5;124m\"\u001b[39m]\u001b[38;5;241m.\u001b[39mastype(\u001b[38;5;28mstr\u001b[39m)\n\u001b[1;32m      5\u001b[0m     \u001b[38;5;28mself\u001b[39m\u001b[38;5;241m.\u001b[39mtrain \u001b[38;5;241m=\u001b[39m train\n",
      "File \u001b[0;32m~/.local/lib/python3.10/site-packages/pandas/io/parsers/readers.py:948\u001b[0m, in \u001b[0;36mread_csv\u001b[0;34m(filepath_or_buffer, sep, delimiter, header, names, index_col, usecols, dtype, engine, converters, true_values, false_values, skipinitialspace, skiprows, skipfooter, nrows, na_values, keep_default_na, na_filter, verbose, skip_blank_lines, parse_dates, infer_datetime_format, keep_date_col, date_parser, date_format, dayfirst, cache_dates, iterator, chunksize, compression, thousands, decimal, lineterminator, quotechar, quoting, doublequote, escapechar, comment, encoding, encoding_errors, dialect, on_bad_lines, delim_whitespace, low_memory, memory_map, float_precision, storage_options, dtype_backend)\u001b[0m\n\u001b[1;32m    935\u001b[0m kwds_defaults \u001b[38;5;241m=\u001b[39m _refine_defaults_read(\n\u001b[1;32m    936\u001b[0m     dialect,\n\u001b[1;32m    937\u001b[0m     delimiter,\n\u001b[0;32m   (...)\u001b[0m\n\u001b[1;32m    944\u001b[0m     dtype_backend\u001b[38;5;241m=\u001b[39mdtype_backend,\n\u001b[1;32m    945\u001b[0m )\n\u001b[1;32m    946\u001b[0m kwds\u001b[38;5;241m.\u001b[39mupdate(kwds_defaults)\n\u001b[0;32m--> 948\u001b[0m \u001b[38;5;28;01mreturn\u001b[39;00m \u001b[43m_read\u001b[49m\u001b[43m(\u001b[49m\u001b[43mfilepath_or_buffer\u001b[49m\u001b[43m,\u001b[49m\u001b[43m \u001b[49m\u001b[43mkwds\u001b[49m\u001b[43m)\u001b[49m\n",
      "File \u001b[0;32m~/.local/lib/python3.10/site-packages/pandas/io/parsers/readers.py:611\u001b[0m, in \u001b[0;36m_read\u001b[0;34m(filepath_or_buffer, kwds)\u001b[0m\n\u001b[1;32m    608\u001b[0m _validate_names(kwds\u001b[38;5;241m.\u001b[39mget(\u001b[38;5;124m\"\u001b[39m\u001b[38;5;124mnames\u001b[39m\u001b[38;5;124m\"\u001b[39m, \u001b[38;5;28;01mNone\u001b[39;00m))\n\u001b[1;32m    610\u001b[0m \u001b[38;5;66;03m# Create the parser.\u001b[39;00m\n\u001b[0;32m--> 611\u001b[0m parser \u001b[38;5;241m=\u001b[39m \u001b[43mTextFileReader\u001b[49m\u001b[43m(\u001b[49m\u001b[43mfilepath_or_buffer\u001b[49m\u001b[43m,\u001b[49m\u001b[43m \u001b[49m\u001b[38;5;241;43m*\u001b[39;49m\u001b[38;5;241;43m*\u001b[39;49m\u001b[43mkwds\u001b[49m\u001b[43m)\u001b[49m\n\u001b[1;32m    613\u001b[0m \u001b[38;5;28;01mif\u001b[39;00m chunksize \u001b[38;5;129;01mor\u001b[39;00m iterator:\n\u001b[1;32m    614\u001b[0m     \u001b[38;5;28;01mreturn\u001b[39;00m parser\n",
      "File \u001b[0;32m~/.local/lib/python3.10/site-packages/pandas/io/parsers/readers.py:1448\u001b[0m, in \u001b[0;36mTextFileReader.__init__\u001b[0;34m(self, f, engine, **kwds)\u001b[0m\n\u001b[1;32m   1445\u001b[0m     \u001b[38;5;28mself\u001b[39m\u001b[38;5;241m.\u001b[39moptions[\u001b[38;5;124m\"\u001b[39m\u001b[38;5;124mhas_index_names\u001b[39m\u001b[38;5;124m\"\u001b[39m] \u001b[38;5;241m=\u001b[39m kwds[\u001b[38;5;124m\"\u001b[39m\u001b[38;5;124mhas_index_names\u001b[39m\u001b[38;5;124m\"\u001b[39m]\n\u001b[1;32m   1447\u001b[0m \u001b[38;5;28mself\u001b[39m\u001b[38;5;241m.\u001b[39mhandles: IOHandles \u001b[38;5;241m|\u001b[39m \u001b[38;5;28;01mNone\u001b[39;00m \u001b[38;5;241m=\u001b[39m \u001b[38;5;28;01mNone\u001b[39;00m\n\u001b[0;32m-> 1448\u001b[0m \u001b[38;5;28mself\u001b[39m\u001b[38;5;241m.\u001b[39m_engine \u001b[38;5;241m=\u001b[39m \u001b[38;5;28;43mself\u001b[39;49m\u001b[38;5;241;43m.\u001b[39;49m\u001b[43m_make_engine\u001b[49m\u001b[43m(\u001b[49m\u001b[43mf\u001b[49m\u001b[43m,\u001b[49m\u001b[43m \u001b[49m\u001b[38;5;28;43mself\u001b[39;49m\u001b[38;5;241;43m.\u001b[39;49m\u001b[43mengine\u001b[49m\u001b[43m)\u001b[49m\n",
      "File \u001b[0;32m~/.local/lib/python3.10/site-packages/pandas/io/parsers/readers.py:1705\u001b[0m, in \u001b[0;36mTextFileReader._make_engine\u001b[0;34m(self, f, engine)\u001b[0m\n\u001b[1;32m   1703\u001b[0m     \u001b[38;5;28;01mif\u001b[39;00m \u001b[38;5;124m\"\u001b[39m\u001b[38;5;124mb\u001b[39m\u001b[38;5;124m\"\u001b[39m \u001b[38;5;129;01mnot\u001b[39;00m \u001b[38;5;129;01min\u001b[39;00m mode:\n\u001b[1;32m   1704\u001b[0m         mode \u001b[38;5;241m+\u001b[39m\u001b[38;5;241m=\u001b[39m \u001b[38;5;124m\"\u001b[39m\u001b[38;5;124mb\u001b[39m\u001b[38;5;124m\"\u001b[39m\n\u001b[0;32m-> 1705\u001b[0m \u001b[38;5;28mself\u001b[39m\u001b[38;5;241m.\u001b[39mhandles \u001b[38;5;241m=\u001b[39m \u001b[43mget_handle\u001b[49m\u001b[43m(\u001b[49m\n\u001b[1;32m   1706\u001b[0m \u001b[43m    \u001b[49m\u001b[43mf\u001b[49m\u001b[43m,\u001b[49m\n\u001b[1;32m   1707\u001b[0m \u001b[43m    \u001b[49m\u001b[43mmode\u001b[49m\u001b[43m,\u001b[49m\n\u001b[1;32m   1708\u001b[0m \u001b[43m    \u001b[49m\u001b[43mencoding\u001b[49m\u001b[38;5;241;43m=\u001b[39;49m\u001b[38;5;28;43mself\u001b[39;49m\u001b[38;5;241;43m.\u001b[39;49m\u001b[43moptions\u001b[49m\u001b[38;5;241;43m.\u001b[39;49m\u001b[43mget\u001b[49m\u001b[43m(\u001b[49m\u001b[38;5;124;43m\"\u001b[39;49m\u001b[38;5;124;43mencoding\u001b[39;49m\u001b[38;5;124;43m\"\u001b[39;49m\u001b[43m,\u001b[49m\u001b[43m \u001b[49m\u001b[38;5;28;43;01mNone\u001b[39;49;00m\u001b[43m)\u001b[49m\u001b[43m,\u001b[49m\n\u001b[1;32m   1709\u001b[0m \u001b[43m    \u001b[49m\u001b[43mcompression\u001b[49m\u001b[38;5;241;43m=\u001b[39;49m\u001b[38;5;28;43mself\u001b[39;49m\u001b[38;5;241;43m.\u001b[39;49m\u001b[43moptions\u001b[49m\u001b[38;5;241;43m.\u001b[39;49m\u001b[43mget\u001b[49m\u001b[43m(\u001b[49m\u001b[38;5;124;43m\"\u001b[39;49m\u001b[38;5;124;43mcompression\u001b[39;49m\u001b[38;5;124;43m\"\u001b[39;49m\u001b[43m,\u001b[49m\u001b[43m \u001b[49m\u001b[38;5;28;43;01mNone\u001b[39;49;00m\u001b[43m)\u001b[49m\u001b[43m,\u001b[49m\n\u001b[1;32m   1710\u001b[0m \u001b[43m    \u001b[49m\u001b[43mmemory_map\u001b[49m\u001b[38;5;241;43m=\u001b[39;49m\u001b[38;5;28;43mself\u001b[39;49m\u001b[38;5;241;43m.\u001b[39;49m\u001b[43moptions\u001b[49m\u001b[38;5;241;43m.\u001b[39;49m\u001b[43mget\u001b[49m\u001b[43m(\u001b[49m\u001b[38;5;124;43m\"\u001b[39;49m\u001b[38;5;124;43mmemory_map\u001b[39;49m\u001b[38;5;124;43m\"\u001b[39;49m\u001b[43m,\u001b[49m\u001b[43m \u001b[49m\u001b[38;5;28;43;01mFalse\u001b[39;49;00m\u001b[43m)\u001b[49m\u001b[43m,\u001b[49m\n\u001b[1;32m   1711\u001b[0m \u001b[43m    \u001b[49m\u001b[43mis_text\u001b[49m\u001b[38;5;241;43m=\u001b[39;49m\u001b[43mis_text\u001b[49m\u001b[43m,\u001b[49m\n\u001b[1;32m   1712\u001b[0m \u001b[43m    \u001b[49m\u001b[43merrors\u001b[49m\u001b[38;5;241;43m=\u001b[39;49m\u001b[38;5;28;43mself\u001b[39;49m\u001b[38;5;241;43m.\u001b[39;49m\u001b[43moptions\u001b[49m\u001b[38;5;241;43m.\u001b[39;49m\u001b[43mget\u001b[49m\u001b[43m(\u001b[49m\u001b[38;5;124;43m\"\u001b[39;49m\u001b[38;5;124;43mencoding_errors\u001b[39;49m\u001b[38;5;124;43m\"\u001b[39;49m\u001b[43m,\u001b[49m\u001b[43m \u001b[49m\u001b[38;5;124;43m\"\u001b[39;49m\u001b[38;5;124;43mstrict\u001b[39;49m\u001b[38;5;124;43m\"\u001b[39;49m\u001b[43m)\u001b[49m\u001b[43m,\u001b[49m\n\u001b[1;32m   1713\u001b[0m \u001b[43m    \u001b[49m\u001b[43mstorage_options\u001b[49m\u001b[38;5;241;43m=\u001b[39;49m\u001b[38;5;28;43mself\u001b[39;49m\u001b[38;5;241;43m.\u001b[39;49m\u001b[43moptions\u001b[49m\u001b[38;5;241;43m.\u001b[39;49m\u001b[43mget\u001b[49m\u001b[43m(\u001b[49m\u001b[38;5;124;43m\"\u001b[39;49m\u001b[38;5;124;43mstorage_options\u001b[39;49m\u001b[38;5;124;43m\"\u001b[39;49m\u001b[43m,\u001b[49m\u001b[43m \u001b[49m\u001b[38;5;28;43;01mNone\u001b[39;49;00m\u001b[43m)\u001b[49m\u001b[43m,\u001b[49m\n\u001b[1;32m   1714\u001b[0m \u001b[43m\u001b[49m\u001b[43m)\u001b[49m\n\u001b[1;32m   1715\u001b[0m \u001b[38;5;28;01massert\u001b[39;00m \u001b[38;5;28mself\u001b[39m\u001b[38;5;241m.\u001b[39mhandles \u001b[38;5;129;01mis\u001b[39;00m \u001b[38;5;129;01mnot\u001b[39;00m \u001b[38;5;28;01mNone\u001b[39;00m\n\u001b[1;32m   1716\u001b[0m f \u001b[38;5;241m=\u001b[39m \u001b[38;5;28mself\u001b[39m\u001b[38;5;241m.\u001b[39mhandles\u001b[38;5;241m.\u001b[39mhandle\n",
      "File \u001b[0;32m~/.local/lib/python3.10/site-packages/pandas/io/common.py:863\u001b[0m, in \u001b[0;36mget_handle\u001b[0;34m(path_or_buf, mode, encoding, compression, memory_map, is_text, errors, storage_options)\u001b[0m\n\u001b[1;32m    858\u001b[0m \u001b[38;5;28;01melif\u001b[39;00m \u001b[38;5;28misinstance\u001b[39m(handle, \u001b[38;5;28mstr\u001b[39m):\n\u001b[1;32m    859\u001b[0m     \u001b[38;5;66;03m# Check whether the filename is to be opened in binary mode.\u001b[39;00m\n\u001b[1;32m    860\u001b[0m     \u001b[38;5;66;03m# Binary mode does not support 'encoding' and 'newline'.\u001b[39;00m\n\u001b[1;32m    861\u001b[0m     \u001b[38;5;28;01mif\u001b[39;00m ioargs\u001b[38;5;241m.\u001b[39mencoding \u001b[38;5;129;01mand\u001b[39;00m \u001b[38;5;124m\"\u001b[39m\u001b[38;5;124mb\u001b[39m\u001b[38;5;124m\"\u001b[39m \u001b[38;5;129;01mnot\u001b[39;00m \u001b[38;5;129;01min\u001b[39;00m ioargs\u001b[38;5;241m.\u001b[39mmode:\n\u001b[1;32m    862\u001b[0m         \u001b[38;5;66;03m# Encoding\u001b[39;00m\n\u001b[0;32m--> 863\u001b[0m         handle \u001b[38;5;241m=\u001b[39m \u001b[38;5;28;43mopen\u001b[39;49m\u001b[43m(\u001b[49m\n\u001b[1;32m    864\u001b[0m \u001b[43m            \u001b[49m\u001b[43mhandle\u001b[49m\u001b[43m,\u001b[49m\n\u001b[1;32m    865\u001b[0m \u001b[43m            \u001b[49m\u001b[43mioargs\u001b[49m\u001b[38;5;241;43m.\u001b[39;49m\u001b[43mmode\u001b[49m\u001b[43m,\u001b[49m\n\u001b[1;32m    866\u001b[0m \u001b[43m            \u001b[49m\u001b[43mencoding\u001b[49m\u001b[38;5;241;43m=\u001b[39;49m\u001b[43mioargs\u001b[49m\u001b[38;5;241;43m.\u001b[39;49m\u001b[43mencoding\u001b[49m\u001b[43m,\u001b[49m\n\u001b[1;32m    867\u001b[0m \u001b[43m            \u001b[49m\u001b[43merrors\u001b[49m\u001b[38;5;241;43m=\u001b[39;49m\u001b[43merrors\u001b[49m\u001b[43m,\u001b[49m\n\u001b[1;32m    868\u001b[0m \u001b[43m            \u001b[49m\u001b[43mnewline\u001b[49m\u001b[38;5;241;43m=\u001b[39;49m\u001b[38;5;124;43m\"\u001b[39;49m\u001b[38;5;124;43m\"\u001b[39;49m\u001b[43m,\u001b[49m\n\u001b[1;32m    869\u001b[0m \u001b[43m        \u001b[49m\u001b[43m)\u001b[49m\n\u001b[1;32m    870\u001b[0m     \u001b[38;5;28;01melse\u001b[39;00m:\n\u001b[1;32m    871\u001b[0m         \u001b[38;5;66;03m# Binary mode\u001b[39;00m\n\u001b[1;32m    872\u001b[0m         handle \u001b[38;5;241m=\u001b[39m \u001b[38;5;28mopen\u001b[39m(handle, ioargs\u001b[38;5;241m.\u001b[39mmode)\n",
      "\u001b[0;31mFileNotFoundError\u001b[0m: [Errno 2] No such file or directory: 'modia-ml-2024/train.csv'"
     ]
    }
   ],
   "source": [
    "dataset = Dataset(\n",
    "    csv_path= csv_path,\n",
    "    img_dir=img_dir,\n",
    "    transform= transform,\n",
    ")"
   ]
  },
  {
   "cell_type": "code",
   "execution_count": 8,
   "id": "23b1b501-a8b2-4fac-a63e-7e1a09e12d70",
   "metadata": {},
   "outputs": [],
   "source": [
    "# Create a DataLoader to iterate over the dataset\n",
    "dataloader = DataLoader(dataset, batch_size=32, shuffle=True)"
   ]
  },
  {
   "cell_type": "code",
   "execution_count": 9,
   "id": "db9fe63d-fdcc-4495-9e4e-72499f6ff8dc",
   "metadata": {},
   "outputs": [
    {
     "data": {
      "image/png": "[encoded data removed]",
      "text/plain": [
       "<Figure size 640x480 with 1 Axes>"
      ]
     },
     "metadata": {},
     "output_type": "display_data"
    },
    {
     "name": "stdout",
     "output_type": "stream",
     "text": [
      "Label: 1\n"
     ]
    }
   ],
   "source": [
    "# Get a random batch of images and labels\n",
    "images, labels = next(iter(dataloader))\n",
    "\n",
    "# Choose a random image from the batch\n",
    "idx = np.random.randint(images.size(0))\n",
    "\n",
    "# Convert the tensor back to a NumPy array and remove the batch dimension\n",
    "image = images[idx].squeeze().numpy()\n",
    "\n",
    "# Display the image using Matplotlib\n",
    "plt.imshow(image, cmap='gray')\n",
    "plt.axis('off')\n",
    "plt.show()\n",
    "\n",
    "# Print the corresponding label\n",
    "print(\"Label:\", labels[idx].item())"
   ]
  },
  {
   "cell_type": "markdown",
   "id": "ea4d951a-f365-47a3-88a7-8d3bedcd8e18",
   "metadata": {},
   "source": [
    "# AlexNet model"
   ]
  },
  {
   "cell_type": "code",
   "execution_count": 10,
   "id": "4251b154-d4ef-4a5b-b5dd-4b0e1dcbfd73",
   "metadata": {},
   "outputs": [],
   "source": [
    "class AlexNet(nn.Module):\n",
    "    def __init__(self, num_classes=4):\n",
    "        super(AlexNet, self).__init__()\n",
    "        self.layer1 = nn.Sequential(\n",
    "            nn.Conv2d(1, 96, kernel_size=11, stride=4, padding=0),\n",
    "            nn.BatchNorm2d(96),\n",
    "            nn.ReLU(),\n",
    "            nn.MaxPool2d(kernel_size = 3, stride = 2))\n",
    "        self.layer2 = nn.Sequential(\n",
    "            nn.Conv2d(96, 256, kernel_size=5, stride=1, padding=2),\n",
    "            nn.BatchNorm2d(256),\n",
    "            nn.ReLU(),\n",
    "            nn.MaxPool2d(kernel_size = 3, stride = 2))\n",
    "        self.layer3 = nn.Sequential(\n",
    "            nn.Conv2d(256, 384, kernel_size=3, stride=1, padding=1),\n",
    "            nn.BatchNorm2d(384),\n",
    "            nn.ReLU())\n",
    "        self.layer4 = nn.Sequential(\n",
    "            nn.Conv2d(384, 384, kernel_size=3, stride=1, padding=1),\n",
    "            nn.BatchNorm2d(384),\n",
    "            nn.ReLU())\n",
    "        self.layer5 = nn.Sequential(\n",
    "            nn.Conv2d(384, 256, kernel_size=3, stride=1, padding=1),\n",
    "            nn.BatchNorm2d(256),\n",
    "            nn.ReLU(),\n",
    "            nn.MaxPool2d(kernel_size = 3, stride = 2))\n",
    "        self.fc = nn.Sequential(\n",
    "            nn.Dropout(0.5),\n",
    "            nn.Linear(9216, 4096),\n",
    "            nn.ReLU())\n",
    "        self.fc1 = nn.Sequential(\n",
    "            nn.Dropout(0.5),\n",
    "            nn.Linear(4096, 4096),\n",
    "            nn.ReLU())\n",
    "        self.fc2= nn.Sequential(\n",
    "            nn.Linear(4096, num_classes))\n",
    "        \n",
    "    def forward(self, x):\n",
    "        out = self.layer1(x)\n",
    "        out = self.layer2(out)\n",
    "        out = self.layer3(out)\n",
    "        out = self.layer4(out)\n",
    "        out = self.layer5(out)\n",
    "        out = out.reshape(out.size(0), -1)\n",
    "        # out = out.view(out.size(0), -1)  # Aplatir les données\n",
    "        out = self.fc(out)\n",
    "        out = self.fc1(out)\n",
    "        out = self.fc2(out)\n",
    "        return out"
   ]
  },
  {
   "cell_type": "code",
   "execution_count": 11,
   "id": "d2563265-617f-427f-813f-1a2751fb26bb",
   "metadata": {},
   "outputs": [],
   "source": [
    "class AlexNet_modif(nn.Module):\n",
    "    def __init__(self, num_classes=4):\n",
    "        super(AlexNet_modif, self).__init__()\n",
    "        self.layer1 = nn.Sequential(\n",
    "            nn.Conv2d(1, 64, kernel_size=11, stride=4, padding=0),\n",
    "            nn.BatchNorm2d(64),\n",
    "            nn.ReLU(),\n",
    "            nn.MaxPool2d(kernel_size = 3, stride = 2))\n",
    "        self.layer2 = nn.Sequential(\n",
    "            nn.Conv2d(64, 192, kernel_size=5, stride=1, padding=2),\n",
    "            nn.BatchNorm2d(192),\n",
    "            nn.ReLU(),\n",
    "            nn.MaxPool2d(kernel_size = 3, stride = 2))\n",
    "        self.layer3 = nn.Sequential(\n",
    "            nn.Conv2d(192, 384, kernel_size=3, stride=1, padding=1),\n",
    "            nn.BatchNorm2d(384),\n",
    "            nn.ReLU())\n",
    "        # self.layer4 = nn.Sequential(\n",
    "        #     nn.Conv2d(384, 384, kernel_size=3, stride=1, padding=1),\n",
    "        #     nn.BatchNorm2d(384),\n",
    "        #     nn.ReLU())\n",
    "        self.layer5 = nn.Sequential(\n",
    "            nn.Conv2d(384, 256, kernel_size=3, stride=1, padding=1),\n",
    "            nn.BatchNorm2d(256),\n",
    "            nn.ReLU())\n",
    "            # nn.MaxPool2d(kernel_size = 3, stride = 2)\n",
    "        self.layer4 = nn.Sequential(\n",
    "            nn.Conv2d(256, 256, kernel_size=3, stride=1, padding=1),\n",
    "            nn.BatchNorm2d(256),\n",
    "            nn.ReLU(),\n",
    "            nn.MaxPool2d(kernel_size = 3, stride = 2))\n",
    "\n",
    "        self.fc = nn.Sequential(\n",
    "            nn.Dropout(0.5),\n",
    "            nn.Linear(9216, 4096),\n",
    "            nn.ReLU())\n",
    "        self.fc1 = nn.Sequential(\n",
    "            nn.Dropout(0.5),\n",
    "            nn.Linear(4096, 4096),\n",
    "            nn.ReLU())\n",
    "        self.fc2= nn.Sequential(\n",
    "            nn.Linear(4096, num_classes))\n",
    "        \n",
    "    def forward(self, x):\n",
    "        out = self.layer1(x)\n",
    "        out = self.layer2(out)\n",
    "        out = self.layer3(out)\n",
    "        out = self.layer5(out)\n",
    "        out = self.layer4(out)\n",
    "        out = out.reshape(out.size(0), -1)\n",
    "        # out = out.view(out.size(0), -1)  # Aplatir les données\n",
    "        out = self.fc(out)\n",
    "        out = self.fc1(out)\n",
    "        out = self.fc2(out)\n",
    "        return out"
   ]
  },
  {
   "cell_type": "markdown",
   "id": "1d11afe0-f1f3-449f-bc8d-756674081fea",
   "metadata": {},
   "source": [
    "# Function"
   ]
  },
  {
   "cell_type": "code",
   "execution_count": 10,
   "id": "cd5f030f-f372-41f9-8eb2-8935014e6796",
   "metadata": {},
   "outputs": [],
   "source": [
    "def compute_nn(train_loader, test_loader, model, num_epochs, loss, optimizer):\n",
    " \n",
    "    optimizer = optimizer\n",
    "     \n",
    "    result_test_loss = []\n",
    "    result_train_loss= []\n",
    "    result_accuracy_train = []\n",
    "    result_accuracy_test = []\n",
    "    execution_time = []\n",
    "        \n",
    "    for epoch in range(num_epochs):\n",
    "        debut = time.time()  # Temps avant l'exécution\n",
    "        model.train()\n",
    "        running_loss = 0.0\n",
    "        train_losses = []\n",
    "        correct_train = 0\n",
    "        total_train = 0\n",
    "        for images, labels in train_loader:\n",
    "            images, labels = images.to(device), labels.to(device)\n",
    "            optimizer.zero_grad()\n",
    "            outputs = model(images)\n",
    "            loss_value = loss(outputs, labels)\n",
    "            loss_value.backward()\n",
    "            optimizer.step()\n",
    "            \n",
    "            train_losses.append(loss_value)\n",
    "            running_loss += loss_value.item()\n",
    "            _, predicted = torch.max(outputs.data, 1)\n",
    "            total_train += labels.size(0)\n",
    "            correct_train += (predicted == labels).sum().item()\n",
    "        fin2 = time.time()    # Temps après l'exécution\n",
    "        print(f'Epoch [{epoch+1}/{num_epochs}], Training Loss: {running_loss / len(train_loader)}, Time: {fin2-debut}')\n",
    "\n",
    "     \n",
    "        model.eval()\n",
    "        test_losses = []\n",
    "        total_test = 0\n",
    "        correct_test = 0\n",
    "           \n",
    "        with torch.no_grad():\n",
    "            for images, labels in test_loader:\n",
    "                images, labels = images.to(device), labels.to(device)\n",
    "                outputs = model(images)\n",
    "                loss_value_test = loss(outputs, labels)\n",
    "                test_losses.append(loss_value_test)\n",
    "                _, predicted = torch.max(outputs.data, 1)\n",
    "                total_test += labels.size(0)\n",
    "                correct_test += (predicted == labels).sum().item()\n",
    "\n",
    "        fin = time.time()    # Temps après l'exécution\n",
    "     \n",
    "        result_train_loss.append(torch.stack(train_losses).mean().item())\n",
    "        result_test_loss.append(torch.stack(test_losses).mean().item())\n",
    "        result_accuracy_train.append(correct_train/total_train)\n",
    "        result_accuracy_test.append(correct_test/total_test)\n",
    "        execution_time.append(fin - debut)\n",
    "\n",
    "     \n",
    "    tab = pd.DataFrame(\n",
    "    {\n",
    "    \"epoch\" : np.arange(0,num_epochs,1),\n",
    "    \"train_loss\" : result_train_loss,\n",
    "    \"test_loss\" : result_test_loss,\n",
    "    \"accuracy_train\" : result_accuracy_train,\n",
    "    \"accuracy_test\" : result_accuracy_test,\n",
    "    \"execution_time\" : execution_time,\n",
    "    }\n",
    "    )\n",
    "    return tab\n",
    " "
   ]
  },
  {
   "cell_type": "code",
   "execution_count": 12,
   "id": "676cdc1c-99bc-40a6-8fde-d17c4011d372",
   "metadata": {},
   "outputs": [],
   "source": [
    "# def nn_plot(df):\n",
    "#     fig = make_subplots(rows=2, cols=1)\n",
    "     \n",
    "#     fig.add_trace(\n",
    "#     go.Scatter(x=df.epoch, y=df.train_loss, mode='lines', name='Train loss'),\n",
    "#     row=1, col=1\n",
    "#     )\n",
    "     \n",
    "#     fig.add_trace(\n",
    "#     go.Scatter(x=df.epoch, y=df.test_loss, mode='lines', name='Test loss'),\n",
    "#     row=1, col=1,\n",
    "#     )\n",
    "     \n",
    "#     fig.add_trace(\n",
    "#     go.Scatter(x=df.epoch, y=df.accuracy_train, mode='lines', name='Train accuracy'),\n",
    "#     row=2, col=1,\n",
    "#     )\n",
    "     \n",
    "#     fig.add_trace(\n",
    "#     go.Scatter(x=df.epoch, y=df.accuracy_test, mode='lines', name='Test accuracy'),\n",
    "#     row=2, col=1\n",
    "#     )\n",
    "     \n",
    "#     fig.update_layout(title_text='<b>Neural network accuracy & loss plot</b>', width=1200, height=800)\n",
    "     \n",
    "#     fig.update_yaxes(title_text='Loss value', row=1, col=1)\n",
    "#     fig.update_xaxes(title_text='# epoch', row=2, col=1)\n",
    "#     fig.update_xaxes(title_text='# epoch', row=1, col=1)\n",
    "#     fig.update_yaxes(title_text='Accuracy value', row=2, col=1)\n",
    "    \n",
    "#     fig.show()"
   ]
  },
  {
   "cell_type": "markdown",
   "id": "15908d8d-092d-4820-806e-9808615889cf",
   "metadata": {},
   "source": [
    "# training"
   ]
  },
  {
   "cell_type": "code",
   "execution_count": 13,
   "id": "0822edb1-71f4-4d18-b64e-91bb0d7f389f",
   "metadata": {},
   "outputs": [],
   "source": [
    "# pip install gpustat\n"
   ]
  },
  {
   "cell_type": "code",
   "execution_count": 11,
   "id": "48865c81-d799-41c9-8e15-14e12a97a1f4",
   "metadata": {},
   "outputs": [
    {
     "name": "stdout",
     "output_type": "stream",
     "text": [
      "GPUStatCollection(host=bichette, [\n",
      "  \u001b[36m[0]\u001b[m \u001b[34mNVIDIA RTX A500 Laptop GPU\u001b[m |\u001b[1m\u001b[31m 58°C\u001b[m, \u001b[32m  0 %\u001b[m | \u001b[36m\u001b[1m\u001b[33m    9\u001b[m / \u001b[33m 4096\u001b[m MB | \u001b[1m\u001b[30msara\u001b[m(\u001b[33m4M\u001b[m)\n",
      "])\n"
     ]
    }
   ],
   "source": [
    "import gpustat\n",
    "\n",
    "gpu_stats = gpustat.new_query()\n",
    "print(gpu_stats)\n"
   ]
  },
  {
   "cell_type": "code",
   "execution_count": 16,
   "id": "ff62a183-9e34-4e8f-bc08-9eb015a67ed8",
   "metadata": {},
   "outputs": [],
   "source": [
    "# %gpu_usage"
   ]
  },
  {
   "cell_type": "code",
   "execution_count": 28,
   "id": "0759aa47-4574-4607-8127-387619b97ed8",
   "metadata": {},
   "outputs": [
    {
     "data": {
      "text/plain": [
       "3200"
      ]
     },
     "execution_count": 28,
     "metadata": {},
     "output_type": "execute_result"
    }
   ],
   "source": [
    "len(train_set)"
   ]
  },
  {
   "cell_type": "code",
   "execution_count": 29,
   "id": "2d9cb3bc-608c-4445-b64d-f28e680d54b0",
   "metadata": {},
   "outputs": [
    {
     "data": {
      "text/plain": [
       "800"
      ]
     },
     "execution_count": 29,
     "metadata": {},
     "output_type": "execute_result"
    }
   ],
   "source": [
    "len(test_set)"
   ]
  },
  {
   "cell_type": "code",
   "execution_count": 12,
   "id": "524906e1-defd-4392-8cc7-c2ab3a900834",
   "metadata": {},
   "outputs": [],
   "source": [
    "# Diviser les indices en ensembles d'entraînement et de test\n",
    "train_indices, test_indices = train_test_split(range(len(dataloader.dataset)), test_size=0.2, random_state=42)\n",
    "\n",
    "# Créer les ensembles d'entraînement et de test à partir des indices\n",
    "train_set = Subset(dataloader.dataset, train_indices)\n",
    "test_set = Subset(dataloader.dataset, test_indices)\n",
    "\n",
    "# Créer les DataLoader pour les ensembles d'entraînement et de test\n",
    "train_loader = DataLoader(train_set, batch_size=32, shuffle=True)\n",
    "test_loader = DataLoader(test_set, batch_size=32, shuffle=False)"
   ]
  },
  {
   "cell_type": "code",
   "execution_count": 21,
   "id": "ad94cf7f-2691-439f-8349-af7350d86437",
   "metadata": {},
   "outputs": [
    {
     "data": {
      "text/plain": [
       "50"
      ]
     },
     "execution_count": 21,
     "metadata": {},
     "output_type": "execute_result"
    }
   ],
   "source": [
    "test_loader.__len__()"
   ]
  },
  {
   "cell_type": "code",
   "execution_count": 20,
   "id": "ee92af1d-a2d1-4abd-96d0-21979ddfcef8",
   "metadata": {},
   "outputs": [
    {
     "data": {
      "text/plain": [
       "200"
      ]
     },
     "execution_count": 20,
     "metadata": {},
     "output_type": "execute_result"
    }
   ],
   "source": [
    "train_loader.__len__()"
   ]
  },
  {
   "cell_type": "code",
   "execution_count": 35,
   "id": "f345d82d-6d28-4e6a-ab05-17d91cb6fa85",
   "metadata": {},
   "outputs": [],
   "source": [
    "# Créer une instance de votre modèle AlexNet\n",
    "model = AlexNet().to(device)\n",
    "# model_2 = AlexNet_modif().to(device)\n",
    "\n",
    "# Définir votre fonction de perte et votre optimiseur\n",
    "criterion = nn.CrossEntropyLoss()\n",
    "optimizer = optim.SGD(model.parameters(), lr=0.2)\n",
    "\n",
    "num_epochs = 10"
   ]
  },
  {
   "cell_type": "code",
   "execution_count": 36,
   "id": "cade6f2b-2885-4d25-ae6a-3ea328e58720",
   "metadata": {},
   "outputs": [
    {
     "ename": "KeyboardInterrupt",
     "evalue": "",
     "output_type": "error",
     "traceback": [
      "\u001b[0;31m---------------------------------------------------------------------------\u001b[0m",
      "\u001b[0;31mKeyboardInterrupt\u001b[0m                         Traceback (most recent call last)",
      "Cell \u001b[0;32mIn[36], line 1\u001b[0m\n\u001b[0;32m----> 1\u001b[0m df_train \u001b[38;5;241m=\u001b[39m compute_nn(train_loader, test_loader, model, num_epochs, criterion, optimizer)\n",
      "Cell \u001b[0;32mIn[12], line 27\u001b[0m, in \u001b[0;36mcompute_nn\u001b[0;34m(train_loader, test_loader, model, num_epochs, loss, optimizer)\u001b[0m\n\u001b[1;32m     24\u001b[0m optimizer\u001b[38;5;241m.\u001b[39mstep()\n\u001b[1;32m     26\u001b[0m train_losses\u001b[38;5;241m.\u001b[39mappend(loss_value)\n\u001b[0;32m---> 27\u001b[0m running_loss \u001b[38;5;241m+\u001b[39m\u001b[38;5;241m=\u001b[39m loss_value\u001b[38;5;241m.\u001b[39mitem()\n\u001b[1;32m     28\u001b[0m _, predicted \u001b[38;5;241m=\u001b[39m torch\u001b[38;5;241m.\u001b[39mmax(outputs\u001b[38;5;241m.\u001b[39mdata, \u001b[38;5;241m1\u001b[39m)\n\u001b[1;32m     29\u001b[0m total_train \u001b[38;5;241m+\u001b[39m\u001b[38;5;241m=\u001b[39m labels\u001b[38;5;241m.\u001b[39msize(\u001b[38;5;241m0\u001b[39m)\n",
      "\u001b[0;31mKeyboardInterrupt\u001b[0m: "
     ]
    }
   ],
   "source": [
    "df_train = compute_nn(train_loader, test_loader, model, num_epochs, criterion, optimizer)"
   ]
  },
  {
   "cell_type": "code",
   "execution_count": 31,
   "id": "7df8da0d-9753-4b58-b944-5ec17123decf",
   "metadata": {},
   "outputs": [
    {
     "data": {
      "text/html": [
       "<div>\n",
       "<style scoped>\n",
       "    .dataframe tbody tr th:only-of-type {\n",
       "        vertical-align: middle;\n",
       "    }\n",
       "\n",
       "    .dataframe tbody tr th {\n",
       "        vertical-align: top;\n",
       "    }\n",
       "\n",
       "    .dataframe thead th {\n",
       "        text-align: right;\n",
       "    }\n",
       "</style>\n",
       "<table border=\"1\" class=\"dataframe\">\n",
       "  <thead>\n",
       "    <tr style=\"text-align: right;\">\n",
       "      <th></th>\n",
       "      <th>epoch</th>\n",
       "      <th>train_loss</th>\n",
       "      <th>test_loss</th>\n",
       "      <th>accuracy_train</th>\n",
       "      <th>accuracy_test</th>\n",
       "      <th>execution_time</th>\n",
       "    </tr>\n",
       "  </thead>\n",
       "  <tbody>\n",
       "    <tr>\n",
       "      <th>0</th>\n",
       "      <td>0</td>\n",
       "      <td>1.961142</td>\n",
       "      <td>1.388040</td>\n",
       "      <td>0.323437</td>\n",
       "      <td>0.23625</td>\n",
       "      <td>13.151215</td>\n",
       "    </tr>\n",
       "    <tr>\n",
       "      <th>1</th>\n",
       "      <td>1</td>\n",
       "      <td>1.260301</td>\n",
       "      <td>1.729377</td>\n",
       "      <td>0.413438</td>\n",
       "      <td>0.29625</td>\n",
       "      <td>13.026220</td>\n",
       "    </tr>\n",
       "    <tr>\n",
       "      <th>2</th>\n",
       "      <td>2</td>\n",
       "      <td>1.207404</td>\n",
       "      <td>1.297079</td>\n",
       "      <td>0.455313</td>\n",
       "      <td>0.40750</td>\n",
       "      <td>12.991228</td>\n",
       "    </tr>\n",
       "    <tr>\n",
       "      <th>3</th>\n",
       "      <td>3</td>\n",
       "      <td>1.138174</td>\n",
       "      <td>1.314892</td>\n",
       "      <td>0.479375</td>\n",
       "      <td>0.36000</td>\n",
       "      <td>12.998520</td>\n",
       "    </tr>\n",
       "    <tr>\n",
       "      <th>4</th>\n",
       "      <td>4</td>\n",
       "      <td>1.047185</td>\n",
       "      <td>1.208652</td>\n",
       "      <td>0.533125</td>\n",
       "      <td>0.45250</td>\n",
       "      <td>12.976627</td>\n",
       "    </tr>\n",
       "    <tr>\n",
       "      <th>5</th>\n",
       "      <td>5</td>\n",
       "      <td>1.037766</td>\n",
       "      <td>1.691859</td>\n",
       "      <td>0.539375</td>\n",
       "      <td>0.42125</td>\n",
       "      <td>13.009828</td>\n",
       "    </tr>\n",
       "    <tr>\n",
       "      <th>6</th>\n",
       "      <td>6</td>\n",
       "      <td>0.984396</td>\n",
       "      <td>1.002313</td>\n",
       "      <td>0.562500</td>\n",
       "      <td>0.57000</td>\n",
       "      <td>13.102777</td>\n",
       "    </tr>\n",
       "    <tr>\n",
       "      <th>7</th>\n",
       "      <td>7</td>\n",
       "      <td>0.959480</td>\n",
       "      <td>1.249302</td>\n",
       "      <td>0.580000</td>\n",
       "      <td>0.48000</td>\n",
       "      <td>13.018055</td>\n",
       "    </tr>\n",
       "    <tr>\n",
       "      <th>8</th>\n",
       "      <td>8</td>\n",
       "      <td>0.900724</td>\n",
       "      <td>1.172312</td>\n",
       "      <td>0.606563</td>\n",
       "      <td>0.49875</td>\n",
       "      <td>12.955191</td>\n",
       "    </tr>\n",
       "    <tr>\n",
       "      <th>9</th>\n",
       "      <td>9</td>\n",
       "      <td>0.884823</td>\n",
       "      <td>1.073632</td>\n",
       "      <td>0.619375</td>\n",
       "      <td>0.54500</td>\n",
       "      <td>13.029895</td>\n",
       "    </tr>\n",
       "    <tr>\n",
       "      <th>10</th>\n",
       "      <td>10</td>\n",
       "      <td>0.881301</td>\n",
       "      <td>2.550997</td>\n",
       "      <td>0.630938</td>\n",
       "      <td>0.31500</td>\n",
       "      <td>12.916540</td>\n",
       "    </tr>\n",
       "    <tr>\n",
       "      <th>11</th>\n",
       "      <td>11</td>\n",
       "      <td>0.845036</td>\n",
       "      <td>5.024760</td>\n",
       "      <td>0.635938</td>\n",
       "      <td>0.27125</td>\n",
       "      <td>13.017954</td>\n",
       "    </tr>\n",
       "    <tr>\n",
       "      <th>12</th>\n",
       "      <td>12</td>\n",
       "      <td>0.828933</td>\n",
       "      <td>2.092772</td>\n",
       "      <td>0.646875</td>\n",
       "      <td>0.33750</td>\n",
       "      <td>12.962562</td>\n",
       "    </tr>\n",
       "    <tr>\n",
       "      <th>13</th>\n",
       "      <td>13</td>\n",
       "      <td>0.818219</td>\n",
       "      <td>1.295731</td>\n",
       "      <td>0.650937</td>\n",
       "      <td>0.39375</td>\n",
       "      <td>13.035240</td>\n",
       "    </tr>\n",
       "    <tr>\n",
       "      <th>14</th>\n",
       "      <td>14</td>\n",
       "      <td>0.780259</td>\n",
       "      <td>2.151248</td>\n",
       "      <td>0.665937</td>\n",
       "      <td>0.38375</td>\n",
       "      <td>12.994582</td>\n",
       "    </tr>\n",
       "    <tr>\n",
       "      <th>15</th>\n",
       "      <td>15</td>\n",
       "      <td>0.784534</td>\n",
       "      <td>2.028818</td>\n",
       "      <td>0.675000</td>\n",
       "      <td>0.35875</td>\n",
       "      <td>13.047121</td>\n",
       "    </tr>\n",
       "    <tr>\n",
       "      <th>16</th>\n",
       "      <td>16</td>\n",
       "      <td>0.752502</td>\n",
       "      <td>6.233580</td>\n",
       "      <td>0.688438</td>\n",
       "      <td>0.26750</td>\n",
       "      <td>16.938433</td>\n",
       "    </tr>\n",
       "    <tr>\n",
       "      <th>17</th>\n",
       "      <td>17</td>\n",
       "      <td>0.758990</td>\n",
       "      <td>1.909778</td>\n",
       "      <td>0.688125</td>\n",
       "      <td>0.43625</td>\n",
       "      <td>17.319792</td>\n",
       "    </tr>\n",
       "    <tr>\n",
       "      <th>18</th>\n",
       "      <td>18</td>\n",
       "      <td>0.677672</td>\n",
       "      <td>5.823800</td>\n",
       "      <td>0.724375</td>\n",
       "      <td>0.27625</td>\n",
       "      <td>17.295634</td>\n",
       "    </tr>\n",
       "    <tr>\n",
       "      <th>19</th>\n",
       "      <td>19</td>\n",
       "      <td>0.726707</td>\n",
       "      <td>2.675440</td>\n",
       "      <td>0.706875</td>\n",
       "      <td>0.35250</td>\n",
       "      <td>17.342412</td>\n",
       "    </tr>\n",
       "  </tbody>\n",
       "</table>\n",
       "</div>"
      ],
      "text/plain": [
       "    epoch  train_loss  test_loss  accuracy_train  accuracy_test  \\\n",
       "0       0    1.961142   1.388040        0.323437        0.23625   \n",
       "1       1    1.260301   1.729377        0.413438        0.29625   \n",
       "2       2    1.207404   1.297079        0.455313        0.40750   \n",
       "3       3    1.138174   1.314892        0.479375        0.36000   \n",
       "4       4    1.047185   1.208652        0.533125        0.45250   \n",
       "5       5    1.037766   1.691859        0.539375        0.42125   \n",
       "6       6    0.984396   1.002313        0.562500        0.57000   \n",
       "7       7    0.959480   1.249302        0.580000        0.48000   \n",
       "8       8    0.900724   1.172312        0.606563        0.49875   \n",
       "9       9    0.884823   1.073632        0.619375        0.54500   \n",
       "10     10    0.881301   2.550997        0.630938        0.31500   \n",
       "11     11    0.845036   5.024760        0.635938        0.27125   \n",
       "12     12    0.828933   2.092772        0.646875        0.33750   \n",
       "13     13    0.818219   1.295731        0.650937        0.39375   \n",
       "14     14    0.780259   2.151248        0.665937        0.38375   \n",
       "15     15    0.784534   2.028818        0.675000        0.35875   \n",
       "16     16    0.752502   6.233580        0.688438        0.26750   \n",
       "17     17    0.758990   1.909778        0.688125        0.43625   \n",
       "18     18    0.677672   5.823800        0.724375        0.27625   \n",
       "19     19    0.726707   2.675440        0.706875        0.35250   \n",
       "\n",
       "    execution_time  \n",
       "0        13.151215  \n",
       "1        13.026220  \n",
       "2        12.991228  \n",
       "3        12.998520  \n",
       "4        12.976627  \n",
       "5        13.009828  \n",
       "6        13.102777  \n",
       "7        13.018055  \n",
       "8        12.955191  \n",
       "9        13.029895  \n",
       "10       12.916540  \n",
       "11       13.017954  \n",
       "12       12.962562  \n",
       "13       13.035240  \n",
       "14       12.994582  \n",
       "15       13.047121  \n",
       "16       16.938433  \n",
       "17       17.319792  \n",
       "18       17.295634  \n",
       "19       17.342412  "
      ]
     },
     "execution_count": 31,
     "metadata": {},
     "output_type": "execute_result"
    }
   ],
   "source": [
    "df_train"
   ]
  },
  {
   "cell_type": "code",
   "execution_count": 17,
   "id": "d980f00a-4c90-4ff5-be73-96fec8abc02b",
   "metadata": {},
   "outputs": [],
   "source": [
    "def evaluate_model(model, test_loader):\n",
    "    model.eval()  # Mettre le modèle en mode évaluation\n",
    "    correct = 0\n",
    "    total = 0\n",
    "    with torch.no_grad():\n",
    "        for images, labels in test_loader:\n",
    "            images = images.to(device)\n",
    "            labels = labels.to(device)\n",
    "            outputs = model(images)\n",
    "            _, predicted = torch.max(outputs.data, 1)\n",
    "            total += labels.size(0)\n",
    "            correct += (predicted == labels).sum().item()\n",
    "    accuracy = correct / total\n",
    "    print('Accuracy on test set: {:.2f}%'.format(100 * accuracy))"
   ]
  },
  {
   "cell_type": "code",
   "execution_count": 18,
   "id": "7019a425-eb5d-4e19-972e-51b578ae441c",
   "metadata": {},
   "outputs": [
    {
     "name": "stdout",
     "output_type": "stream",
     "text": [
      "Accuracy on test set: 47.35%\n"
     ]
    }
   ],
   "source": [
    "evaluate_model(model, dataloader)"
   ]
  },
  {
   "cell_type": "markdown",
   "id": "be8c5788-375e-456b-81a0-32989895e949",
   "metadata": {},
   "source": [
    "# ResNet"
   ]
  },
  {
   "cell_type": "code",
   "execution_count": 13,
   "id": "447de219-3765-4378-a5f3-be5c926db040",
   "metadata": {},
   "outputs": [
    {
     "name": "stderr",
     "output_type": "stream",
     "text": [
      "/home/sara/anaconda3/lib/python3.11/site-packages/torchvision/models/_utils.py:208: UserWarning: The parameter 'pretrained' is deprecated since 0.13 and may be removed in the future, please use 'weights' instead.\n",
      "  warnings.warn(\n",
      "/home/sara/anaconda3/lib/python3.11/site-packages/torchvision/models/_utils.py:223: UserWarning: Arguments other than a weight enum or `None` for 'weights' are deprecated since 0.13 and may be removed in the future. The current behavior is equivalent to passing `weights=None`.\n",
      "  warnings.warn(msg)\n"
     ]
    }
   ],
   "source": [
    "# Définition du modèle ResNet personnalisé\n",
    "class CustomResNet(nn.Module):\n",
    "    def __init__(self, num_classes):\n",
    "        super(CustomResNet, self).__init__()\n",
    "        resnet = models.resnet18(pretrained=False)  # Vous pouvez également choisir d'autres variantes comme resnet34, resnet50, etc.\n",
    "        # Modifier la première couche convolutive pour accepter les images en noir et blanc\n",
    "        # 1 canal d'entrée au lieu de 3 pour les images RGB\n",
    "        resnet.conv1 = nn.Conv2d(1, 64, kernel_size=7, stride=2, padding=3, bias=False)\n",
    "        self.features = nn.Sequential(*list(resnet.children())[:-1])  # Garder toutes les couches sauf la dernière couche (la couche de classification)\n",
    "        self.fc = nn.Linear(resnet.fc.in_features, num_classes)  # Remplacer la dernière couche de classification\n",
    "\n",
    "    def forward(self, x):\n",
    "        x = self.features(x)\n",
    "        x = torch.flatten(x, 1)\n",
    "        x = self.fc(x)\n",
    "        return x\n",
    "\n",
    "# Initialisation du modèle\n",
    "num_classes = 4  # Nombre de catégories de classification\n",
    "model = CustomResNet(num_classes).to(device)\n",
    "\n",
    "# Affichage de la structure du modèle\n",
    "# print(model)\n"
   ]
  },
  {
   "cell_type": "code",
   "execution_count": 18,
   "id": "1e7badbd-7613-47b8-86d1-53016cf3e6fc",
   "metadata": {},
   "outputs": [],
   "source": [
    "# net = ResNet18() #.to(device)\n",
    "criterion = nn.CrossEntropyLoss()\n",
    "optimizer = optim.SGD(model.parameters(), lr=0.2)\n",
    "num_epochs = 10"
   ]
  },
  {
   "cell_type": "code",
   "execution_count": 19,
   "id": "b7edb897-d59c-4990-9e3a-e9bc8adea716",
   "metadata": {},
   "outputs": [
    {
     "name": "stdout",
     "output_type": "stream",
     "text": [
      "Epoch [1/10], Training Loss: 0.8688442778587341, Time: 19.34782075881958\n",
      "Epoch [2/10], Training Loss: 0.7230511105060577, Time: 19.449200868606567\n",
      "Epoch [3/10], Training Loss: 0.609198137819767, Time: 19.58263063430786\n",
      "Epoch [4/10], Training Loss: 0.5019789217412471, Time: 19.526750326156616\n",
      "Epoch [5/10], Training Loss: 0.4341021481156349, Time: 19.562237977981567\n",
      "Epoch [6/10], Training Loss: 0.3556292250752449, Time: 19.56394338607788\n",
      "Epoch [7/10], Training Loss: 0.3088533405587077, Time: 19.56983709335327\n",
      "Epoch [8/10], Training Loss: 0.2398984222114086, Time: 19.572338342666626\n",
      "Epoch [9/10], Training Loss: 0.18597130995243788, Time: 19.541160821914673\n",
      "Epoch [10/10], Training Loss: 0.18793648100923746, Time: 19.602583169937134\n"
     ]
    }
   ],
   "source": [
    "df_train = compute_nn(train_loader, test_loader, model, num_epochs, criterion, optimizer)"
   ]
  },
  {
   "cell_type": "code",
   "execution_count": 20,
   "id": "4352665f-734d-47f6-98e7-586d8ccc226a",
   "metadata": {},
   "outputs": [
    {
     "data": {
      "text/html": [
       "<div>\n",
       "<style scoped>\n",
       "    .dataframe tbody tr th:only-of-type {\n",
       "        vertical-align: middle;\n",
       "    }\n",
       "\n",
       "    .dataframe tbody tr th {\n",
       "        vertical-align: top;\n",
       "    }\n",
       "\n",
       "    .dataframe thead th {\n",
       "        text-align: right;\n",
       "    }\n",
       "</style>\n",
       "<table border=\"1\" class=\"dataframe\">\n",
       "  <thead>\n",
       "    <tr style=\"text-align: right;\">\n",
       "      <th></th>\n",
       "      <th>epoch</th>\n",
       "      <th>train_loss</th>\n",
       "      <th>test_loss</th>\n",
       "      <th>accuracy_train</th>\n",
       "      <th>accuracy_test</th>\n",
       "      <th>execution_time</th>\n",
       "    </tr>\n",
       "  </thead>\n",
       "  <tbody>\n",
       "    <tr>\n",
       "      <th>0</th>\n",
       "      <td>0</td>\n",
       "      <td>0.868844</td>\n",
       "      <td>2.075264</td>\n",
       "      <td>0.669687</td>\n",
       "      <td>0.40125</td>\n",
       "      <td>21.423573</td>\n",
       "    </tr>\n",
       "    <tr>\n",
       "      <th>1</th>\n",
       "      <td>1</td>\n",
       "      <td>0.723051</td>\n",
       "      <td>1.407727</td>\n",
       "      <td>0.722187</td>\n",
       "      <td>0.57500</td>\n",
       "      <td>21.546521</td>\n",
       "    </tr>\n",
       "    <tr>\n",
       "      <th>2</th>\n",
       "      <td>2</td>\n",
       "      <td>0.609198</td>\n",
       "      <td>0.874879</td>\n",
       "      <td>0.760938</td>\n",
       "      <td>0.66500</td>\n",
       "      <td>21.695589</td>\n",
       "    </tr>\n",
       "    <tr>\n",
       "      <th>3</th>\n",
       "      <td>3</td>\n",
       "      <td>0.501979</td>\n",
       "      <td>1.246929</td>\n",
       "      <td>0.805937</td>\n",
       "      <td>0.47625</td>\n",
       "      <td>21.656091</td>\n",
       "    </tr>\n",
       "    <tr>\n",
       "      <th>4</th>\n",
       "      <td>4</td>\n",
       "      <td>0.434102</td>\n",
       "      <td>0.976579</td>\n",
       "      <td>0.832187</td>\n",
       "      <td>0.66875</td>\n",
       "      <td>21.649522</td>\n",
       "    </tr>\n",
       "    <tr>\n",
       "      <th>5</th>\n",
       "      <td>5</td>\n",
       "      <td>0.355629</td>\n",
       "      <td>1.264963</td>\n",
       "      <td>0.875625</td>\n",
       "      <td>0.62625</td>\n",
       "      <td>21.679035</td>\n",
       "    </tr>\n",
       "    <tr>\n",
       "      <th>6</th>\n",
       "      <td>6</td>\n",
       "      <td>0.308853</td>\n",
       "      <td>1.607942</td>\n",
       "      <td>0.886563</td>\n",
       "      <td>0.58875</td>\n",
       "      <td>21.661231</td>\n",
       "    </tr>\n",
       "    <tr>\n",
       "      <th>7</th>\n",
       "      <td>7</td>\n",
       "      <td>0.239898</td>\n",
       "      <td>0.894796</td>\n",
       "      <td>0.912813</td>\n",
       "      <td>0.69500</td>\n",
       "      <td>21.665115</td>\n",
       "    </tr>\n",
       "    <tr>\n",
       "      <th>8</th>\n",
       "      <td>8</td>\n",
       "      <td>0.185971</td>\n",
       "      <td>0.862388</td>\n",
       "      <td>0.932187</td>\n",
       "      <td>0.73000</td>\n",
       "      <td>21.634327</td>\n",
       "    </tr>\n",
       "    <tr>\n",
       "      <th>9</th>\n",
       "      <td>9</td>\n",
       "      <td>0.187936</td>\n",
       "      <td>0.899727</td>\n",
       "      <td>0.932187</td>\n",
       "      <td>0.76375</td>\n",
       "      <td>21.732261</td>\n",
       "    </tr>\n",
       "  </tbody>\n",
       "</table>\n",
       "</div>"
      ],
      "text/plain": [
       "   epoch  train_loss  test_loss  accuracy_train  accuracy_test  execution_time\n",
       "0      0    0.868844   2.075264        0.669687        0.40125       21.423573\n",
       "1      1    0.723051   1.407727        0.722187        0.57500       21.546521\n",
       "2      2    0.609198   0.874879        0.760938        0.66500       21.695589\n",
       "3      3    0.501979   1.246929        0.805937        0.47625       21.656091\n",
       "4      4    0.434102   0.976579        0.832187        0.66875       21.649522\n",
       "5      5    0.355629   1.264963        0.875625        0.62625       21.679035\n",
       "6      6    0.308853   1.607942        0.886563        0.58875       21.661231\n",
       "7      7    0.239898   0.894796        0.912813        0.69500       21.665115\n",
       "8      8    0.185971   0.862388        0.932187        0.73000       21.634327\n",
       "9      9    0.187936   0.899727        0.932187        0.76375       21.732261"
      ]
     },
     "execution_count": 20,
     "metadata": {},
     "output_type": "execute_result"
    }
   ],
   "source": [
    "df_train"
   ]
  },
  {
   "cell_type": "code",
   "execution_count": 17,
   "id": "ff918891-418f-4034-936e-1c61243cc9be",
   "metadata": {},
   "outputs": [],
   "source": [
    "\n",
    "# Charger le modèle AlexNet pré-entraîné\n",
    "# model = models.alexnet(pretrained=True)\n",
    "\n",
    "# Afficher l'architecture du modèle\n",
    "# print(model)"
   ]
  },
  {
   "cell_type": "code",
   "execution_count": null,
   "id": "23a3fad8-7cbb-4391-b894-12cb91cbb671",
   "metadata": {},
   "outputs": [],
   "source": []
  }
 ],
 "metadata": {
  "kernelspec": {
   "display_name": "Python 3 (ipykernel)",
   "language": "python",
   "name": "python3"
  },
  "language_info": {
   "codemirror_mode": {
    "name": "ipython",
    "version": 3
   },
   "file_extension": ".py",
   "mimetype": "text/x-python",
   "name": "python",
   "nbconvert_exporter": "python",
   "pygments_lexer": "ipython3",
   "version": "3.10.12"
  }
 },
 "nbformat": 4,
 "nbformat_minor": 5
}
