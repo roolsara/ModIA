{
 "cells": [
  {
   "cell_type": "code",
   "execution_count": 129,
   "id": "d840b630-374a-47dd-a2b8-2d331cf8e083",
   "metadata": {},
   "outputs": [],
   "source": [
    "import numpy as np\n",
    "import matplotlib.pyplot as plt"
   ]
  },
  {
   "cell_type": "markdown",
   "id": "fd0b558f-91ac-47bf-8d5b-aeb25d357887",
   "metadata": {},
   "source": [
    "# 1) Generate data"
   ]
  },
  {
   "cell_type": "code",
   "execution_count": 3,
   "id": "4792df9c-ee43-40d4-9357-b4c4432b2be9",
   "metadata": {},
   "outputs": [],
   "source": [
    "def generate_data(d,n,theta,sigma):\n",
    "    X = np.random.normal(0,1,size = (d,n))\n",
    "    B = np.random.normal(0, sigma**2, n)\n",
    "    Y = np.matmul(X.T,theta) + B\n",
    "    return X,Y"
   ]
  },
  {
   "cell_type": "markdown",
   "id": "0a008349-9942-4a02-8b97-cf600dc14c19",
   "metadata": {},
   "source": [
    "# 2) Risque moyen"
   ]
  },
  {
   "cell_type": "code",
   "execution_count": 79,
   "id": "28e7b818-fb08-4578-96aa-fa725875bed1",
   "metadata": {},
   "outputs": [],
   "source": [
    "def E(w, theta, sigma):\n",
    "    return (1/2)*np.linalg.norm(w-theta)**2 + (sigma**2)/2"
   ]
  },
  {
   "cell_type": "markdown",
   "id": "ea57cdfe-92d6-4e62-b260-4356cfeb6b27",
   "metadata": {},
   "source": [
    "# 3) Risque empirique"
   ]
  },
  {
   "cell_type": "code",
   "execution_count": 40,
   "id": "cd2d6f21-b3ab-4a6f-be88-ded2661b8ec4",
   "metadata": {},
   "outputs": [],
   "source": [
    "def En(w, X, Y):\n",
    "    return 1/(2*len(X))*np.linalg.norm(np.matmul(X.T, w)-Y)**2"
   ]
  },
  {
   "cell_type": "markdown",
   "id": "4693485f-7211-4f8b-9c00-8532de4656be",
   "metadata": {},
   "source": [
    "# 4) Gradient du risque empirique"
   ]
  },
  {
   "cell_type": "code",
   "execution_count": 2,
   "id": "54c2ded4-1447-409d-9efb-56f72a4264e7",
   "metadata": {},
   "outputs": [],
   "source": [
    "def grad_En(w,X,Y):\n",
    "    return np.matmul(X, np.matmul(X.T, w) - Y)/len(X)"
   ]
  },
  {
   "cell_type": "markdown",
   "id": "cd480839-5983-455e-b514-f486e70df542",
   "metadata": {},
   "source": [
    "# 5) Gradient stochastique suivant la loi uniforme"
   ]
  },
  {
   "cell_type": "code",
   "execution_count": 10,
   "id": "3552aeec-1bf2-4af2-b745-abaf584bf2bb",
   "metadata": {},
   "outputs": [],
   "source": [
    "def grad_sto_En(w, X , Y, n_batch):\n",
    "    I = np.random.uniform(0,len(X),n_batch)\n",
    "    k = 0\n",
    "    grad = np.zeros((len(X),n_batch))\n",
    "    for i in I:\n",
    "        grad[:, k] = grad_En(w, X[:,i], Y[i])\n",
    "        k = k+1\n",
    "    return grad"
   ]
  },
  {
   "cell_type": "markdown",
   "id": "81beae6e-53aa-4060-ac1d-1c628e657648",
   "metadata": {},
   "source": [
    "# 6) Constante de Lipschitz"
   ]
  },
  {
   "cell_type": "code",
   "execution_count": 5,
   "id": "9b7e5fd9-261d-4acb-bc9e-d49079a70252",
   "metadata": {},
   "outputs": [
    {
     "ename": "NameError",
     "evalue": "name 'np' is not defined",
     "output_type": "error",
     "traceback": [
      "\u001b[0;31m---------------------------------------------------------------------------\u001b[0m",
      "\u001b[0;31mNameError\u001b[0m                                 Traceback (most recent call last)",
      "Cell \u001b[0;32mIn[5], line 1\u001b[0m\n\u001b[0;32m----> 1\u001b[0m L \u001b[38;5;241m=\u001b[39m \u001b[43mnp\u001b[49m\u001b[38;5;241m.\u001b[39mlinalg\u001b[38;5;241m.\u001b[39mnorm(np\u001b[38;5;241m.\u001b[39mdot(X, X\u001b[38;5;241m.\u001b[39mT)\u001b[38;5;241m/\u001b[39m\u001b[38;5;28mlen\u001b[39m(X))\n\u001b[1;32m      2\u001b[0m L\n",
      "\u001b[0;31mNameError\u001b[0m: name 'np' is not defined"
     ]
    }
   ],
   "source": [
    "L = np.linalg.norm(np.dot(X, X.T)/len(X))\n",
    "L"
   ]
  },
  {
   "cell_type": "markdown",
   "id": "852ced95-167e-4d33-ae1b-ba2a9164e020",
   "metadata": {},
   "source": [
    "# 7) Méthode d'optim la plus efficace"
   ]
  },
  {
   "cell_type": "markdown",
   "id": "fbdf7dae-b326-4cbc-a54b-6b5b098c8806",
   "metadata": {},
   "source": [
    "Nous avons un problème des moindres carrés, le gradient conjugué serait pour moi la méthode la plus efficace."
   ]
  },
  {
   "cell_type": "markdown",
   "id": "15339ae5-668d-468b-8e69-88fde36fd4f6",
   "metadata": {},
   "source": [
    "pas plus petit que 2/L, lemme de descente"
   ]
  },
  {
   "cell_type": "markdown",
   "id": "a60a4b17-94dc-41a8-a2fa-d53b9f76e5fd",
   "metadata": {},
   "source": [
    "# 8) Descente de gradient à pas constant"
   ]
  },
  {
   "cell_type": "code",
   "execution_count": 123,
   "id": "588f3366-6f5f-4245-89f7-cf38e91a5eeb",
   "metadata": {},
   "outputs": [],
   "source": [
    "def descente_grad(X, Y, alpha, w0, itermax, theta, sigma):\n",
    "    iter = 0\n",
    "    w = w0\n",
    "    En_k = [En(w, X, Y)]\n",
    "    E_k = [E(w, theta, sigma)]\n",
    "    \n",
    "    while (iter < itermax):\n",
    "        w = w - alpha*grad_En(w, X,Y)\n",
    "        En_k.append(En(w, X, Y))\n",
    "        E_k.append(E(w, theta, sigma))\n",
    "        iter = iter + 1 \n",
    "    return w, En_k, E_k"
   ]
  },
  {
   "cell_type": "markdown",
   "id": "3f9f3301-53cc-4914-9b61-5e3531a75a96",
   "metadata": {},
   "source": [
    "# 9) Erreur d'approximation"
   ]
  },
  {
   "cell_type": "code",
   "execution_count": 3,
   "id": "08e1ddfa-7dd0-4f04-9a7d-c85d297c32db",
   "metadata": {},
   "outputs": [],
   "source": [
    "def erreur_approximation(w, theta):\n",
    "    erreur = np.linalg.norm(w - theta)\n",
    "    return erreur"
   ]
  },
  {
   "cell_type": "markdown",
   "id": "0191c250-90d8-4e67-9cdf-658dbb9260f6",
   "metadata": {},
   "source": [
    "# 10) Gradient stochastique à pas constant"
   ]
  },
  {
   "cell_type": "markdown",
   "id": "c933861e-1d3d-4194-aa9a-ee1a68666458",
   "metadata": {},
   "source": [
    "faire varier les lr"
   ]
  },
  {
   "cell_type": "code",
   "execution_count": 8,
   "id": "6306885b-2bc5-49af-9aed-258ba2e1d7fb",
   "metadata": {},
   "outputs": [],
   "source": [
    "def descente_grad_sto(X, Y, w0, itermax, theta, sigma, n_batch, alpha):\n",
    "    iter = 0\n",
    "    w = w0\n",
    "    En_k = [En(w, X, Y)]\n",
    "    E_k = [E(w, theta, sigma)]    \n",
    "    while (iter < itermax):\n",
    "        w = w - alpha*grad_sto_En(w, X , Y, n_batch)\n",
    "        En_k.append(En(w, X, Y))\n",
    "        E_k.append(E(w, theta, sigma))\n",
    "        iter = iter + 1 \n",
    "    return w, En_k, E_k"
   ]
  },
  {
   "cell_type": "markdown",
   "id": "0525b62e-5ecd-45da-8991-24edbb5c3604",
   "metadata": {},
   "source": [
    "# 11) Gradient stochastique à pas décroissant"
   ]
  },
  {
   "cell_type": "code",
   "execution_count": 9,
   "id": "02b953e9-8c7d-47f3-80bf-85e5a5b5b7c3",
   "metadata": {},
   "outputs": [],
   "source": [
    "def descente_grad_sto(X, Y, w0, itermax, theta, sigma, n_batch):\n",
    "    iter = 0\n",
    "    w = w0\n",
    "    En_k = [En(w, X, Y)]\n",
    "    E_k = [E(w, theta, sigma)]\n",
    "    alpha = 1\n",
    "    \n",
    "    while (iter < itermax):\n",
    "        alpha = 1 / srqt(iter) #mise à jour d'alpha avec beta qui est la vitesse de convergence\n",
    "        w = w - alpha*grad_sto_En(w, X , Y, n_batch)\n",
    "        En_k.append(En(w, X, Y))\n",
    "        E_k.append(E(w, theta, sigma))\n",
    "        iter = iter + 1 \n",
    "    return w, En_k, E_k"
   ]
  },
  {
   "cell_type": "markdown",
   "id": "6c134fe9-153d-49fe-a49f-511cfaec2d7c",
   "metadata": {},
   "source": [
    "# 12) Taux de convergence entre les deux gradient stochastiques"
   ]
  },
  {
   "cell_type": "markdown",
   "id": "acd04eb0-8fe6-48b7-ab1b-cd5ce0716f5d",
   "metadata": {},
   "source": [
    "jsp\n"
   ]
  },
  {
   "cell_type": "markdown",
   "id": "07034058-2784-4769-ab0a-afc71ee2944d",
   "metadata": {},
   "source": [
    "# 13) Gradient stochastique online"
   ]
  },
  {
   "cell_type": "markdown",
   "id": "d3abd4c5-7701-44ef-9c06-48854e127480",
   "metadata": {},
   "source": [
    "jsp"
   ]
  },
  {
   "cell_type": "markdown",
   "id": "d8831fde-122f-4c43-b67a-b0f3e8bf4049",
   "metadata": {},
   "source": [
    "# 14) Méthode SAGA"
   ]
  },
  {
   "cell_type": "code",
   "execution_count": 11,
   "id": "4b1e3669-08c7-4c84-85ca-b0738c1e4776",
   "metadata": {},
   "outputs": [],
   "source": [
    "def saga(X, Y, alpha, lambda_reg, w0, n_epochs, n_batch):\n",
    "    n_samples, n_features = X.shape\n",
    "    w = w0.copy()\n",
    "    gradient_memory = np.zeros((n_samples, n_features))\n",
    "    average_gradient = np.mean(gradient_memory, axis=0, keepdims=True)\n",
    "\n",
    "    for epoch in range(n_epochs):\n",
    "        for i in range(0, n_samples, n_batch):\n",
    "            gradient_batch = grad_sto_En(w, X, Y, n_batch)\n",
    "            gradient_memory[i:i+n_batch, :] = gradient_batch\n",
    "            average_gradient = np.mean(gradient_memory, axis=0, keepdims=True)\n",
    "            w = w - alpha * (average_gradient + lambda_reg * w.T)\n",
    "\n",
    "    return w"
   ]
  },
  {
   "cell_type": "code",
   "execution_count": null,
   "id": "1613ef1b-8ffe-4146-b081-10614e6f6cdc",
   "metadata": {},
   "outputs": [],
   "source": []
  },
  {
   "cell_type": "code",
   "execution_count": null,
   "id": "2939670c-ee8c-483b-8e2b-49d6d501b42e",
   "metadata": {},
   "outputs": [],
   "source": []
  },
  {
   "cell_type": "code",
   "execution_count": null,
   "id": "40fe9ec3-cf72-4f56-91d7-533f08a7794d",
   "metadata": {},
   "outputs": [],
   "source": [
    "X, Y = generate_data(d,n,theta, sigma)"
   ]
  },
  {
   "cell_type": "code",
   "execution_count": null,
   "id": "13a9caba-3d56-443e-8b8d-5eb0ab73d3b3",
   "metadata": {},
   "outputs": [],
   "source": [
    "d = 3\n",
    "n = 4\n",
    "theta = np.ones(d)\n",
    "sigma = 2\n",
    "w0 = np.ones(d)"
   ]
  },
  {
   "cell_type": "code",
   "execution_count": 124,
   "id": "8edef587-5253-4806-9a02-84c507257115",
   "metadata": {},
   "outputs": [],
   "source": [
    "w, En_k, E_k = descente_grad(X,Y, 0.1, w0, 100, theta, sigma)"
   ]
  },
  {
   "cell_type": "code",
   "execution_count": 130,
   "id": "33adb342-3ced-4bb5-bdca-eea77ebb9a34",
   "metadata": {},
   "outputs": [
    {
     "data": {
      "text/plain": [
       "[<matplotlib.lines.Line2D at 0x7f8755e890f0>]"
      ]
     },
     "execution_count": 130,
     "metadata": {},
     "output_type": "execute_result"
    },
    {
     "data": {
      "image/png": "[encoded data removed]",
      "text/plain": [
       "<Figure size 640x480 with 1 Axes>"
      ]
     },
     "metadata": {},
     "output_type": "display_data"
    }
   ],
   "source": [
    "plt.plot(En_k)\n"
   ]
  },
  {
   "cell_type": "code",
   "execution_count": 131,
   "id": "b113e68a-2dc3-41e5-92dd-37edcb341400",
   "metadata": {},
   "outputs": [
    {
     "data": {
      "text/plain": [
       "[<matplotlib.lines.Line2D at 0x7f8755ef6bf0>]"
      ]
     },
     "execution_count": 131,
     "metadata": {},
     "output_type": "execute_result"
    },
    {
     "data": {
      "image/png": "[encoded data removed]",
      "text/plain": [
       "<Figure size 640x480 with 1 Axes>"
      ]
     },
     "metadata": {},
     "output_type": "display_data"
    }
   ],
   "source": [
    "plt.plot(E_k)"
   ]
  },
  {
   "cell_type": "markdown",
   "id": "ae74b8d5-e43d-4414-aa9e-5fbc88d0a3b8",
   "metadata": {},
   "source": [
    "# Avec pytorch"
   ]
  },
  {
   "cell_type": "code",
   "execution_count": 13,
   "id": "4ef6ddf6-48c3-49e3-ae71-aa6b73789ed3",
   "metadata": {},
   "outputs": [
    {
     "ename": "ModuleNotFoundError",
     "evalue": "No module named 'torch'",
     "output_type": "error",
     "traceback": [
      "\u001b[0;31m---------------------------------------------------------------------------\u001b[0m",
      "\u001b[0;31mModuleNotFoundError\u001b[0m                       Traceback (most recent call last)",
      "Cell \u001b[0;32mIn[13], line 1\u001b[0m\n\u001b[0;32m----> 1\u001b[0m \u001b[38;5;28;01mimport\u001b[39;00m \u001b[38;5;21;01mtorch\u001b[39;00m\n\u001b[1;32m      2\u001b[0m \u001b[38;5;28;01mimport\u001b[39;00m \u001b[38;5;21;01mtorch\u001b[39;00m\u001b[38;5;21;01m.\u001b[39;00m\u001b[38;5;21;01mnn\u001b[39;00m \u001b[38;5;28;01mas\u001b[39;00m \u001b[38;5;21;01mnn\u001b[39;00m\n\u001b[1;32m      3\u001b[0m \u001b[38;5;28;01mimport\u001b[39;00m \u001b[38;5;21;01mtorch\u001b[39;00m\u001b[38;5;21;01m.\u001b[39;00m\u001b[38;5;21;01moptim\u001b[39;00m \u001b[38;5;28;01mas\u001b[39;00m \u001b[38;5;21;01moptim\u001b[39;00m\n",
      "\u001b[0;31mModuleNotFoundError\u001b[0m: No module named 'torch'"
     ]
    }
   ],
   "source": [
    "import torch\n",
    "import torch.nn as nn\n",
    "import torch.optim as optim\n",
    "\n",
    "def descente_gradient_stochastique_pytorch(X, Y, alpha, nb_epochs):\n",
    "    # Convertir les données en tenseurs PyTorch\n",
    "    X_tensor = torch.tensor(X, dtype=torch.float32)\n",
    "    Y_tensor = torch.tensor(Y, dtype=torch.float32).view(-1, 1)\n",
    "\n",
    "    # Initialiser les poids aléatoirement\n",
    "    w = torch.randn((X.shape[1], 1), requires_grad=True)\n",
    "\n",
    "    # Définir la fonction de perte (ici, la perte quadratique)\n",
    "    criterion = nn.MSELoss()\n",
    "\n",
    "    # Définir l'optimiseur (descente de gradient stochastique)\n",
    "    optimizer = optim.SGD([w], lr=alpha)\n",
    "\n",
    "    for epoch in range(nb_epochs):\n",
    "        # Mélanger les indices pour obtenir un ordre aléatoire\n",
    "        indices = torch.randperm(X_tensor.shape[0])\n",
    "\n",
    "        for i in indices:\n",
    "            x_i = X_tensor[i].view(1, -1)\n",
    "            y_i = Y_tensor[i]\n",
    "\n",
    "            # Calculer la perte\n",
    "            loss = criterion(x_i.mm(w), y_i)\n",
    "\n",
    "            # Calculer le gradient\n",
    "            loss.backward()\n",
    "\n",
    "            # Mettre à jour les poids\n",
    "            optimizer.step()\n",
    "\n",
    "            # Remettre les gradients à zéro\n",
    "            optimizer.zero_grad()\n",
    "\n",
    "    # Récupérer les poids optimaux\n",
    "    w_optimal = w.detach().numpy()\n",
    "\n",
    "    return w_optimal\n",
    "\n",
    "# Exemple d'utilisation\n",
    "# Assumez que X et Y soient vos données d'entraînement\n",
    "# X doit être une matrice de caractéristiques avec chaque ligne étant une observation\n",
    "# Y doit être un vecteur de labels correspondant\n",
    "\n",
    "# Définir des paramètres\n",
    "alpha = 0.01\n",
    "nb_epochs = 1000\n",
    "\n",
    "# Appel de la fonction de descente de gradient stochastique avec PyTorch\n",
    "w_optimal_pytorch = descente_gradient_stochastique_pytorch(X, Y, alpha, nb_epochs)\n",
    "\n",
    "# Afficher les poids optimaux\n",
    "print(\"Poids optimaux avec PyTorch :\", w_optimal_pytorch)\n"
   ]
  },
  {
   "cell_type": "code",
   "execution_count": null,
   "id": "19fd7a2d-1660-48ac-b817-9674ffb2fe1d",
   "metadata": {},
   "outputs": [],
   "source": []
  }
 ],
 "metadata": {
  "kernelspec": {
   "display_name": "Python 3 (ipykernel)",
   "language": "python",
   "name": "python3"
  },
  "language_info": {
   "codemirror_mode": {
    "name": "ipython",
    "version": 3
   },
   "file_extension": ".py",
   "mimetype": "text/x-python",
   "name": "python",
   "nbconvert_exporter": "python",
   "pygments_lexer": "ipython3",
   "version": "3.10.12"
  }
 },
 "nbformat": 4,
 "nbformat_minor": 5
}
