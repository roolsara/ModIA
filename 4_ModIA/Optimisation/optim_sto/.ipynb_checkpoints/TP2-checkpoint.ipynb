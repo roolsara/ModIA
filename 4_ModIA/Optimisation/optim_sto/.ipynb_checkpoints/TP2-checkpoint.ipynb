{
 "cells": [
  {
   "cell_type": "markdown",
   "metadata": {},
   "source": [
    "# TP 2: Image segmentation with Neural Network\n",
    "\n",
    "## Objective:\n",
    "- Introduction to Pytorch (see previous tutorial notebook)\n",
    "- Define a simple neural network\n",
    "- Define a training procedure\n",
    "- Compare difference optimization methods\n",
    "- Enhance your coding skills\n",
    "\n",
    "We consider an image as a function from $\\Omega$ to $\\mathbb{R}$, where $\\Omega$ is a discretization of the space $[0,1]^2$. In this notebook, we suppose that we can partition $\\Omega$ into $2$ regular domains $\\Omega_1$ and $\\Omega_2 = \\Omega /  \\Omega_1$.\n",
    "\n",
    "On each domain, we suppose that the image has different textures. We will generate these textures as stationary Gaussian processes:\n",
    "- We will first generate a Gaussian noise. \n",
    "- We will then convolve this noise with a filter which describes the covariance matrix of the process. \n",
    "\n"
   ]
  },
  {
   "attachments": {
    "image_partition1.png": {
     "image/png": "[encoded data removed]"
    },
    "image_processus1.png": {
     "image/png": "[encoded data removed]"
    }
   },
   "cell_type": "markdown",
   "metadata": {},
   "source": [
    "![image_processus1.png](attachment:image_processus1.png)\n",
    "![image_partition1.png](attachment:image_partition1.png)\n"
   ]
  },
  {
   "cell_type": "markdown",
   "metadata": {},
   "source": [
    "Above is an example of an image and its partition $\\Omega_1$ and $\\Omega_2$. The objective is from the image on the left, train a neural network to predict the mask on the right."
   ]
  },
  {
   "cell_type": "code",
   "execution_count": null,
   "metadata": {},
   "outputs": [],
   "source": [
    "import matplotlib.pyplot as plt\n",
    "import torch\n",
    "import torch.optim as optim\n",
    "import torch.nn as nn\n",
    "import torch.nn.functional as F\n",
    "import numpy as np"
   ]
  },
  {
   "cell_type": "markdown",
   "metadata": {},
   "source": [
    "Define your device and data type"
   ]
  },
  {
   "cell_type": "code",
   "execution_count": null,
   "metadata": {},
   "outputs": [],
   "source": [
    "device = torch.device('cuda' if torch.cuda.is_available() else 'cpu')\n",
    "dtype = torch.float32\n",
    "factory_kwargs = {'device': device, 'dtype': dtype}\n",
    "\n",
    "print(\"factory_kwargs: \", factory_kwargs)"
   ]
  },
  {
   "cell_type": "code",
   "execution_count": null,
   "metadata": {},
   "outputs": [],
   "source": [
    "torch.manual_seed(42)"
   ]
  },
  {
   "cell_type": "markdown",
   "metadata": {},
   "source": [
    "### Generating data"
   ]
  },
  {
   "cell_type": "markdown",
   "metadata": {},
   "source": [
    "The following function will generate a batch of data with shape `(batch_size, 1, image_size, image_size)`\n",
    "Take a look at this function and try to understand what it does. "
   ]
  },
  {
   "cell_type": "code",
   "execution_count": null,
   "metadata": {},
   "outputs": [],
   "source": [
    "def generate_data(batch_size: int, \n",
    "                  image_size: int = 128, \n",
    "                  sigma1: float = 1., \n",
    "                  sigma2: float = 0.2, \n",
    "                  sigma: float = 25,\n",
    "                  **factory_kwargs) -> torch.Tensor:\n",
    "    \n",
    "    # Defining a grid directly on device, without the need of calling `.to(device)` method,\n",
    "    # which is time consuming.\n",
    "    xs = torch.linspace(-image_size/2, image_size/2, image_size, **factory_kwargs)\n",
    "    ys = torch.linspace(-image_size/2, image_size/2, image_size, **factory_kwargs)\n",
    "\n",
    "    # The type of x,y below is automatically in device and dtype of x, y.\n",
    "    x, y = torch.meshgrid(xs, ys, indexing='xy')\n",
    "    \n",
    "    # Defining 4 Gaussian\n",
    "    g = torch.exp(-(x**2 + y**2) / (2 * sigma**2))\n",
    "    g = g / torch.sum(g)\n",
    "    \n",
    "    g1 = torch.exp(-(x**2 + y**2) / (2 * sigma1**2))\n",
    "    g1 = g1 / torch.sum(g1)\n",
    "\n",
    "    g2 = torch.exp(-(x**2 + y**2) / (2 * sigma2**2))\n",
    "    g2 = g2 / torch.sum(g2)\n",
    "\n",
    "    g3 = torch.exp(-(x**2 + y**2) / (2 * 1**2))\n",
    "    g3 = g3 / torch.sum(g3)\n",
    "    \n",
    "    # We define a random smooth partition\n",
    "    b = torch.randn(batch_size,1,image_size,image_size, **factory_kwargs)\n",
    "    gp = F.conv2d(b, g[None,None], padding = 'same')  # Convolution\n",
    "\n",
    "    omega_1 = gp > 0\n",
    "    omega_2 = ~omega_1\n",
    "    \n",
    "    # We define two Gaussian random processes with different statistics\n",
    "    b1 = torch.randn(batch_size,1,image_size,image_size, **factory_kwargs)\n",
    "    gp1 = F.conv2d(b1, g1[None,None], padding = 'same')\n",
    "    \n",
    "    b2 = torch.randn(batch_size,1,image_size,image_size, **factory_kwargs)\n",
    "    gp2 = F.conv2d(b2, g2[None,None], padding = 'same')\n",
    "    \n",
    "    # Now we put each process at the right place\n",
    "    image = gp1 * omega_1 + gp2 * omega_2\n",
    "    # We smooth the result to avoid having a jump at the interfaces\n",
    "    image =  F.conv2d(image, g3[None,None], padding = 'same')\n",
    "\n",
    "    # We normalize the image in to [0,1]\n",
    "    image = normalize_to_01(image)\n",
    "    \n",
    "    return image, omega_1.to(**factory_kwargs)\n",
    "    \n",
    "\n",
    "def normalize_to_01(input: torch.Tensor) -> torch.Tensor:\n",
    "    input -= input.amin(dim = (-2, -1), keepdim=True)\n",
    "    input /= input.amax(dim = (-2, -1), keepdim=True)\n",
    "    return input"
   ]
  },
  {
   "cell_type": "markdown",
   "metadata": {},
   "source": [
    "Let's take a look at the data and its structure"
   ]
  },
  {
   "cell_type": "code",
   "execution_count": null,
   "metadata": {},
   "outputs": [],
   "source": [
    "image, mask = generate_data(batch_size = 1, \n",
    "                            image_size=128,\n",
    "                            sigma1=0.2,\n",
    "                            sigma2=2.5, \n",
    "                            sigma=15, **factory_kwargs)\n",
    "\n",
    "fig, axes = plt.subplots(1, 2, figsize=(10, 5))\n",
    "axes[0].imshow(image[0].permute(1,2,0).detach().cpu().numpy())\n",
    "axes[1].imshow(mask[0].permute(1,2,0).detach().cpu().numpy())\n",
    "plt.show()"
   ]
  },
  {
   "cell_type": "code",
   "execution_count": null,
   "metadata": {},
   "outputs": [],
   "source": [
    "print(\"image.shape: \", image.shape)\n",
    "print(\"mask.shape: \", mask.shape)\n",
    "\n",
    "print(mask[0])"
   ]
  },
  {
   "cell_type": "markdown",
   "metadata": {},
   "source": [
    "A more efficient way to generate a 2D Gaussian is in following, let have a look at this function and try to understand the difference."
   ]
  },
  {
   "cell_type": "code",
   "execution_count": null,
   "metadata": {},
   "outputs": [],
   "source": [
    "def gaussian(image_size, sigma, **factory_kwargs):\n",
    "    linspace = torch.linspace(-image_size/2, image_size/2, image_size, **factory_kwargs)\n",
    "    distance = linspace[None,:] ** 2 + linspace[:,None] ** 2\n",
    "    \n",
    "    # Defining 4 Gaussian\n",
    "    g = torch.exp(-distance / (2 * sigma**2))\n",
    "    g = g / torch.sum(g)\n",
    "\n",
    "    return g"
   ]
  },
  {
   "cell_type": "markdown",
   "metadata": {},
   "source": [
    "## Define your neural network"
   ]
  },
  {
   "cell_type": "code",
   "execution_count": null,
   "metadata": {},
   "outputs": [],
   "source": [
    "class MyFirtsCNN(nn.Module):\n",
    "    def __init__(self, num_channels=16, kernel_size = 5, bias=True):\n",
    "        super().__init__()\n",
    "\n",
    "        self.activation = nn.ReLU()\n",
    "        self.bn = nn.BatchNorm2d(num_channels)\n",
    "        self.bias = bias\n",
    "        self.kernel_size = kernel_size\n",
    "        self.pad = int((self.kernel_size - 1) / 2)\n",
    "        self.conv1 = nn.Sequential(\n",
    "            nn.Conv2d(\n",
    "                in_channels=1,\n",
    "                out_channels=num_channels,\n",
    "                kernel_size=self.kernel_size,\n",
    "                stride=1,\n",
    "                padding=self.pad,\n",
    "                bias=bias,\n",
    "            ),\n",
    "            self.activation,\n",
    "            self.bn\n",
    "        )\n",
    "        self.conv2 = nn.Sequential(\n",
    "            nn.Conv2d(\n",
    "                in_channels=num_channels,\n",
    "                out_channels=num_channels,\n",
    "                kernel_size=self.kernel_size,\n",
    "                stride=1,\n",
    "                padding=self.pad,\n",
    "                bias=self.bias,\n",
    "            ),\n",
    "            self.activation,\n",
    "            self.bn\n",
    "        )\n",
    "        self.conv3 = nn.Sequential(\n",
    "            nn.Conv2d(\n",
    "                in_channels=num_channels,\n",
    "                out_channels=num_channels,\n",
    "                kernel_size=self.kernel_size,\n",
    "                stride=1,\n",
    "                padding=self.pad,\n",
    "                bias=self.bias,\n",
    "            ),\n",
    "            self.activation,\n",
    "            self.bn\n",
    "        )\n",
    "\n",
    "        self.out = nn.Conv2d(\n",
    "                in_channels=num_channels,\n",
    "                out_channels=1,\n",
    "                kernel_size=self.kernel_size,\n",
    "                stride=1,\n",
    "                padding=self.pad,\n",
    "                bias=self.bias,\n",
    "        )\n",
    "\n",
    "    def forward(self, x):\n",
    "        x1 = self.conv1(x)\n",
    "        x2 = self.conv2(x1)\n",
    "        x3 = self.conv3(x2)\n",
    "        output = torch.sigmoid(self.out(x3))\n",
    "        return output\n"
   ]
  },
  {
   "cell_type": "markdown",
   "metadata": {},
   "source": [
    "### Question: How many layers do we have in the network? What are the activation functions?"
   ]
  },
  {
   "cell_type": "markdown",
   "metadata": {},
   "source": [
    "### Question : Explain why we have a `sigmoid` activation at the end of the network? Write the training optimization problem."
   ]
  },
  {
   "cell_type": "code",
   "execution_count": null,
   "metadata": {},
   "outputs": [],
   "source": [
    "model = MyFirtsCNN(num_channels=16, kernel_size = 5)"
   ]
  },
  {
   "cell_type": "markdown",
   "metadata": {},
   "source": [
    "Let see how many parameters you have in your model."
   ]
  },
  {
   "cell_type": "code",
   "execution_count": null,
   "metadata": {},
   "outputs": [],
   "source": [
    "def count_parameters(model):\n",
    "    return sum(p.numel() for p in model.parameters() if p.requires_grad)\n",
    "\n",
    "print(\"Number of parameters: \", count_parameters(model))"
   ]
  },
  {
   "cell_type": "code",
   "execution_count": null,
   "metadata": {},
   "outputs": [],
   "source": [
    "\n",
    "# By default, the model (i.e., the trainable parameters) is stored in CPU\n",
    "print(next(model.parameters()).device)\n",
    "# You have to push your to GPU if you want to use GPU\n",
    "model = model.to(device)\n",
    "print(next(model.parameters()).device)\n"
   ]
  },
  {
   "cell_type": "markdown",
   "metadata": {},
   "source": [
    "### Question: Verify your model output shape? The link with the input shape?"
   ]
  },
  {
   "cell_type": "code",
   "execution_count": null,
   "metadata": {},
   "outputs": [],
   "source": [
    "print(\"Input shape: \", image.shape)\n",
    "... "
   ]
  },
  {
   "cell_type": "markdown",
   "metadata": {},
   "source": [
    "## Define your optimization algorithm"
   ]
  },
  {
   "cell_type": "markdown",
   "metadata": {},
   "source": [
    "The optimization algorithms are defined in `torch.optim`. We need to pass all the trainable parameters to the optimizer, along with other hyperparameters such as the learning rate, ..."
   ]
  },
  {
   "cell_type": "code",
   "execution_count": null,
   "metadata": {},
   "outputs": [],
   "source": [
    "optimizer = torch.optim.SGD(model.parameters(), lr=0.001)"
   ]
  },
  {
   "cell_type": "markdown",
   "metadata": {},
   "source": [
    "## Training the model"
   ]
  },
  {
   "cell_type": "markdown",
   "metadata": {},
   "source": [
    "Define your training hyperparameters"
   ]
  },
  {
   "cell_type": "code",
   "execution_count": null,
   "metadata": {},
   "outputs": [],
   "source": [
    "from tqdm.auto import tqdm"
   ]
  },
  {
   "cell_type": "markdown",
   "metadata": {},
   "source": [
    "Below is an example of how to train a neural network. Look at these line of code carefully and understand what is does. "
   ]
  },
  {
   "cell_type": "code",
   "execution_count": null,
   "metadata": {},
   "outputs": [],
   "source": [
    "num_train_iteration = 10000\n",
    "batch_size = 8\n",
    "display_prediction_every = 1000\n",
    "image_size = 128\n",
    "sigma1 = 0.2\n",
    "sigma2 = 1.2\n",
    "sigma = image_size / 5\n",
    "\n",
    "\n",
    "t = tqdm(range(num_train_iteration))\n",
    "avg_loss = 0\n",
    "loss_tracking = []\n",
    "\n",
    "for i in t:\n",
    "    x, omega_1 = generate_data(batch_size, image_size, sigma1, sigma2, sigma, **factory_kwargs)\n",
    "\n",
    "    # Step 1: ...\n",
    "    optimizer.zero_grad()\n",
    "\n",
    "    # Step 2: ...\n",
    "    predicted_omega_1 = model(x)\n",
    "\n",
    "    # Step 3:...\n",
    "    loss = torch.mean((predicted_omega_1 - omega_1) ** 2 )\n",
    "\n",
    "    # Step 4:...\n",
    "    loss.backward()\n",
    "\n",
    "    # Step 5:...\n",
    "    optimizer.step()\n",
    "\n",
    "    # Tracking \n",
    "    avg_loss += loss.item()\n",
    "    loss_tracking.append(avg_loss / (i + 1))\n",
    "    t.set_description(f\"Iteration: {i + 1}, Loss: {avg_loss / (i + 1):.4e}\")\n",
    "\n",
    "    if (i + 1) % display_prediction_every == 0:\n",
    "        # Turn off the gradient tracking for better performance\n",
    "        # since we don't need to track the gradients for this step\n",
    "        with torch.no_grad():\n",
    "            fig, axes = plt.subplots(1, 3, figsize=(15, 5))\n",
    "            \n",
    "            axes[0].imshow(x[0,0].detach().cpu().numpy())\n",
    "            axes[0].set_title(\"Input image\")\n",
    "\n",
    "            axes[1].imshow(omega_1[0,0].detach().cpu().numpy())\n",
    "            axes[1].set_title(\"True mask\")\n",
    "\n",
    "            axes[2].imshow(predicted_omega_1[0,0].detach().cpu().numpy())\n",
    "            axes[2].set_title(\"Predicted mask\")\n",
    "            plt.suptitle(\"Iteration: {}\".format(i + 1))\n",
    "            plt.show()"
   ]
  },
  {
   "cell_type": "markdown",
   "metadata": {},
   "source": [
    "#### Question: What is the loss function used here? If you have any idea about the loss function, don't hesitate to change it."
   ]
  },
  {
   "cell_type": "markdown",
   "metadata": {},
   "source": [
    "See the evolution of the average loss over the training process."
   ]
  },
  {
   "cell_type": "code",
   "execution_count": null,
   "metadata": {},
   "outputs": [],
   "source": [
    "plt.plot(loss_tracking)\n",
    "plt.xlabel(\"Iteration\")\n",
    "plt.ylabel(\"Loss\")\n",
    "\n",
    "plt.show()"
   ]
  },
  {
   "cell_type": "markdown",
   "metadata": {},
   "source": [
    "If you are satisfied with the result, save your model:"
   ]
  },
  {
   "cell_type": "code",
   "execution_count": null,
   "metadata": {},
   "outputs": [],
   "source": [
    "state_dict = model.state_dict()\n",
    "torch.save(state_dict, \"best_model.pt\")"
   ]
  },
  {
   "cell_type": "markdown",
   "metadata": {},
   "source": [
    "## Practical section: Train your best model\n",
    "See the influence of each parameter:\n",
    "- `sigma1`, `sigma2` and `sigma` are parameters which difine the difficulty of the problem.\n",
    "\n",
    "And\n",
    "\n",
    "- Try different optimizers and learning rates (see `torch.optim` in [this link](https://pytorch.org/docs/stable/optim.html#algorithms) ). Compare the performance. \n",
    "- What happens if the learning rate is too large? too small?\n",
    "- How to evaluate the performance of your model?\n",
    "- With a limit training time, try to train your best model.\n"
   ]
  },
  {
   "cell_type": "code",
   "execution_count": null,
   "metadata": {},
   "outputs": [],
   "source": []
  },
  {
   "cell_type": "markdown",
   "metadata": {},
   "source": []
  }
 ],
 "metadata": {
  "kernelspec": {
   "display_name": "dev",
   "language": "python",
   "name": "python3"
  },
  "language_info": {
   "codemirror_mode": {
    "name": "ipython",
    "version": 3
   },
   "file_extension": ".py",
   "mimetype": "text/x-python",
   "name": "python",
   "nbconvert_exporter": "python",
   "pygments_lexer": "ipython3",
   "version": "3.10.13"
  }
 },
 "nbformat": 4,
 "nbformat_minor": 2
}
