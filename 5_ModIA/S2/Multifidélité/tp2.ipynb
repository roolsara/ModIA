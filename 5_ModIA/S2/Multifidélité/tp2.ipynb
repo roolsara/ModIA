{
 "cells": [
  {
   "cell_type": "code",
   "execution_count": 1,
   "id": "3966d7a9",
   "metadata": {},
   "outputs": [],
   "source": [
    "import numpy as np\n",
    "from numpy.random import Generator, PCG64\n",
    "import matplotlib.pyplot as plt\n",
    "import math\n",
    "import time\n",
    "from heateq import Exact, Simulateur"
   ]
  },
  {
   "cell_type": "code",
   "execution_count": 2,
   "id": "1ac5f558",
   "metadata": {},
   "outputs": [],
   "source": [
    "seed = 213731490053398181466621250222036675538\n",
    "rng = Generator(PCG64(seed))"
   ]
  },
  {
   "cell_type": "code",
   "execution_count": 3,
   "id": "895605ce-9297-4607-a1b7-c18e90ac7e21",
   "metadata": {},
   "outputs": [],
   "source": [
    "# Permet d'obtenir un n-échantillon du vecteur aléatoire d'entrée X\n",
    "def n_echantillon_X(n):\n",
    "    return np.vstack(\n",
    "        (\n",
    "            rng.uniform(-math.pi, math.pi, (3, n)),\n",
    "            rng.uniform(0.001, 0.009, (1, n)), \n",
    "            rng.uniform(-1., 1., (3, n))\n",
    "        )\n",
    "    )"
   ]
  },
  {
   "cell_type": "code",
   "execution_count": 4,
   "id": "30bb11d0",
   "metadata": {},
   "outputs": [],
   "source": [
    "# Simulateurs haute et basse fidélité\n",
    "f = Simulateur(21, 100)\n",
    "g = Simulateur(3, 20)"
   ]
  },
  {
   "cell_type": "code",
   "execution_count": 5,
   "id": "bd707c2e",
   "metadata": {},
   "outputs": [
    {
     "name": "stdout",
     "output_type": "stream",
     "text": [
      "41.98447216482205\n",
      "41.916465294707976\n",
      "33.03617206344313\n"
     ]
    }
   ],
   "source": [
    "# Espérance exacte de la solution continue\n",
    "mu_exact = Exact().mu\n",
    "print(mu_exact)\n",
    "\n",
    "# Espérance exacte de Y = f(X) (solution discrétisée, haute fidélité)\n",
    "mu_Y_exact = f.mu\n",
    "print(mu_Y_exact)\n",
    "\n",
    "# Espérance exacte de Z = g(X) (solution discrétisée, basse fidélité)\n",
    "mu_Z_exact = g.mu\n",
    "print(mu_Z_exact)"
   ]
  },
  {
   "cell_type": "markdown",
   "id": "910d011b",
   "metadata": {},
   "source": [
    "# Espérance $\\mu_Z$ connue\n",
    "\n",
    "On considère $\\mu_Z$ connue. Elle est donnée par la variable `mu_Z_exact`.\n",
    "\n",
    "## Paramètre optimal $\\alpha^*$ indépendant (précalculé)\n",
    "Estimer $\\alpha^*$ de manière indépendante (avec, par exemple, un échantilon de taille `p = 1000`), puis $\\rho^2$, et en déduire $\\beta=(1+w)(1-\\rho^2)$. L'utiliser pour contruire un estimateur par variable de contrôle pour l'espérance de $Y$. Faire `nr = 1000` répétitions pour des budgets $\\tilde{n} \\in \\{5; 10; 20; 50; 100; 200; 500; 1000\\}$.\n",
    "\n",
    "Estimer la réduction de variance à budget équivalent entre l'estimateur par variable de contrôle et l'estimateur Monte Carlo classique (haute fidélité). Est-elle conforme à la valeur de $\\beta$ calculée précédemment ?\n",
    "\n",
    "Tracer l'espérance et l'écart-type des estimateurs par variable de contrôle et Monte Carlo (haute fidélité) à budget équivalent en fonction de $\\tilde{n}$. Sur un autre graphe, tracer l'évolution de l'écart-type des estimateurs en fonction de $\\tilde{n}$."
   ]
  },
  {
   "cell_type": "code",
   "execution_count": 19,
   "id": "d781f53c-ae64-441d-9b5f-d426b4d66adf",
   "metadata": {},
   "outputs": [
    {
     "name": "stdout",
     "output_type": "stream",
     "text": [
      "alpha_opti :  1.0133775841094141\n",
      "rho_square : 0.9887840961712387\n",
      "beta :  0.011644952837586521\n",
      "42.033919222866956\n"
     ]
    }
   ],
   "source": [
    "p = 1000\n",
    "X = n_echantillon_X(p)\n",
    "tf_start = time.process_time() \n",
    "Y = f(X)\n",
    "tf_stop = time.process_time()\n",
    "cf = tf_start - tf_stop\n",
    "\n",
    "tg_start = time.process_time() \n",
    "Z = g(X)\n",
    "tg_stop = time.process_time()\n",
    "cg = tg_start - tg_stop\n",
    "\n",
    "alpha_opti = np.cov(Y, Z)[0,1]/np.var(Z)\n",
    "print('alpha_opti : ', alpha_opti)\n",
    "rho_square = np.cov(Y, Z)[0,1]**2/(np.var(Z)*np.var(Y))\n",
    "print('rho_square :', rho_square)\n",
    "omega = cg/cf\n",
    "beta = (1+omega)*(1-rho_square)\n",
    "print('beta : ', beta)\n",
    "\n",
    "Y_estim = np.mean(Y) - alpha_opti*(np.mean(Z) - mu_Z_exact)\n",
    "print(Y_estim)"
   ]
  },
  {
   "cell_type": "code",
   "execution_count": 41,
   "id": "b756b292-8780-4f5f-ab89-23c1e3e4bfbe",
   "metadata": {},
   "outputs": [
    {
     "name": "stdout",
     "output_type": "stream",
     "text": [
      "5\n",
      "10\n",
      "20\n",
      "50\n",
      "100\n",
      "200\n",
      "1000\n"
     ]
    }
   ],
   "source": [
    "nr = 1000\n",
    "budgets = [5, 10, 20, 50, 100, 200, 1000]\n",
    "list_mean_f_bugdet = []\n",
    "list_mean_y_estim_budget = []\n",
    "list_var_f_budget = []\n",
    "list_var_y_estim_budget = []\n",
    "betas_var = []\n",
    "betas_formula = []\n",
    "\n",
    "for n_tilde in budgets:\n",
    "    print(n_tilde)\n",
    "    list_mean_f_nr = []\n",
    "    list_mean_y_estim_nr = []\n",
    "    list_var_f_nr = []\n",
    "    list_var_y_estim_nr = []\n",
    "    betas_formula_nr = []\n",
    "    \n",
    "    for i in range(nr):\n",
    "        X = n_echantillon_X(n_tilde)\n",
    "        tf_start = time.process_time() \n",
    "        Y = f(X)\n",
    "        tf_stop = time.process_time()\n",
    "        cf = tf_start - tf_stop\n",
    "        \n",
    "        tg_start = time.process_time() \n",
    "        Z = g(X)\n",
    "        tg_stop = time.process_time()\n",
    "        cg = tg_start - tg_stop\n",
    "\n",
    "        omega = cg/cf\n",
    "\n",
    "        alpha_opti = np.cov(Y, Z)[0,1]/np.var(Z)\n",
    "        Y_estim = np.mean(Y) - alpha_opti*(np.mean(Z) - mu_Z_exact)\n",
    "        rho_square = np.cov(Y, Z)[0,1]**2/(np.var(Z)*np.var(Y))\n",
    "        list_mean_y_estim_nr.append(Y_estim)\n",
    "        list_var_y_estim_nr.append(Y_estim)\n",
    "        betas_formula_nr.append((1+omega)*(1-rho_square))\n",
    "\n",
    "\n",
    "        n = math.floor(n_tilde/(1+omega))\n",
    "        X_f = n_echantillon_X(n)\n",
    "        Y_f = f(X_f)\n",
    "        list_mean_f_nr.append(np.mean(Y_f))\n",
    "        list_var_f_nr.append(np.mean(Y_f))\n",
    "\n",
    "    betas_formula.append(np.mean(betas_formula_nr))\n",
    "    list_mean_f_bugdet.append(np.mean(list_mean_f_nr))\n",
    "    list_mean_y_estim_budget.append(np.mean(list_mean_y_estim_nr))\n",
    "    list_var_f_budget.append(np.var(list_var_f_nr))\n",
    "    list_var_y_estim_budget.append(np.var(list_var_y_estim_nr))\n",
    "    betas_var.append(np.var(list_var_y_estim_nr)/np.var(list_var_f_nr))\n",
    "        "
   ]
  },
  {
   "cell_type": "code",
   "execution_count": 42,
   "id": "7b0a7fec-6d0c-4bbc-ad4c-09ffb688cb1e",
   "metadata": {},
   "outputs": [
    {
     "data": {
      "image/png": "[encoded data removed]",
      "text/plain": [
       "<Figure size 1500x500 with 2 Axes>"
      ]
     },
     "metadata": {},
     "output_type": "display_data"
    }
   ],
   "source": [
    "fig, axs = plt.subplots(1,2, figsize=(15,5))\n",
    "axs[0].errorbar(budgets, list_mean_f_bugdet, yerr=np.sqrt(list_var_f_budget), fmt='o', color='b', capsize=5, label = 'Haute fidélité')\n",
    "axs[0].errorbar(budgets, list_mean_y_estim_budget, yerr=np.sqrt(list_var_y_estim_budget), fmt='o', color='r', capsize=5, label = 'Estimateur')\n",
    "axs[0].set_xscale('log')  # Appliquer l'échelle logarithmique\n",
    "axs[1].plot(budgets, betas_var, label = 'beta_var', color = 'r')\n",
    "axs[1].plot(budgets, betas_formula, label = 'beta_formula', color = 'b')\n",
    "axs[1].set_xscale('log') \n",
    "# axs[1].set_yscale('log')  \n",
    "\n",
    "for ax in axs:\n",
    "    ax.legend()\n",
    "plt.show()"
   ]
  },
  {
   "cell_type": "markdown",
   "id": "e2c88e43",
   "metadata": {},
   "source": [
    "## Paramètre optimal $\\alpha^*$ estimé à la volée\n",
    "Renouveler l'expérience avec $\\alpha^*$ estimé avec les échantillons disponibles pour l'estimation par variable de contrôle.\n",
    "\n",
    "Tracer les mêmes graphes que précédemment. L'estimation de $\\alpha^*$ à la volée induit-elle un biais et/ou une dégradation de la réduction de variance ?"
   ]
  },
  {
   "cell_type": "markdown",
   "id": "85880da3-9bb4-4cfd-8fe0-8723ec6deea5",
   "metadata": {},
   "source": [
    "## Métamodèle\n",
    "\n",
    "Mêmes questions en utilisant un métamodèle comme simulateur basse fidélité.\n",
    "Voir, par exemple, https://openturns.github.io/openturns/latest/auto_meta_modeling/kriging_metamodel/plot_kriging.html"
   ]
  },
  {
   "cell_type": "code",
   "execution_count": null,
   "id": "c263bd23-8f50-4185-968b-394db51052b0",
   "metadata": {},
   "outputs": [],
   "source": [
    "import openturns as ot"
   ]
  },
  {
   "cell_type": "code",
   "execution_count": null,
   "id": "2f816fe3-1bae-4141-89c3-0f5a7f7a781b",
   "metadata": {},
   "outputs": [],
   "source": [
    "# pour faciliter l'évaluation de la même manière que nos simulateurs\n",
    "class ScalarModel_from_ot:\n",
    "    def __init__(self, ot_model):\n",
    "        self.ot_model = ot_model\n",
    "\n",
    "    def __call__(self, xi):\n",
    "        return np.array(self.ot_model(xi.T))[:,0]"
   ]
  },
  {
   "cell_type": "code",
   "execution_count": null,
   "id": "c7b7857d-151f-43d0-a567-482af76d5f84",
   "metadata": {},
   "outputs": [],
   "source": [
    "n_doe = 1000\n",
    "X_doe = n_echantillon_X(n_doe)\n",
    "Y_doe = f(X_doe)\n",
    "dimension = X_doe.shape[0]"
   ]
  },
  {
   "cell_type": "code",
   "execution_count": null,
   "id": "28f756bb-65a3-4328-a42d-b05e396fce13",
   "metadata": {},
   "outputs": [],
   "source": [
    "basis = ot.ConstantBasisFactory(dimension).build()\n",
    "covarianceModel = ot.MaternModel([1.0] * dimension, 1.5)\n",
    "algo = ot.KrigingAlgorithm(X_doe.T, Y_doe[:,None], covarianceModel, basis) # conversion to OpenTurns data structure\n",
    "algo.run()\n",
    "res = algo.getResult()\n",
    "g_mm = ScalarModel_from_ot( res.getMetaModel() )"
   ]
  },
  {
   "cell_type": "markdown",
   "id": "05ada0a4-ea0e-423b-9778-e19fdf90c6cd",
   "metadata": {},
   "source": [
    "## Plusieurs variables de contrôle\n",
    "\n",
    "Combiner plusieurs simulateurs basse fidélité (supposer $\\mu_Z$ connue), et estimer $R^2$."
   ]
  }
 ],
 "metadata": {
  "kernelspec": {
   "display_name": "Python 3 (ipykernel)",
   "language": "python",
   "name": "python3"
  },
  "language_info": {
   "codemirror_mode": {
    "name": "ipython",
    "version": 3
   },
   "file_extension": ".py",
   "mimetype": "text/x-python",
   "name": "python",
   "nbconvert_exporter": "python",
   "pygments_lexer": "ipython3",
   "version": "3.11.7"
  }
 },
 "nbformat": 4,
 "nbformat_minor": 5
}
