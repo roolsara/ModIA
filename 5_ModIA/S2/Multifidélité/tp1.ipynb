{
 "cells": [
  {
   "cell_type": "markdown",
   "id": "9971f289-1d73-4508-bea9-795cbcc7a958",
   "metadata": {},
   "source": [
    "TP1 : expériences préliminaires\n",
    "==============================="
   ]
  },
  {
   "cell_type": "code",
   "execution_count": 1,
   "id": "3966d7a9",
   "metadata": {},
   "outputs": [],
   "source": [
    "import numpy as np\n",
    "from numpy.random import Generator, PCG64\n",
    "import matplotlib.pyplot as plt\n",
    "import math\n",
    "import time\n",
    "from heateq import Exact, Simulateur"
   ]
  },
  {
   "cell_type": "code",
   "execution_count": 2,
   "id": "1ac5f558",
   "metadata": {},
   "outputs": [],
   "source": [
    "seed = 213731490053398181466621250222036675538\n",
    "rng = Generator(PCG64(seed))"
   ]
  },
  {
   "cell_type": "code",
   "execution_count": 3,
   "id": "ee921aad",
   "metadata": {},
   "outputs": [],
   "source": [
    "# Permet d'obtenir un n-échantillon du vecteur aléatoire d'entrée X\n",
    "def n_echantillon_X(n):\n",
    "    return np.vstack(\n",
    "        (\n",
    "            rng.uniform(-math.pi, math.pi, (3, n)),\n",
    "            rng.uniform(0.001, 0.009, (1, n)), \n",
    "            rng.uniform(-1., 1., (3, n))\n",
    "        )\n",
    "    )"
   ]
  },
  {
   "cell_type": "code",
   "execution_count": 4,
   "id": "30bb11d0",
   "metadata": {},
   "outputs": [],
   "source": [
    "# Simulateurs haute et basse fidélité\n",
    "f = Simulateur(21, 100)\n",
    "g = Simulateur(3, 20)"
   ]
  },
  {
   "cell_type": "code",
   "execution_count": 5,
   "id": "bd707c2e",
   "metadata": {},
   "outputs": [
    {
     "name": "stdout",
     "output_type": "stream",
     "text": [
      "41.98447216482205\n",
      "41.916465294707976\n",
      "33.03617206344313\n"
     ]
    }
   ],
   "source": [
    "# Espérance exacte de la solution continue\n",
    "mu_exact = Exact().mu\n",
    "print(mu_exact)\n",
    "\n",
    "# Espérance exacte de Y = f(X) (solution discrétisée, haute fidélité)\n",
    "mu_Y_exact = f.mu\n",
    "print(mu_Y_exact)\n",
    "\n",
    "# Espérance exacte de Z = g(X) (solution discrétisée, basse fidélité)\n",
    "mu_Z_exact = g.mu\n",
    "print(mu_Z_exact)"
   ]
  },
  {
   "cell_type": "markdown",
   "id": "dfaa9b99-8f67-4c56-aff6-1f6a5d530057",
   "metadata": {},
   "source": [
    "# Expériences numériques"
   ]
  },
  {
   "cell_type": "markdown",
   "id": "1c5c8216",
   "metadata": {},
   "source": [
    "Déduire de `mu_exact`, `mu_Y_exact` et `mu_Z_exact` le biais de l'estimateur Monte Carlo classique de l'espérance de $f(\\mathbf{X})$ et $g(\\mathbf{X})$.\n",
    "\n",
    "Lancer les simulateurs sur un nombre élevé de réalisations (par exemple 50000 ou 100000 si la mémoire de votre ordinateur le permet).\n",
    "\n",
    "Les simulateurs `f` et `g` peuvent être évalués par exemple `f(X)` et `g(X)`.\n",
    "\n",
    "Estimer $w=\\dfrac{\\mathbb{E}[\\operatorname{cost}(g(\\mathbf{X}))]}{\\mathbb{E}[\\operatorname{cost}(f(\\mathbf{X}))]}$. Vous pouvez utiliser, par exemple, la fonction `time.process_time()`. Est-ce consistant avec la valeur attendue ?"
   ]
  },
  {
   "cell_type": "markdown",
   "id": "4a3e1500-0bbf-4dcf-8a12-0221c1ca2564",
   "metadata": {},
   "source": [
    "## biais"
   ]
  },
  {
   "cell_type": "code",
   "execution_count": 6,
   "id": "54a7fab7-b58c-4510-8306-facaa91c243a",
   "metadata": {},
   "outputs": [
    {
     "name": "stdout",
     "output_type": "stream",
     "text": [
      "biais f(x) :  0.06800687011407547\n",
      "biais g(x) :  8.94830010137892\n"
     ]
    }
   ],
   "source": [
    "print('biais f(x) : ', mu_exact - mu_Y_exact)\n",
    "print('biais g(x) : ', mu_exact - mu_Z_exact)"
   ]
  },
  {
   "cell_type": "markdown",
   "id": "8d35c79a-8ffc-4be4-92e9-0baa6ce17b79",
   "metadata": {},
   "source": [
    "## cost"
   ]
  },
  {
   "cell_type": "code",
   "execution_count": 7,
   "id": "8b999e2f",
   "metadata": {},
   "outputs": [],
   "source": [
    "n = 100000\n",
    "X = n_echantillon_X(n)"
   ]
  },
  {
   "cell_type": "code",
   "execution_count": 8,
   "id": "cc6b075b-059c-4774-9c7d-8005334351a4",
   "metadata": {},
   "outputs": [
    {
     "name": "stdout",
     "output_type": "stream",
     "text": [
      "w :  0.019844802575201517\n",
      "time g :  0.030139458999999924\n",
      "time f :  1.5187583189999998\n"
     ]
    }
   ],
   "source": [
    "tf_start = time.process_time() \n",
    "f(X)\n",
    "tf_stop = time.process_time()\n",
    "\n",
    "tg_start = time.process_time() \n",
    "g(X)\n",
    "tg_stop = time.process_time()\n",
    "\n",
    "print('w : ', (tg_stop -tg_start)/(tf_stop -tf_start))\n",
    "print('time g : ', (tg_stop -tg_start))\n",
    "print('time f : ', (tf_stop -tf_start))"
   ]
  },
  {
   "cell_type": "markdown",
   "id": "b0f659b6-d772-443a-aa2f-c565af8c0a5f",
   "metadata": {},
   "source": [
    "w = 3*20/21*100 =environ 0.029"
   ]
  },
  {
   "cell_type": "markdown",
   "id": "94b5ad75",
   "metadata": {},
   "source": [
    "Pour $n \\in \\{10; 20; 50; 100; 200; 500; 1000; 2000; 5000; 10000\\}$, estimer `nr = 500` fois la moyenne empirique (Monte Carlo) de $Y=f(\\mathbf{X})$, $Z=g(\\mathbf{X})$ et estimer l'espéance, l'écart-type et la racine de l'erreur quadratique moyenne (REQM) des estimateurs.\n",
    "\n",
    "Tracer l'espérance et l'écart-type des estimateurs haute et basse fidélité en fonction de $n$. Sur un autre graphe, tracer l'évolution de la REQM des estimateurs en fonction de $n$."
   ]
  },
  {
   "cell_type": "code",
   "execution_count": 9,
   "id": "ddcdd6b9",
   "metadata": {},
   "outputs": [],
   "source": [
    "nr = 500\n",
    "n_samples = [5, 10, 20, 50, 100, 200, 1000, 2000, 5000, 10000]\n",
    "# n_samples = [5, 10]"
   ]
  },
  {
   "cell_type": "code",
   "execution_count": 15,
   "id": "f478b4cd-2ecc-45f9-b322-60e7a4484ab3",
   "metadata": {},
   "outputs": [
    {
     "name": "stdout",
     "output_type": "stream",
     "text": [
      "5\n",
      "10\n",
      "20\n",
      "50\n",
      "100\n",
      "200\n",
      "1000\n",
      "2000\n",
      "5000\n",
      "10000\n"
     ]
    }
   ],
   "source": [
    "list_mean_f = []\n",
    "list_mean_g = []\n",
    "list_std_f = []\n",
    "list_std_g = []\n",
    "list_reqm_f = []\n",
    "list_reqm_g = []\n",
    "\n",
    "for i in n_samples: \n",
    "    print(i)\n",
    "    mean_f = []\n",
    "    mean_g = []\n",
    "    for j in range(nr):\n",
    "        X = n_echantillon_X(i)\n",
    "        mean_f.append(np.mean(f(X)))\n",
    "        mean_g.append(np.mean(g(X)))\n",
    "    list_mean_f.append(np.mean(mean_f))\n",
    "    list_mean_g.append(np.mean(mean_g))\n",
    "    list_std_f.append(np.std(mean_f))\n",
    "    list_std_g.append(np.std(mean_g))\n",
    "    \n",
    "    list_reqm_f.append(np.sqrt((np.mean(mean_f) - mu_exact)**2 + np.var(mean_f)))\n",
    "    list_reqm_g.append(np.sqrt((np.mean(mean_g) - mu_exact)**2 + np.var(mean_g)))"
   ]
  },
  {
   "cell_type": "code",
   "execution_count": 16,
   "id": "8d2ad668-a8f6-451b-a255-a3db1a4747e4",
   "metadata": {},
   "outputs": [
    {
     "data": {
      "image/png": "[encoded data removed]",
      "text/plain": [
       "<Figure size 1500x500 with 2 Axes>"
      ]
     },
     "metadata": {},
     "output_type": "display_data"
    }
   ],
   "source": [
    "fig, axs = plt.subplots(1,2, figsize=(15,5))\n",
    "axs[0].errorbar(n_samples, list_mean_f, yerr=list_std_f, fmt='o', color='b', capsize=5, label = 'f')\n",
    "axs[0].errorbar(n_samples, list_mean_g, yerr=list_std_g, fmt='o', color='r', capsize=5, label = 'g')\n",
    "axs[0].set_xscale('log')  # Appliquer l'échelle logarithmique\n",
    "axs[1].plot(n_samples, list_reqm_f, label = 'reqm_f', color = 'r')\n",
    "axs[1].plot(n_samples, list_reqm_g, label = 'reqm_g', color = 'b')\n",
    "axs[1].set_xscale('log') \n",
    "axs[1].set_yscale('log')  \n",
    "\n",
    "for ax in axs:\n",
    "    ax.legend()\n",
    "plt.show()"
   ]
  },
  {
   "cell_type": "code",
   "execution_count": 17,
   "id": "b6f4feb3-5758-4790-a48f-af96758bb068",
   "metadata": {},
   "outputs": [],
   "source": [
    "# fig, axs = plt.subplots(1,2, figsize=(15,5))\n",
    "\n",
    "# axs[0].errorbar(n_samples, list_mean_f, yerr=list_std_f, fmt='o', color='b', capsize=5, label = 'f')\n",
    "# axs[0].set_xscale('log')  # Appliquer l'échelle logarithmique\n",
    "# axs[0].set_title(\"Données f\")\n",
    "# axs[1].errorbar(n_samples, list_mean_g, yerr=list_std_g, fmt='o', color='r', capsize=5, label = 'g')\n",
    "# axs[1].set_xscale('log')  # Appliquer l'échelle logarithmique\n",
    "# axs[1].set_title(\"Données g\")\n",
    "# for ax in axs:\n",
    "#     ax.legend()\n",
    "# plt.show()"
   ]
  },
  {
   "cell_type": "code",
   "execution_count": 18,
   "id": "864d0a9c-a5e7-4ddd-824a-32e817fd276a",
   "metadata": {},
   "outputs": [],
   "source": [
    "# fig, axs = plt.subplots(1,2, figsize=(15,5))\n",
    "\n",
    "# axs[0].errorbar(n_samples, list_mean_f, yerr=list_std_f, fmt='o', color='b', capsize=5, label = 'f')\n",
    "# axs[0].set_xscale('log')  # Appliquer l'échelle logarithmique\n",
    "# axs[0].set_title(\"Données f\")\n",
    "# axs[1].errorbar(n_samples, list_mean_g, yerr=list_std_g, fmt='o', color='r', capsize=5, label = 'g')\n",
    "# axs[1].set_xscale('log')  # Appliquer l'échelle logarithmique\n",
    "# axs[1].set_title(\"Données g\")\n",
    "# for ax in axs:\n",
    "#     ax.legend()\n",
    "# plt.show()"
   ]
  },
  {
   "cell_type": "code",
   "execution_count": null,
   "id": "3a55c726-061e-4c78-97b6-28cf13caa119",
   "metadata": {},
   "outputs": [],
   "source": []
  }
 ],
 "metadata": {
  "kernelspec": {
   "display_name": "Python 3 (ipykernel)",
   "language": "python",
   "name": "python3"
  },
  "language_info": {
   "codemirror_mode": {
    "name": "ipython",
    "version": 3
   },
   "file_extension": ".py",
   "mimetype": "text/x-python",
   "name": "python",
   "nbconvert_exporter": "python",
   "pygments_lexer": "ipython3",
   "version": "3.11.7"
  }
 },
 "nbformat": 4,
 "nbformat_minor": 5
}
