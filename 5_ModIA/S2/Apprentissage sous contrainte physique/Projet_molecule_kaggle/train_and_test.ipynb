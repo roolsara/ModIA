{
 "cells": [
  {
   "cell_type": "code",
   "execution_count": 1,
   "metadata": {},
   "outputs": [],
   "source": [
    "%matplotlib inline"
   ]
  },
  {
   "cell_type": "markdown",
   "metadata": {},
   "source": [
    "# Preliminaries "
   ]
  },
  {
   "cell_type": "code",
   "execution_count": 2,
   "metadata": {},
   "outputs": [],
   "source": [
    "import os\n",
    "import pandas as pd\n",
    "from ase.io import read\n",
    "import numpy as np\n",
    "from sklearn.model_selection import  cross_val_score\n",
    "from sklearn.preprocessing import StandardScaler\n",
    "from sklearn.pipeline import make_pipeline\n",
    "from sklearn import preprocessing, linear_model, pipeline, model_selection\n",
    "from sklearn.linear_model import LinearRegression, Ridge, Lasso\n",
    "from sklearn.svm import SVR\n",
    "from sklearn.ensemble import RandomForestRegressor, GradientBoostingRegressor\n",
    "from sklearn.neighbors import KNeighborsRegressor\n",
    "from sklearn.tree import DecisionTreeRegressor\n",
    "from xgboost import XGBRegressor\n",
    "from scipy.spatial.distance import pdist\n",
    "from dscribe.descriptors import CoulombMatrix\n",
    "from scipy.spatial.transform import Rotation as R"
   ]
  },
  {
   "cell_type": "markdown",
   "metadata": {},
   "source": [
    "# Energies "
   ]
  },
  {
   "cell_type": "code",
   "execution_count": 3,
   "metadata": {},
   "outputs": [],
   "source": [
    "# Path setup\n",
    "data_dir = \"./\"  \n",
    "atoms_train_dir = os.path.join(data_dir, \"atoms\", \"train\")\n",
    "energies_csv = os.path.join(data_dir, \"energies\", \"train.csv\")\n",
    "\n",
    "atoms_test_dir = os.path.join(data_dir, \"atoms\", \"test\")"
   ]
  },
  {
   "cell_type": "code",
   "execution_count": 4,
   "metadata": {},
   "outputs": [
    {
     "name": "stdout",
     "output_type": "stream",
     "text": [
      "Loaded energy data:\n",
      "   id     energy\n",
      "   1 -90.107880\n",
      "  10 -69.210846\n",
      " 100 -64.983899\n",
      "1000 -76.559740\n",
      "1001 -62.270961\n"
     ]
    }
   ],
   "source": [
    "energies_df = pd.read_csv(energies_csv)\n",
    "energies_df[\"id\"] = energies_df[\"id\"].astype(str)\n",
    "energies_df = energies_df.sort_values(\"id\")\n",
    "print(\"Loaded energy data:\\n\", energies_df.head().to_string(index=False))"
   ]
  },
  {
   "cell_type": "markdown",
   "metadata": {},
   "source": [
    "# Positions and charges "
   ]
  },
  {
   "cell_type": "code",
   "execution_count": 5,
   "metadata": {},
   "outputs": [],
   "source": [
    "def extract_features(xyz_path):\n",
    "    atoms = read(xyz_path)\n",
    "    positions = atoms.get_positions()\n",
    "    charges = atoms.get_atomic_numbers()\n",
    "    return positions, charges\n",
    "\n",
    "def load_all_xyz(folder_path, max_atoms=23):\n",
    "    positions_list = []\n",
    "    charges_list = []\n",
    "    \n",
    "    xyz_files = sorted([\n",
    "        os.path.join(folder_path, f)\n",
    "        for f in os.listdir(folder_path)\n",
    "        if f.endswith('.xyz')\n",
    "    ])\n",
    "\n",
    "    for xyz_path in xyz_files:\n",
    "        pos, chg = extract_features(xyz_path)\n",
    "        \n",
    "        pos_padded = np.zeros((max_atoms, 3))\n",
    "        chg_padded = np.zeros((max_atoms,))\n",
    "        \n",
    "        n_atoms = pos.shape[0]\n",
    "        pos_padded[:n_atoms, :] = pos\n",
    "        chg_padded[:n_atoms] = chg\n",
    "\n",
    "        positions_list.append(pos_padded)\n",
    "        charges_list.append(chg_padded)\n",
    "\n",
    "    positions_array = np.stack(positions_list)  # shape (N, max_atoms, 3)\n",
    "    charges_array = np.stack(charges_list)      # shape (N, max_atoms)\n",
    "    \n",
    "    return positions_array, charges_array"
   ]
  },
  {
   "cell_type": "markdown",
   "metadata": {},
   "source": [
    "# Load orders 0,1 and 2"
   ]
  },
  {
   "cell_type": "markdown",
   "metadata": {},
   "source": [
    "## Scattering only (SO)"
   ]
  },
  {
   "cell_type": "code",
   "execution_count": 6,
   "metadata": {},
   "outputs": [],
   "source": [
    "order_0_train_SO = np.load('/home/besbesines/kymatio_cache/results/train/order_0_molecule_L_3_J_2_sigma_2.0_MNO_(96, 64, 48)_powers_[0.5, 1.0, 2.0, 3.0].npy')\n",
    "orders_1_and_2_train_SO = np.load('/home/besbesines/kymatio_cache/results/train/orders_1_and_2molecule_L_3_J_2_sigma_2.0_MNO_(96, 64, 48)_powers_[0.5, 1.0, 2.0, 3.0].npy')\n",
    "\n",
    "order_0_test_SO = np.load('/home/besbesines/kymatio_cache/results/test/order_0_molecule_L_3_J_2_sigma_2.0_MNO_(96, 64, 48)_powers_[0.5, 1.0, 2.0, 3.0].npy')\n",
    "orders_1_and_2_test_SO = np.load('/home/besbesines/kymatio_cache/results/test/orders_1_and_2molecule_L_3_J_2_sigma_2.0_MNO_(96, 64, 48)_powers_[0.5, 1.0, 2.0, 3.0].npy')"
   ]
  },
  {
   "cell_type": "markdown",
   "metadata": {},
   "source": [
    "## Scattering from the article"
   ]
  },
  {
   "cell_type": "code",
   "execution_count": 7,
   "metadata": {},
   "outputs": [],
   "source": [
    "order_0_train_article = np.load('/home/besbesines/kymatio_cache/results/train/order_0_molecule_L_3_J_4_sigma_2.0_MNO_(96, 64, 48)_powers_[0.5, 1.0, 2.0, 3.0, 4.0].npy')\n",
    "orders_1_and_2_train_article = np.load('/home/besbesines/kymatio_cache/results/train/orders_1_and_2molecule_L_3_J_4_sigma_2.0_MNO_(96, 64, 48)_powers_[0.5, 1.0, 2.0, 3.0, 4.0].npy')\n",
    "\n",
    "order_0_test_article = np.load('/home/besbesines/kymatio_cache/results/test/order_0_molecule_L_3_J_4_sigma_2.0_MNO_(96, 64, 48)_powers_[0.5, 1.0, 2.0, 3.0, 4.0].npy')\n",
    "orders_1_and_2_test_article = np.load('/home/besbesines/kymatio_cache/results/test/orders_1_and_2molecule_L_3_J_4_sigma_2.0_MNO_(96, 64, 48)_powers_[0.5, 1.0, 2.0, 3.0, 4.0].npy')"
   ]
  },
  {
   "cell_type": "markdown",
   "metadata": {},
   "source": [
    "# Compute additional features"
   ]
  },
  {
   "cell_type": "markdown",
   "metadata": {},
   "source": [
    "## Pairwise distance"
   ]
  },
  {
   "cell_type": "code",
   "execution_count": 8,
   "metadata": {},
   "outputs": [],
   "source": [
    "def compute_pairwise_distance_stats(positions, charges):\n",
    "    n_samples = positions.shape[0]\n",
    "    mean_dists = []\n",
    "    std_dists = []\n",
    "    for i in range(n_samples):\n",
    "        mask = charges[i] != 0\n",
    "        pos_i = positions[i][mask]\n",
    "        if len(pos_i) < 2:\n",
    "            mean_dists.append(0.0)\n",
    "            std_dists.append(0.0)\n",
    "        else:\n",
    "            dists = pdist(pos_i)\n",
    "            mean_dists.append(dists.mean())\n",
    "            std_dists.append(dists.std())\n",
    "    return np.array(mean_dists), np.array(std_dists)\n"
   ]
  },
  {
   "cell_type": "markdown",
   "metadata": {},
   "source": [
    "## Geometric features"
   ]
  },
  {
   "cell_type": "code",
   "execution_count": 9,
   "metadata": {},
   "outputs": [],
   "source": [
    "def compute_geometric_features(positions, charges):\n",
    "    n_samples = positions.shape[0]\n",
    "    mean_dist_to_center = []\n",
    "    spatial_variance = []\n",
    "    for i in range(n_samples):\n",
    "        mask = charges[i] != 0\n",
    "        pos_i = positions[i][mask]\n",
    "        if len(pos_i) == 0:\n",
    "            mean_dist_to_center.append(0.0)\n",
    "            spatial_variance.append(0.0)\n",
    "        else:\n",
    "            center = pos_i.mean(axis=0)\n",
    "            dist = np.linalg.norm(pos_i - center, axis=1)\n",
    "            mean_dist_to_center.append(dist.mean())\n",
    "            spatial_variance.append(dist.var())\n",
    "    return np.array(mean_dist_to_center), np.array(spatial_variance)\n"
   ]
  },
  {
   "cell_type": "markdown",
   "metadata": {},
   "source": [
    "## Atomic type frequencies"
   ]
  },
  {
   "cell_type": "code",
   "execution_count": 10,
   "metadata": {},
   "outputs": [],
   "source": [
    "def compute_atomic_type_frequencies(charges, atomic_types=[1, 6, 7, 8, 9, 16]):\n",
    "    freqs = []\n",
    "    for i in range(charges.shape[0]):\n",
    "        count = [(charges[i] == Z).sum() for Z in atomic_types]\n",
    "        freqs.append(count)\n",
    "    return np.array(freqs)  # shape: (n_molecules, len(atomic_types))"
   ]
  },
  {
   "cell_type": "markdown",
   "metadata": {},
   "source": [
    "## All features combined"
   ]
  },
  {
   "cell_type": "code",
   "execution_count": 11,
   "metadata": {},
   "outputs": [],
   "source": [
    "def compute_all_features(positions, charges):\n",
    "    n_atoms = (charges != 0).sum(axis=1)\n",
    "    total_charge = charges.sum(axis=1)\n",
    "\n",
    "    mean_atomic_number = np.zeros_like(n_atoms, dtype=float)\n",
    "    mask = n_atoms != 0\n",
    "    mean_atomic_number[mask] = total_charge[mask] / n_atoms[mask]\n",
    "    std_atomic_number = np.std(charges, axis=1)\n",
    "\n",
    "    mean_dist, std_dist = compute_pairwise_distance_stats(positions, charges)\n",
    "    mean_disp, spatial_var = compute_geometric_features(positions, charges)\n",
    "    type_freqs = compute_atomic_type_frequencies(charges)\n",
    "\n",
    "    return np.column_stack([\n",
    "        n_atoms,\n",
    "        total_charge,\n",
    "        mean_atomic_number,\n",
    "        std_atomic_number,\n",
    "        mean_dist,\n",
    "        std_dist,\n",
    "        mean_disp,\n",
    "        spatial_var,\n",
    "        type_freqs\n",
    "    ])"
   ]
  },
  {
   "cell_type": "code",
   "execution_count": 12,
   "metadata": {},
   "outputs": [],
   "source": [
    "pos_train, full_charges_train = load_all_xyz(\"./atoms/train/\", max_atoms=23)\n",
    "n_molecules_train = pos_train.shape[0]\n",
    "additional_features_train = compute_all_features(pos_train, full_charges_train)\n",
    "\n",
    "pos_test, full_charges_test = load_all_xyz(\"./atoms/test/\", max_atoms=23)\n",
    "n_molecules_test = pos_test.shape[0]\n",
    "additional_features_test = compute_all_features(pos_test, full_charges_test)"
   ]
  },
  {
   "cell_type": "markdown",
   "metadata": {},
   "source": [
    "# Invariance by translation, permutation and rotation"
   ]
  },
  {
   "cell_type": "code",
   "execution_count": null,
   "metadata": {},
   "outputs": [],
   "source": [
    "def test_translation_invariance(positions, charges):\n",
    "    original_features = compute_all_features(positions, charges)\n",
    "\n",
    "    shift = np.random.uniform(-10, 10, size=(1, 1, 3)) \n",
    "    translated_positions = positions + shift\n",
    "\n",
    "    translated_features = compute_all_features(translated_positions, charges)\n",
    "\n",
    "    difference = np.abs(original_features - translated_features)\n",
    "    max_diff = difference.max()\n",
    "    print(f\"Max difference after translation: {max_diff:.5e}\")\n",
    "    return np.allclose(original_features, translated_features, atol=1e-5)\n",
    "\n",
    "def test_permutation_invariance(positions, charges):\n",
    "    original_features = compute_all_features(positions, charges)\n",
    "    \n",
    "    permuted_positions = np.copy(positions)\n",
    "    permuted_charges = np.copy(charges)\n",
    "\n",
    "    for i in range(positions.shape[0]):\n",
    "        n_atoms = (charges[i] != 0).sum()\n",
    "        perm = np.random.permutation(n_atoms)\n",
    "        permuted_positions[i, :n_atoms] = positions[i, :n_atoms][perm]\n",
    "        permuted_charges[i, :n_atoms] = charges[i, :n_atoms][perm]\n",
    "\n",
    "    permuted_features = compute_all_features(permuted_positions, permuted_charges)\n",
    "\n",
    "    difference = np.abs(original_features - permuted_features)\n",
    "    max_diff = difference.max()\n",
    "    print(f\"Max difference after permutation: {max_diff:.5e}\")\n",
    "    return np.allclose(original_features, permuted_features, atol=1e-5)\n",
    "\n",
    "\n",
    "def test_rotation_invariance(positions, charges):\n",
    "    original_features = compute_all_features(positions, charges)\n",
    "    \n",
    "    rotated_positions = np.copy(positions)\n",
    "\n",
    "    for i in range(positions.shape[0]):\n",
    "        n_atoms = (charges[i] != 0).sum()\n",
    "        if n_atoms == 0:\n",
    "            continue\n",
    "\n",
    "        rotation = R.random().as_matrix() \n",
    "        pos_i = positions[i, :n_atoms]\n",
    "        rotated = pos_i @ rotation.T \n",
    "        \n",
    "        rotated_positions[i, :n_atoms] = rotated\n",
    "\n",
    "    rotated_features = compute_all_features(rotated_positions, charges)\n",
    "    \n",
    "    difference = np.abs(original_features - rotated_features)\n",
    "    max_diff = difference.max()\n",
    "    print(f\"Max difference after rotation: {max_diff:.5e}\")\n",
    "    return np.allclose(original_features, rotated_features, atol=1e-5)\n"
   ]
  },
  {
   "cell_type": "code",
   "execution_count": 36,
   "metadata": {},
   "outputs": [
    {
     "name": "stdout",
     "output_type": "stream",
     "text": [
      "Max difference after translation: 1.33227e-15\n",
      "Translation invariance: Yes\n",
      "Max difference after permutation: 1.77636e-15\n",
      "Permutation invariance: Yes\n",
      "Max difference after rotation: 2.22045e-15\n",
      "Rotation invariance: Yes\n"
     ]
    }
   ],
   "source": [
    "ok_translation = test_translation_invariance(pos_train, full_charges_train)\n",
    "print(\"Translation invariance:\", \"Yes\" if ok_translation else \"No\")\n",
    "\n",
    "ok_permutation = test_permutation_invariance(pos_train, full_charges_train)\n",
    "print(\"Permutation invariance:\", \"Yes\" if ok_permutation else \"No\")\n",
    "\n",
    "ok_rotation = test_rotation_invariance(pos_train, full_charges_train)\n",
    "print(\"Rotation invariance:\", \"Yes\" if ok_rotation else \"No\")"
   ]
  },
  {
   "cell_type": "markdown",
   "metadata": {},
   "source": [
    "# Find the best model"
   ]
  },
  {
   "cell_type": "markdown",
   "metadata": {},
   "source": [
    "## Function $find\\_best\\_model$"
   ]
  },
  {
   "cell_type": "code",
   "execution_count": 13,
   "metadata": {},
   "outputs": [],
   "source": [
    "def find_best_model(models, X_train, y_train, cross_val_folds=5):\n",
    "    alphas = 10.0 ** (-np.arange(1, 10))\n",
    "    best_score = np.inf\n",
    "    best_model = None\n",
    "    best_alpha = None\n",
    "\n",
    "    results = []\n",
    "\n",
    "    for name, model in models.items():\n",
    "        if name == \"Ridge\":\n",
    "            for alpha in alphas:\n",
    "                scaler = preprocessing.StandardScaler()\n",
    "                ridge = linear_model.Ridge(alpha=alpha)\n",
    "                regressor = pipeline.make_pipeline(scaler, ridge)\n",
    "                target_prediction = model_selection.cross_val_predict(regressor, X=X_train, y=y_train, cv=cross_val_folds)\n",
    "                RMSE = np.sqrt(np.mean((target_prediction - y_train) ** 2))\n",
    "\n",
    "                if RMSE < best_score:\n",
    "                    best_score = RMSE\n",
    "                    best_model = regressor\n",
    "                    best_alpha = alpha\n",
    "\n",
    "            print(f\"Ridge regression, best alpha: {best_alpha}, RMSE: {best_score}\")\n",
    "            results.append((name, best_score))\n",
    "        else:\n",
    "            pipelin = pipeline.make_pipeline(preprocessing.StandardScaler(), model)\n",
    "            neg_mse_scores = model_selection.cross_val_score(pipelin, X_train, y_train, scoring='neg_root_mean_squared_error', cv=cross_val_folds)\n",
    "            rmse_scores = -neg_mse_scores\n",
    "            mean_rmse = np.mean(rmse_scores)\n",
    "            print(f\"{name}: RMSE = {mean_rmse:.4f}\")\n",
    "            results.append((name, mean_rmse))\n",
    "\n",
    "    best_model_name, best_rmse = min(results, key=lambda x: x[1])\n",
    "    print(f\"\\nMeilleur modèle : {best_model_name} avec une RMSE de {best_rmse:.4f}\")\n",
    "\n",
    "    return best_model, best_model_name, best_rmse"
   ]
  },
  {
   "cell_type": "code",
   "execution_count": 14,
   "metadata": {},
   "outputs": [],
   "source": [
    "models = {\n",
    "    \"LinearRegression\": LinearRegression(),\n",
    "    \"Ridge\": Ridge(),\n",
    "    \"Lasso\": Lasso(),\n",
    "    \"SVR\": SVR(),\n",
    "    \"KNN\": KNeighborsRegressor(),\n",
    "    \"DecisionTree\": DecisionTreeRegressor(),\n",
    "    \"RandomForest\": RandomForestRegressor(n_estimators=100),\n",
    "    \"GradientBoosting\": GradientBoostingRegressor(n_estimators=100),\n",
    "    \"XGBoost\": XGBRegressor(n_estimators=100, objective='reg:squarederror')\n",
    "}"
   ]
  },
  {
   "cell_type": "markdown",
   "metadata": {},
   "source": [
    "# Scattering with $J=2$ and $L=3$"
   ]
  },
  {
   "cell_type": "markdown",
   "metadata": {},
   "source": [
    "### Without additional features"
   ]
  },
  {
   "cell_type": "code",
   "execution_count": 23,
   "metadata": {},
   "outputs": [],
   "source": [
    "train_scattering_coef_scattering = np.concatenate([order_0_train_SO, orders_1_and_2_train_SO], axis=1)\n",
    "test_scattering_coef_scattering = np.concatenate([order_0_test_SO, orders_1_and_2_test_SO], axis=1)"
   ]
  },
  {
   "cell_type": "code",
   "execution_count": 30,
   "metadata": {},
   "outputs": [],
   "source": [
    "X_train = train_scattering_coef_scattering\n",
    "y_train = energies_df['energy'].to_list()\n",
    "\n",
    "X_test = test_scattering_coef_scattering"
   ]
  },
  {
   "cell_type": "code",
   "execution_count": 31,
   "metadata": {},
   "outputs": [
    {
     "name": "stdout",
     "output_type": "stream",
     "text": [
      "LinearRegression: RMSE = 1.4048\n"
     ]
    },
    {
     "name": "stderr",
     "output_type": "stream",
     "text": [
      "/home/besbesines/.local/lib/python3.10/site-packages/sklearn/linear_model/_ridge.py:200: LinAlgWarning: Ill-conditioned matrix (rcond=2.3716e-08): result may not be accurate.\n",
      "  return linalg.solve(A, Xy, assume_a=\"pos\", overwrite_a=True).T\n",
      "/home/besbesines/.local/lib/python3.10/site-packages/sklearn/linear_model/_ridge.py:200: LinAlgWarning: Ill-conditioned matrix (rcond=2.42106e-08): result may not be accurate.\n",
      "  return linalg.solve(A, Xy, assume_a=\"pos\", overwrite_a=True).T\n",
      "/home/besbesines/.local/lib/python3.10/site-packages/sklearn/linear_model/_ridge.py:200: LinAlgWarning: Ill-conditioned matrix (rcond=2.33183e-08): result may not be accurate.\n",
      "  return linalg.solve(A, Xy, assume_a=\"pos\", overwrite_a=True).T\n",
      "/home/besbesines/.local/lib/python3.10/site-packages/sklearn/linear_model/_ridge.py:200: LinAlgWarning: Ill-conditioned matrix (rcond=2.48563e-08): result may not be accurate.\n",
      "  return linalg.solve(A, Xy, assume_a=\"pos\", overwrite_a=True).T\n",
      "/home/besbesines/.local/lib/python3.10/site-packages/sklearn/linear_model/_ridge.py:200: LinAlgWarning: Ill-conditioned matrix (rcond=2.34718e-08): result may not be accurate.\n",
      "  return linalg.solve(A, Xy, assume_a=\"pos\", overwrite_a=True).T\n"
     ]
    },
    {
     "name": "stdout",
     "output_type": "stream",
     "text": [
      "Ridge regression, best alpha: 0.001, RMSE: 0.9863005401003615\n",
      "Lasso: RMSE = 3.9411\n",
      "SVR: RMSE = 3.1570\n",
      "KNN: RMSE = 2.5536\n",
      "DecisionTree: RMSE = 2.4808\n",
      "RandomForest: RMSE = 1.7964\n",
      "GradientBoosting: RMSE = 1.8254\n",
      "XGBoost: RMSE = 1.7296\n",
      "\n",
      "Meilleur modèle : Ridge avec une RMSE de 0.9863\n"
     ]
    }
   ],
   "source": [
    "best_model_scattering, best_model_name_scattering, best_rmse_scattering = find_best_model(models, X_train, y_train, cross_val_folds=5)"
   ]
  },
  {
   "cell_type": "code",
   "execution_count": 32,
   "metadata": {},
   "outputs": [
    {
     "data": {
      "text/html": [
       "<style>#sk-container-id-2 {color: black;}#sk-container-id-2 pre{padding: 0;}#sk-container-id-2 div.sk-toggleable {background-color: white;}#sk-container-id-2 label.sk-toggleable__label {cursor: pointer;display: block;width: 100%;margin-bottom: 0;padding: 0.3em;box-sizing: border-box;text-align: center;}#sk-container-id-2 label.sk-toggleable__label-arrow:before {content: \"▸\";float: left;margin-right: 0.25em;color: #696969;}#sk-container-id-2 label.sk-toggleable__label-arrow:hover:before {color: black;}#sk-container-id-2 div.sk-estimator:hover label.sk-toggleable__label-arrow:before {color: black;}#sk-container-id-2 div.sk-toggleable__content {max-height: 0;max-width: 0;overflow: hidden;text-align: left;background-color: #f0f8ff;}#sk-container-id-2 div.sk-toggleable__content pre {margin: 0.2em;color: black;border-radius: 0.25em;background-color: #f0f8ff;}#sk-container-id-2 input.sk-toggleable__control:checked~div.sk-toggleable__content {max-height: 200px;max-width: 100%;overflow: auto;}#sk-container-id-2 input.sk-toggleable__control:checked~label.sk-toggleable__label-arrow:before {content: \"▾\";}#sk-container-id-2 div.sk-estimator input.sk-toggleable__control:checked~label.sk-toggleable__label {background-color: #d4ebff;}#sk-container-id-2 div.sk-label input.sk-toggleable__control:checked~label.sk-toggleable__label {background-color: #d4ebff;}#sk-container-id-2 input.sk-hidden--visually {border: 0;clip: rect(1px 1px 1px 1px);clip: rect(1px, 1px, 1px, 1px);height: 1px;margin: -1px;overflow: hidden;padding: 0;position: absolute;width: 1px;}#sk-container-id-2 div.sk-estimator {font-family: monospace;background-color: #f0f8ff;border: 1px dotted black;border-radius: 0.25em;box-sizing: border-box;margin-bottom: 0.5em;}#sk-container-id-2 div.sk-estimator:hover {background-color: #d4ebff;}#sk-container-id-2 div.sk-parallel-item::after {content: \"\";width: 100%;border-bottom: 1px solid gray;flex-grow: 1;}#sk-container-id-2 div.sk-label:hover label.sk-toggleable__label {background-color: #d4ebff;}#sk-container-id-2 div.sk-serial::before {content: \"\";position: absolute;border-left: 1px solid gray;box-sizing: border-box;top: 0;bottom: 0;left: 50%;z-index: 0;}#sk-container-id-2 div.sk-serial {display: flex;flex-direction: column;align-items: center;background-color: white;padding-right: 0.2em;padding-left: 0.2em;position: relative;}#sk-container-id-2 div.sk-item {position: relative;z-index: 1;}#sk-container-id-2 div.sk-parallel {display: flex;align-items: stretch;justify-content: center;background-color: white;position: relative;}#sk-container-id-2 div.sk-item::before, #sk-container-id-2 div.sk-parallel-item::before {content: \"\";position: absolute;border-left: 1px solid gray;box-sizing: border-box;top: 0;bottom: 0;left: 50%;z-index: -1;}#sk-container-id-2 div.sk-parallel-item {display: flex;flex-direction: column;z-index: 1;position: relative;background-color: white;}#sk-container-id-2 div.sk-parallel-item:first-child::after {align-self: flex-end;width: 50%;}#sk-container-id-2 div.sk-parallel-item:last-child::after {align-self: flex-start;width: 50%;}#sk-container-id-2 div.sk-parallel-item:only-child::after {width: 0;}#sk-container-id-2 div.sk-dashed-wrapped {border: 1px dashed gray;margin: 0 0.4em 0.5em 0.4em;box-sizing: border-box;padding-bottom: 0.4em;background-color: white;}#sk-container-id-2 div.sk-label label {font-family: monospace;font-weight: bold;display: inline-block;line-height: 1.2em;}#sk-container-id-2 div.sk-label-container {text-align: center;}#sk-container-id-2 div.sk-container {/* jupyter's `normalize.less` sets `[hidden] { display: none; }` but bootstrap.min.css set `[hidden] { display: none !important; }` so we also need the `!important` here to be able to override the default hidden behavior on the sphinx rendered scikit-learn.org. See: https://github.com/scikit-learn/scikit-learn/issues/21755 */display: inline-block !important;position: relative;}#sk-container-id-2 div.sk-text-repr-fallback {display: none;}</style><div id=\"sk-container-id-2\" class=\"sk-top-container\"><div class=\"sk-text-repr-fallback\"><pre>Pipeline(steps=[(&#x27;standardscaler&#x27;, StandardScaler()),\n",
       "                (&#x27;ridge&#x27;, Ridge(alpha=0.001))])</pre><b>In a Jupyter environment, please rerun this cell to show the HTML representation or trust the notebook. <br />On GitHub, the HTML representation is unable to render, please try loading this page with nbviewer.org.</b></div><div class=\"sk-container\" hidden><div class=\"sk-item sk-dashed-wrapped\"><div class=\"sk-label-container\"><div class=\"sk-label sk-toggleable\"><input class=\"sk-toggleable__control sk-hidden--visually\" id=\"sk-estimator-id-4\" type=\"checkbox\" ><label for=\"sk-estimator-id-4\" class=\"sk-toggleable__label sk-toggleable__label-arrow\">Pipeline</label><div class=\"sk-toggleable__content\"><pre>Pipeline(steps=[(&#x27;standardscaler&#x27;, StandardScaler()),\n",
       "                (&#x27;ridge&#x27;, Ridge(alpha=0.001))])</pre></div></div></div><div class=\"sk-serial\"><div class=\"sk-item\"><div class=\"sk-estimator sk-toggleable\"><input class=\"sk-toggleable__control sk-hidden--visually\" id=\"sk-estimator-id-5\" type=\"checkbox\" ><label for=\"sk-estimator-id-5\" class=\"sk-toggleable__label sk-toggleable__label-arrow\">StandardScaler</label><div class=\"sk-toggleable__content\"><pre>StandardScaler()</pre></div></div></div><div class=\"sk-item\"><div class=\"sk-estimator sk-toggleable\"><input class=\"sk-toggleable__control sk-hidden--visually\" id=\"sk-estimator-id-6\" type=\"checkbox\" ><label for=\"sk-estimator-id-6\" class=\"sk-toggleable__label sk-toggleable__label-arrow\">Ridge</label><div class=\"sk-toggleable__content\"><pre>Ridge(alpha=0.001)</pre></div></div></div></div></div></div></div>"
      ],
      "text/plain": [
       "Pipeline(steps=[('standardscaler', StandardScaler()),\n",
       "                ('ridge', Ridge(alpha=0.001))])"
      ]
     },
     "execution_count": 32,
     "metadata": {},
     "output_type": "execute_result"
    }
   ],
   "source": [
    "best_model_scattering.fit(X_train, y_train)"
   ]
  },
  {
   "cell_type": "code",
   "execution_count": 33,
   "metadata": {},
   "outputs": [],
   "source": [
    "predictions_test = best_model_scattering.predict(X_test)\n",
    "\n",
    "results = pd.DataFrame({\n",
    "    'id': np.arange(len(predictions_test)),\n",
    "    'energy': predictions_test\n",
    "})\n",
    "results = results.sort_values(by='energy').reset_index(drop=True)\n",
    "results['id'] = results['id'] + 6592\n",
    "results.to_csv('results/scattering_only.csv', index=False)"
   ]
  },
  {
   "cell_type": "markdown",
   "metadata": {},
   "source": [
    "### With additional features "
   ]
  },
  {
   "cell_type": "code",
   "execution_count": 17,
   "metadata": {},
   "outputs": [],
   "source": [
    "train_scattering_coef = np.concatenate([order_0_train_SO, orders_1_and_2_train_SO], axis=1)\n",
    "test_scattering_coef = np.concatenate([order_0_test_SO, orders_1_and_2_test_SO], axis=1)"
   ]
  },
  {
   "cell_type": "code",
   "execution_count": 18,
   "metadata": {},
   "outputs": [],
   "source": [
    "X_train = np.concatenate([train_scattering_coef, additional_features_train], axis=1)\n",
    "y_train = energies_df['energy'].to_list()\n",
    "\n",
    "X_test = np.concatenate([test_scattering_coef, additional_features_test], axis=1)"
   ]
  },
  {
   "cell_type": "code",
   "execution_count": 23,
   "metadata": {},
   "outputs": [
    {
     "name": "stdout",
     "output_type": "stream",
     "text": [
      "LinearRegression: RMSE = 0.3254\n",
      "Ridge regression, best alpha: 0.01, RMSE: 0.23510447573636828\n",
      "Lasso: RMSE = 1.4311\n",
      "SVR: RMSE = 2.0530\n",
      "KNN: RMSE = 1.6786\n",
      "DecisionTree: RMSE = 0.6922\n",
      "RandomForest: RMSE = 0.5090\n",
      "GradientBoosting: RMSE = 0.5171\n",
      "XGBoost: RMSE = 0.3946\n",
      "\n",
      "Meilleur modèle : Ridge avec une RMSE de 0.2351\n"
     ]
    }
   ],
   "source": [
    "best_model_SO, best_model_name_SO, best_rmse_SO = find_best_model(models, X_train, y_train, cross_val_folds=5)"
   ]
  },
  {
   "cell_type": "code",
   "execution_count": 24,
   "metadata": {},
   "outputs": [
    {
     "data": {
      "text/html": [
       "<style>#sk-container-id-1 {color: black;}#sk-container-id-1 pre{padding: 0;}#sk-container-id-1 div.sk-toggleable {background-color: white;}#sk-container-id-1 label.sk-toggleable__label {cursor: pointer;display: block;width: 100%;margin-bottom: 0;padding: 0.3em;box-sizing: border-box;text-align: center;}#sk-container-id-1 label.sk-toggleable__label-arrow:before {content: \"▸\";float: left;margin-right: 0.25em;color: #696969;}#sk-container-id-1 label.sk-toggleable__label-arrow:hover:before {color: black;}#sk-container-id-1 div.sk-estimator:hover label.sk-toggleable__label-arrow:before {color: black;}#sk-container-id-1 div.sk-toggleable__content {max-height: 0;max-width: 0;overflow: hidden;text-align: left;background-color: #f0f8ff;}#sk-container-id-1 div.sk-toggleable__content pre {margin: 0.2em;color: black;border-radius: 0.25em;background-color: #f0f8ff;}#sk-container-id-1 input.sk-toggleable__control:checked~div.sk-toggleable__content {max-height: 200px;max-width: 100%;overflow: auto;}#sk-container-id-1 input.sk-toggleable__control:checked~label.sk-toggleable__label-arrow:before {content: \"▾\";}#sk-container-id-1 div.sk-estimator input.sk-toggleable__control:checked~label.sk-toggleable__label {background-color: #d4ebff;}#sk-container-id-1 div.sk-label input.sk-toggleable__control:checked~label.sk-toggleable__label {background-color: #d4ebff;}#sk-container-id-1 input.sk-hidden--visually {border: 0;clip: rect(1px 1px 1px 1px);clip: rect(1px, 1px, 1px, 1px);height: 1px;margin: -1px;overflow: hidden;padding: 0;position: absolute;width: 1px;}#sk-container-id-1 div.sk-estimator {font-family: monospace;background-color: #f0f8ff;border: 1px dotted black;border-radius: 0.25em;box-sizing: border-box;margin-bottom: 0.5em;}#sk-container-id-1 div.sk-estimator:hover {background-color: #d4ebff;}#sk-container-id-1 div.sk-parallel-item::after {content: \"\";width: 100%;border-bottom: 1px solid gray;flex-grow: 1;}#sk-container-id-1 div.sk-label:hover label.sk-toggleable__label {background-color: #d4ebff;}#sk-container-id-1 div.sk-serial::before {content: \"\";position: absolute;border-left: 1px solid gray;box-sizing: border-box;top: 0;bottom: 0;left: 50%;z-index: 0;}#sk-container-id-1 div.sk-serial {display: flex;flex-direction: column;align-items: center;background-color: white;padding-right: 0.2em;padding-left: 0.2em;position: relative;}#sk-container-id-1 div.sk-item {position: relative;z-index: 1;}#sk-container-id-1 div.sk-parallel {display: flex;align-items: stretch;justify-content: center;background-color: white;position: relative;}#sk-container-id-1 div.sk-item::before, #sk-container-id-1 div.sk-parallel-item::before {content: \"\";position: absolute;border-left: 1px solid gray;box-sizing: border-box;top: 0;bottom: 0;left: 50%;z-index: -1;}#sk-container-id-1 div.sk-parallel-item {display: flex;flex-direction: column;z-index: 1;position: relative;background-color: white;}#sk-container-id-1 div.sk-parallel-item:first-child::after {align-self: flex-end;width: 50%;}#sk-container-id-1 div.sk-parallel-item:last-child::after {align-self: flex-start;width: 50%;}#sk-container-id-1 div.sk-parallel-item:only-child::after {width: 0;}#sk-container-id-1 div.sk-dashed-wrapped {border: 1px dashed gray;margin: 0 0.4em 0.5em 0.4em;box-sizing: border-box;padding-bottom: 0.4em;background-color: white;}#sk-container-id-1 div.sk-label label {font-family: monospace;font-weight: bold;display: inline-block;line-height: 1.2em;}#sk-container-id-1 div.sk-label-container {text-align: center;}#sk-container-id-1 div.sk-container {/* jupyter's `normalize.less` sets `[hidden] { display: none; }` but bootstrap.min.css set `[hidden] { display: none !important; }` so we also need the `!important` here to be able to override the default hidden behavior on the sphinx rendered scikit-learn.org. See: https://github.com/scikit-learn/scikit-learn/issues/21755 */display: inline-block !important;position: relative;}#sk-container-id-1 div.sk-text-repr-fallback {display: none;}</style><div id=\"sk-container-id-1\" class=\"sk-top-container\"><div class=\"sk-text-repr-fallback\"><pre>Pipeline(steps=[(&#x27;standardscaler&#x27;, StandardScaler()),\n",
       "                (&#x27;ridge&#x27;, Ridge(alpha=0.01))])</pre><b>In a Jupyter environment, please rerun this cell to show the HTML representation or trust the notebook. <br />On GitHub, the HTML representation is unable to render, please try loading this page with nbviewer.org.</b></div><div class=\"sk-container\" hidden><div class=\"sk-item sk-dashed-wrapped\"><div class=\"sk-label-container\"><div class=\"sk-label sk-toggleable\"><input class=\"sk-toggleable__control sk-hidden--visually\" id=\"sk-estimator-id-1\" type=\"checkbox\" ><label for=\"sk-estimator-id-1\" class=\"sk-toggleable__label sk-toggleable__label-arrow\">Pipeline</label><div class=\"sk-toggleable__content\"><pre>Pipeline(steps=[(&#x27;standardscaler&#x27;, StandardScaler()),\n",
       "                (&#x27;ridge&#x27;, Ridge(alpha=0.01))])</pre></div></div></div><div class=\"sk-serial\"><div class=\"sk-item\"><div class=\"sk-estimator sk-toggleable\"><input class=\"sk-toggleable__control sk-hidden--visually\" id=\"sk-estimator-id-2\" type=\"checkbox\" ><label for=\"sk-estimator-id-2\" class=\"sk-toggleable__label sk-toggleable__label-arrow\">StandardScaler</label><div class=\"sk-toggleable__content\"><pre>StandardScaler()</pre></div></div></div><div class=\"sk-item\"><div class=\"sk-estimator sk-toggleable\"><input class=\"sk-toggleable__control sk-hidden--visually\" id=\"sk-estimator-id-3\" type=\"checkbox\" ><label for=\"sk-estimator-id-3\" class=\"sk-toggleable__label sk-toggleable__label-arrow\">Ridge</label><div class=\"sk-toggleable__content\"><pre>Ridge(alpha=0.01)</pre></div></div></div></div></div></div></div>"
      ],
      "text/plain": [
       "Pipeline(steps=[('standardscaler', StandardScaler()),\n",
       "                ('ridge', Ridge(alpha=0.01))])"
      ]
     },
     "execution_count": 24,
     "metadata": {},
     "output_type": "execute_result"
    }
   ],
   "source": [
    "best_model_SO.fit(X_train, y_train)"
   ]
  },
  {
   "cell_type": "code",
   "execution_count": 25,
   "metadata": {},
   "outputs": [],
   "source": [
    "predictions_test = best_model_SO.predict(X_test)\n",
    "\n",
    "results = pd.DataFrame({\n",
    "    'id': np.arange(len(predictions_test)),\n",
    "    'energy': predictions_test\n",
    "})\n",
    "results = results.sort_values(by='energy').reset_index(drop=True)\n",
    "results['id'] = results['id'] + 6592\n",
    "results.to_csv('results/scattering_with_other_features.csv', index=False)"
   ]
  },
  {
   "cell_type": "markdown",
   "metadata": {},
   "source": [
    "# Scattering with $J=4$ and $L=3$"
   ]
  },
  {
   "cell_type": "markdown",
   "metadata": {},
   "source": [
    "### Without additional features"
   ]
  },
  {
   "cell_type": "code",
   "execution_count": 15,
   "metadata": {},
   "outputs": [],
   "source": [
    "train_scattering_coef_article = np.concatenate([order_0_train_article, orders_1_and_2_train_article], axis=1)\n",
    "test_scattering_coef_article = np.concatenate([order_0_test_article, orders_1_and_2_test_article], axis=1)"
   ]
  },
  {
   "cell_type": "code",
   "execution_count": 42,
   "metadata": {},
   "outputs": [],
   "source": [
    "X_train = train_scattering_coef_article\n",
    "y_train = energies_df['energy'].to_list()\n",
    "\n",
    "X_test = test_scattering_coef_article"
   ]
  },
  {
   "cell_type": "code",
   "execution_count": 43,
   "metadata": {},
   "outputs": [
    {
     "name": "stdout",
     "output_type": "stream",
     "text": [
      "LinearRegression: RMSE = 13.2485\n"
     ]
    },
    {
     "name": "stderr",
     "output_type": "stream",
     "text": [
      "/home/besbesines/.local/lib/python3.10/site-packages/sklearn/linear_model/_ridge.py:200: LinAlgWarning: Ill-conditioned matrix (rcond=1.89561e-09): result may not be accurate.\n",
      "  return linalg.solve(A, Xy, assume_a=\"pos\", overwrite_a=True).T\n",
      "/home/besbesines/.local/lib/python3.10/site-packages/sklearn/linear_model/_ridge.py:200: LinAlgWarning: Ill-conditioned matrix (rcond=1.70279e-09): result may not be accurate.\n",
      "  return linalg.solve(A, Xy, assume_a=\"pos\", overwrite_a=True).T\n",
      "/home/besbesines/.local/lib/python3.10/site-packages/sklearn/linear_model/_ridge.py:200: LinAlgWarning: Ill-conditioned matrix (rcond=1.90584e-09): result may not be accurate.\n",
      "  return linalg.solve(A, Xy, assume_a=\"pos\", overwrite_a=True).T\n",
      "/home/besbesines/.local/lib/python3.10/site-packages/sklearn/linear_model/_ridge.py:200: LinAlgWarning: Ill-conditioned matrix (rcond=2.13227e-09): result may not be accurate.\n",
      "  return linalg.solve(A, Xy, assume_a=\"pos\", overwrite_a=True).T\n",
      "/home/besbesines/.local/lib/python3.10/site-packages/sklearn/linear_model/_ridge.py:200: LinAlgWarning: Ill-conditioned matrix (rcond=1.659e-09): result may not be accurate.\n",
      "  return linalg.solve(A, Xy, assume_a=\"pos\", overwrite_a=True).T\n"
     ]
    },
    {
     "name": "stdout",
     "output_type": "stream",
     "text": [
      "Ridge regression, best alpha: 0.01, RMSE: 1.140476944724858\n",
      "Lasso: RMSE = 3.9379\n",
      "SVR: RMSE = 3.1241\n",
      "KNN: RMSE = 2.7233\n",
      "DecisionTree: RMSE = 2.6183\n",
      "RandomForest: RMSE = 1.8438\n",
      "GradientBoosting: RMSE = 1.7767\n",
      "XGBoost: RMSE = 1.6889\n",
      "\n",
      "Meilleur modèle : Ridge avec une RMSE de 1.1405\n"
     ]
    }
   ],
   "source": [
    "best_model_article, best_model_name_article, best_rmse_article = find_best_model(models, X_train, y_train, cross_val_folds=5)"
   ]
  },
  {
   "cell_type": "code",
   "execution_count": 44,
   "metadata": {},
   "outputs": [
    {
     "data": {
      "text/html": [
       "<style>#sk-container-id-4 {color: black;}#sk-container-id-4 pre{padding: 0;}#sk-container-id-4 div.sk-toggleable {background-color: white;}#sk-container-id-4 label.sk-toggleable__label {cursor: pointer;display: block;width: 100%;margin-bottom: 0;padding: 0.3em;box-sizing: border-box;text-align: center;}#sk-container-id-4 label.sk-toggleable__label-arrow:before {content: \"▸\";float: left;margin-right: 0.25em;color: #696969;}#sk-container-id-4 label.sk-toggleable__label-arrow:hover:before {color: black;}#sk-container-id-4 div.sk-estimator:hover label.sk-toggleable__label-arrow:before {color: black;}#sk-container-id-4 div.sk-toggleable__content {max-height: 0;max-width: 0;overflow: hidden;text-align: left;background-color: #f0f8ff;}#sk-container-id-4 div.sk-toggleable__content pre {margin: 0.2em;color: black;border-radius: 0.25em;background-color: #f0f8ff;}#sk-container-id-4 input.sk-toggleable__control:checked~div.sk-toggleable__content {max-height: 200px;max-width: 100%;overflow: auto;}#sk-container-id-4 input.sk-toggleable__control:checked~label.sk-toggleable__label-arrow:before {content: \"▾\";}#sk-container-id-4 div.sk-estimator input.sk-toggleable__control:checked~label.sk-toggleable__label {background-color: #d4ebff;}#sk-container-id-4 div.sk-label input.sk-toggleable__control:checked~label.sk-toggleable__label {background-color: #d4ebff;}#sk-container-id-4 input.sk-hidden--visually {border: 0;clip: rect(1px 1px 1px 1px);clip: rect(1px, 1px, 1px, 1px);height: 1px;margin: -1px;overflow: hidden;padding: 0;position: absolute;width: 1px;}#sk-container-id-4 div.sk-estimator {font-family: monospace;background-color: #f0f8ff;border: 1px dotted black;border-radius: 0.25em;box-sizing: border-box;margin-bottom: 0.5em;}#sk-container-id-4 div.sk-estimator:hover {background-color: #d4ebff;}#sk-container-id-4 div.sk-parallel-item::after {content: \"\";width: 100%;border-bottom: 1px solid gray;flex-grow: 1;}#sk-container-id-4 div.sk-label:hover label.sk-toggleable__label {background-color: #d4ebff;}#sk-container-id-4 div.sk-serial::before {content: \"\";position: absolute;border-left: 1px solid gray;box-sizing: border-box;top: 0;bottom: 0;left: 50%;z-index: 0;}#sk-container-id-4 div.sk-serial {display: flex;flex-direction: column;align-items: center;background-color: white;padding-right: 0.2em;padding-left: 0.2em;position: relative;}#sk-container-id-4 div.sk-item {position: relative;z-index: 1;}#sk-container-id-4 div.sk-parallel {display: flex;align-items: stretch;justify-content: center;background-color: white;position: relative;}#sk-container-id-4 div.sk-item::before, #sk-container-id-4 div.sk-parallel-item::before {content: \"\";position: absolute;border-left: 1px solid gray;box-sizing: border-box;top: 0;bottom: 0;left: 50%;z-index: -1;}#sk-container-id-4 div.sk-parallel-item {display: flex;flex-direction: column;z-index: 1;position: relative;background-color: white;}#sk-container-id-4 div.sk-parallel-item:first-child::after {align-self: flex-end;width: 50%;}#sk-container-id-4 div.sk-parallel-item:last-child::after {align-self: flex-start;width: 50%;}#sk-container-id-4 div.sk-parallel-item:only-child::after {width: 0;}#sk-container-id-4 div.sk-dashed-wrapped {border: 1px dashed gray;margin: 0 0.4em 0.5em 0.4em;box-sizing: border-box;padding-bottom: 0.4em;background-color: white;}#sk-container-id-4 div.sk-label label {font-family: monospace;font-weight: bold;display: inline-block;line-height: 1.2em;}#sk-container-id-4 div.sk-label-container {text-align: center;}#sk-container-id-4 div.sk-container {/* jupyter's `normalize.less` sets `[hidden] { display: none; }` but bootstrap.min.css set `[hidden] { display: none !important; }` so we also need the `!important` here to be able to override the default hidden behavior on the sphinx rendered scikit-learn.org. See: https://github.com/scikit-learn/scikit-learn/issues/21755 */display: inline-block !important;position: relative;}#sk-container-id-4 div.sk-text-repr-fallback {display: none;}</style><div id=\"sk-container-id-4\" class=\"sk-top-container\"><div class=\"sk-text-repr-fallback\"><pre>Pipeline(steps=[(&#x27;standardscaler&#x27;, StandardScaler()),\n",
       "                (&#x27;ridge&#x27;, Ridge(alpha=0.01))])</pre><b>In a Jupyter environment, please rerun this cell to show the HTML representation or trust the notebook. <br />On GitHub, the HTML representation is unable to render, please try loading this page with nbviewer.org.</b></div><div class=\"sk-container\" hidden><div class=\"sk-item sk-dashed-wrapped\"><div class=\"sk-label-container\"><div class=\"sk-label sk-toggleable\"><input class=\"sk-toggleable__control sk-hidden--visually\" id=\"sk-estimator-id-10\" type=\"checkbox\" ><label for=\"sk-estimator-id-10\" class=\"sk-toggleable__label sk-toggleable__label-arrow\">Pipeline</label><div class=\"sk-toggleable__content\"><pre>Pipeline(steps=[(&#x27;standardscaler&#x27;, StandardScaler()),\n",
       "                (&#x27;ridge&#x27;, Ridge(alpha=0.01))])</pre></div></div></div><div class=\"sk-serial\"><div class=\"sk-item\"><div class=\"sk-estimator sk-toggleable\"><input class=\"sk-toggleable__control sk-hidden--visually\" id=\"sk-estimator-id-11\" type=\"checkbox\" ><label for=\"sk-estimator-id-11\" class=\"sk-toggleable__label sk-toggleable__label-arrow\">StandardScaler</label><div class=\"sk-toggleable__content\"><pre>StandardScaler()</pre></div></div></div><div class=\"sk-item\"><div class=\"sk-estimator sk-toggleable\"><input class=\"sk-toggleable__control sk-hidden--visually\" id=\"sk-estimator-id-12\" type=\"checkbox\" ><label for=\"sk-estimator-id-12\" class=\"sk-toggleable__label sk-toggleable__label-arrow\">Ridge</label><div class=\"sk-toggleable__content\"><pre>Ridge(alpha=0.01)</pre></div></div></div></div></div></div></div>"
      ],
      "text/plain": [
       "Pipeline(steps=[('standardscaler', StandardScaler()),\n",
       "                ('ridge', Ridge(alpha=0.01))])"
      ]
     },
     "execution_count": 44,
     "metadata": {},
     "output_type": "execute_result"
    }
   ],
   "source": [
    "best_model_article.fit(X_train, y_train)"
   ]
  },
  {
   "cell_type": "code",
   "execution_count": 45,
   "metadata": {},
   "outputs": [],
   "source": [
    "predictions_test = best_model_article.predict(X_test)\n",
    "\n",
    "results = pd.DataFrame({\n",
    "    'id': np.arange(len(predictions_test)),\n",
    "    'energy': predictions_test\n",
    "})\n",
    "results = results.sort_values(by='energy').reset_index(drop=True)\n",
    "results['id'] = results['id'] + 6592\n",
    "results.to_csv('results/scattering_only_article.csv', index=False)"
   ]
  },
  {
   "cell_type": "markdown",
   "metadata": {},
   "source": [
    "### With additional features"
   ]
  },
  {
   "cell_type": "code",
   "execution_count": 46,
   "metadata": {},
   "outputs": [],
   "source": [
    "X_train = np.concatenate([train_scattering_coef_article, additional_features_train], axis=1)\n",
    "y_train = energies_df['energy'].to_list()\n",
    "\n",
    "X_test = np.concatenate([test_scattering_coef_article, additional_features_test], axis=1)"
   ]
  },
  {
   "cell_type": "code",
   "execution_count": 47,
   "metadata": {},
   "outputs": [
    {
     "name": "stdout",
     "output_type": "stream",
     "text": [
      "LinearRegression: RMSE = 2.8695\n",
      "Ridge regression, best alpha: 0.01, RMSE: 0.22952343951001308\n",
      "Lasso: RMSE = 1.4311\n",
      "SVR: RMSE = 2.5384\n",
      "KNN: RMSE = 2.4487\n",
      "DecisionTree: RMSE = 0.8628\n",
      "RandomForest: RMSE = 0.5480\n",
      "GradientBoosting: RMSE = 0.5134\n",
      "XGBoost: RMSE = 0.4346\n",
      "\n",
      "Meilleur modèle : Ridge avec une RMSE de 0.2295\n"
     ]
    }
   ],
   "source": [
    "best_model_article_and_features, best_model_name_article_and_features, best_rmse_article_and_features = find_best_model(models, X_train, y_train, cross_val_folds=5)"
   ]
  },
  {
   "cell_type": "code",
   "execution_count": 51,
   "metadata": {},
   "outputs": [
    {
     "data": {
      "text/html": [
       "<style>#sk-container-id-6 {color: black;}#sk-container-id-6 pre{padding: 0;}#sk-container-id-6 div.sk-toggleable {background-color: white;}#sk-container-id-6 label.sk-toggleable__label {cursor: pointer;display: block;width: 100%;margin-bottom: 0;padding: 0.3em;box-sizing: border-box;text-align: center;}#sk-container-id-6 label.sk-toggleable__label-arrow:before {content: \"▸\";float: left;margin-right: 0.25em;color: #696969;}#sk-container-id-6 label.sk-toggleable__label-arrow:hover:before {color: black;}#sk-container-id-6 div.sk-estimator:hover label.sk-toggleable__label-arrow:before {color: black;}#sk-container-id-6 div.sk-toggleable__content {max-height: 0;max-width: 0;overflow: hidden;text-align: left;background-color: #f0f8ff;}#sk-container-id-6 div.sk-toggleable__content pre {margin: 0.2em;color: black;border-radius: 0.25em;background-color: #f0f8ff;}#sk-container-id-6 input.sk-toggleable__control:checked~div.sk-toggleable__content {max-height: 200px;max-width: 100%;overflow: auto;}#sk-container-id-6 input.sk-toggleable__control:checked~label.sk-toggleable__label-arrow:before {content: \"▾\";}#sk-container-id-6 div.sk-estimator input.sk-toggleable__control:checked~label.sk-toggleable__label {background-color: #d4ebff;}#sk-container-id-6 div.sk-label input.sk-toggleable__control:checked~label.sk-toggleable__label {background-color: #d4ebff;}#sk-container-id-6 input.sk-hidden--visually {border: 0;clip: rect(1px 1px 1px 1px);clip: rect(1px, 1px, 1px, 1px);height: 1px;margin: -1px;overflow: hidden;padding: 0;position: absolute;width: 1px;}#sk-container-id-6 div.sk-estimator {font-family: monospace;background-color: #f0f8ff;border: 1px dotted black;border-radius: 0.25em;box-sizing: border-box;margin-bottom: 0.5em;}#sk-container-id-6 div.sk-estimator:hover {background-color: #d4ebff;}#sk-container-id-6 div.sk-parallel-item::after {content: \"\";width: 100%;border-bottom: 1px solid gray;flex-grow: 1;}#sk-container-id-6 div.sk-label:hover label.sk-toggleable__label {background-color: #d4ebff;}#sk-container-id-6 div.sk-serial::before {content: \"\";position: absolute;border-left: 1px solid gray;box-sizing: border-box;top: 0;bottom: 0;left: 50%;z-index: 0;}#sk-container-id-6 div.sk-serial {display: flex;flex-direction: column;align-items: center;background-color: white;padding-right: 0.2em;padding-left: 0.2em;position: relative;}#sk-container-id-6 div.sk-item {position: relative;z-index: 1;}#sk-container-id-6 div.sk-parallel {display: flex;align-items: stretch;justify-content: center;background-color: white;position: relative;}#sk-container-id-6 div.sk-item::before, #sk-container-id-6 div.sk-parallel-item::before {content: \"\";position: absolute;border-left: 1px solid gray;box-sizing: border-box;top: 0;bottom: 0;left: 50%;z-index: -1;}#sk-container-id-6 div.sk-parallel-item {display: flex;flex-direction: column;z-index: 1;position: relative;background-color: white;}#sk-container-id-6 div.sk-parallel-item:first-child::after {align-self: flex-end;width: 50%;}#sk-container-id-6 div.sk-parallel-item:last-child::after {align-self: flex-start;width: 50%;}#sk-container-id-6 div.sk-parallel-item:only-child::after {width: 0;}#sk-container-id-6 div.sk-dashed-wrapped {border: 1px dashed gray;margin: 0 0.4em 0.5em 0.4em;box-sizing: border-box;padding-bottom: 0.4em;background-color: white;}#sk-container-id-6 div.sk-label label {font-family: monospace;font-weight: bold;display: inline-block;line-height: 1.2em;}#sk-container-id-6 div.sk-label-container {text-align: center;}#sk-container-id-6 div.sk-container {/* jupyter's `normalize.less` sets `[hidden] { display: none; }` but bootstrap.min.css set `[hidden] { display: none !important; }` so we also need the `!important` here to be able to override the default hidden behavior on the sphinx rendered scikit-learn.org. See: https://github.com/scikit-learn/scikit-learn/issues/21755 */display: inline-block !important;position: relative;}#sk-container-id-6 div.sk-text-repr-fallback {display: none;}</style><div id=\"sk-container-id-6\" class=\"sk-top-container\"><div class=\"sk-text-repr-fallback\"><pre>Pipeline(steps=[(&#x27;standardscaler&#x27;, StandardScaler()),\n",
       "                (&#x27;ridge&#x27;, Ridge(alpha=0.01))])</pre><b>In a Jupyter environment, please rerun this cell to show the HTML representation or trust the notebook. <br />On GitHub, the HTML representation is unable to render, please try loading this page with nbviewer.org.</b></div><div class=\"sk-container\" hidden><div class=\"sk-item sk-dashed-wrapped\"><div class=\"sk-label-container\"><div class=\"sk-label sk-toggleable\"><input class=\"sk-toggleable__control sk-hidden--visually\" id=\"sk-estimator-id-16\" type=\"checkbox\" ><label for=\"sk-estimator-id-16\" class=\"sk-toggleable__label sk-toggleable__label-arrow\">Pipeline</label><div class=\"sk-toggleable__content\"><pre>Pipeline(steps=[(&#x27;standardscaler&#x27;, StandardScaler()),\n",
       "                (&#x27;ridge&#x27;, Ridge(alpha=0.01))])</pre></div></div></div><div class=\"sk-serial\"><div class=\"sk-item\"><div class=\"sk-estimator sk-toggleable\"><input class=\"sk-toggleable__control sk-hidden--visually\" id=\"sk-estimator-id-17\" type=\"checkbox\" ><label for=\"sk-estimator-id-17\" class=\"sk-toggleable__label sk-toggleable__label-arrow\">StandardScaler</label><div class=\"sk-toggleable__content\"><pre>StandardScaler()</pre></div></div></div><div class=\"sk-item\"><div class=\"sk-estimator sk-toggleable\"><input class=\"sk-toggleable__control sk-hidden--visually\" id=\"sk-estimator-id-18\" type=\"checkbox\" ><label for=\"sk-estimator-id-18\" class=\"sk-toggleable__label sk-toggleable__label-arrow\">Ridge</label><div class=\"sk-toggleable__content\"><pre>Ridge(alpha=0.01)</pre></div></div></div></div></div></div></div>"
      ],
      "text/plain": [
       "Pipeline(steps=[('standardscaler', StandardScaler()),\n",
       "                ('ridge', Ridge(alpha=0.01))])"
      ]
     },
     "execution_count": 51,
     "metadata": {},
     "output_type": "execute_result"
    }
   ],
   "source": [
    "best_model_article_and_features.fit(X_train, y_train)"
   ]
  },
  {
   "cell_type": "code",
   "execution_count": 52,
   "metadata": {},
   "outputs": [],
   "source": [
    "predictions_test = best_model_article_and_features.predict(X_test)\n",
    "\n",
    "results = pd.DataFrame({\n",
    "    'id': np.arange(len(predictions_test)),\n",
    "    'energy': predictions_test\n",
    "})\n",
    "results = results.sort_values(by='energy').reset_index(drop=True)\n",
    "results['id'] = results['id'] + 6592\n",
    "results.to_csv('results/scattering_article_with_other_features.csv', index=False)"
   ]
  },
  {
   "cell_type": "markdown",
   "metadata": {},
   "source": [
    "# Scattering with Coulomb matrix"
   ]
  },
  {
   "cell_type": "markdown",
   "metadata": {},
   "source": [
    "## Create Coulomb matrix"
   ]
  },
  {
   "cell_type": "code",
   "execution_count": 17,
   "metadata": {},
   "outputs": [],
   "source": [
    "def create_train_coulomb_matrix(data_dir, file_ids, target_values, n_atoms_max):\n",
    "    cm_sorted = CoulombMatrix(n_atoms_max=n_atoms_max, permutation=\"sorted_l2\")\n",
    "    cm_raw = CoulombMatrix(n_atoms_max=n_atoms_max, permutation=\"none\")\n",
    "\n",
    "    X_raw, X_sorted, y_raw, y_sorted = [], [], [], []\n",
    "    atom_labels_list = []\n",
    "\n",
    "    for i, mol_id in enumerate(file_ids):\n",
    "        xyz_path = os.path.join(data_dir, f\"id_{mol_id}.xyz\")\n",
    "        if os.path.isfile(xyz_path):\n",
    "            try:\n",
    "                atoms = read(xyz_path)\n",
    "                atom_names = atoms.get_chemical_symbols()\n",
    "\n",
    "                if len(atom_names) < n_atoms_max:\n",
    "                    atom_names += [\"\"] * (n_atoms_max - len(atom_names))\n",
    "                \n",
    "                atom_labels_list.append(atom_names)  \n",
    "\n",
    "                cm_r = cm_raw.create(atoms).reshape((n_atoms_max, n_atoms_max))\n",
    "                X_raw.append(cm_r)\n",
    "                y_raw.append(target_values[i])\n",
    "\n",
    "                cm_s = cm_sorted.create(atoms).reshape((n_atoms_max, n_atoms_max))\n",
    "                X_sorted.append(cm_s)\n",
    "                y_sorted.append(target_values[i])\n",
    "\n",
    "            except Exception as e:\n",
    "                print(f\"Erreur de lecture pour {xyz_path}: {e}\")\n",
    "        else:\n",
    "            print(f\"Fichier manquant : {xyz_path}\")\n",
    "\n",
    "    X_raw = np.array(X_raw)\n",
    "    X_sorted = np.array(X_sorted)\n",
    "    y_raw = np.array(y_raw)\n",
    "    y_sorted = np.array(y_sorted)\n",
    "\n",
    "    y_raw = np.array(y_raw)\n",
    "    y_sorted = np.array(y_sorted)\n",
    "    return X_raw, X_sorted, y_raw, y_sorted, atom_labels_list"
   ]
  },
  {
   "cell_type": "code",
   "execution_count": 18,
   "metadata": {},
   "outputs": [],
   "source": [
    "def create_test_coulomb_matrix(data_dir, id_start=6592, id_end=8238, n_atoms_max=23):\n",
    "    cm_sorted = CoulombMatrix(n_atoms_max=n_atoms_max, permutation=\"sorted_l2\")\n",
    "    cm_raw = CoulombMatrix(n_atoms_max=n_atoms_max, permutation=\"none\")\n",
    "\n",
    "    X_raw, X_sorted = [], []\n",
    "    test_ids = []\n",
    "\n",
    "    for mol_id in range(id_start, id_end + 1):\n",
    "        filename = f\"id_{mol_id}.xyz\"\n",
    "        xyz_path = os.path.join(data_dir, filename)\n",
    "\n",
    "        if os.path.isfile(xyz_path):\n",
    "            try:\n",
    "                atoms = read(xyz_path)\n",
    "\n",
    "                # Create raw Coulomb matrix\n",
    "                cm_r = cm_raw.create(atoms).reshape((n_atoms_max, n_atoms_max))\n",
    "                X_raw.append(cm_r)\n",
    "\n",
    "                # Create sorted Coulomb matrix\n",
    "                cm_s = cm_sorted.create(atoms).reshape((n_atoms_max, n_atoms_max))\n",
    "                X_sorted.append(cm_s)\n",
    "\n",
    "                test_ids.append(mol_id)\n",
    "\n",
    "            except Exception as e:\n",
    "                print(f\"Error reading {filename}: {e}\")\n",
    "        else:\n",
    "            print(f\"File missing: {filename}\")\n",
    "\n",
    "    X_raw = np.array(X_raw)\n",
    "    X_sorted = np.array(X_sorted)\n",
    "\n",
    "    return X_raw, X_sorted, test_ids"
   ]
  },
  {
   "cell_type": "markdown",
   "metadata": {},
   "source": [
    "### Without additional features"
   ]
  },
  {
   "cell_type": "code",
   "execution_count": 19,
   "metadata": {},
   "outputs": [],
   "source": [
    "file_ids = energies_df[\"id\"].tolist()\n",
    "target_values = energies_df[\"energy\"].values\n",
    "n_atoms_max = 23  "
   ]
  },
  {
   "cell_type": "code",
   "execution_count": 20,
   "metadata": {},
   "outputs": [],
   "source": [
    "X_train_raw, X_train_sorted, y_train_raw, y_train_sorted, train_atom_labels = create_train_coulomb_matrix(\n",
    "    atoms_train_dir, file_ids, target_values, n_atoms_max\n",
    ")\n",
    "X_test_raw, X_test_sorted,test_ids = create_test_coulomb_matrix(atoms_test_dir)"
   ]
  },
  {
   "cell_type": "code",
   "execution_count": 21,
   "metadata": {},
   "outputs": [],
   "source": [
    "X_raw_flattened_train = X_train_raw.reshape(X_train_raw.shape[0], -1) \n",
    "X_sorted_flattened_train = X_train_sorted.reshape(X_train_sorted.shape[0], -1)  \n",
    "\n",
    "X_raw_flattened_test = X_test_sorted.reshape(X_test_raw.shape[0], -1)  \n",
    "X_sorted_flattened_test = X_test_sorted.reshape(X_test_sorted.shape[0], -1)  "
   ]
  },
  {
   "cell_type": "code",
   "execution_count": 22,
   "metadata": {},
   "outputs": [],
   "source": [
    "X_train = np.concatenate([train_scattering_coef_article,X_raw_flattened_train], axis=1)\n",
    "y_train = energies_df['energy'].to_list()\n",
    "\n",
    "X_test = np.concatenate([test_scattering_coef_article,X_raw_flattened_test], axis=1)"
   ]
  },
  {
   "cell_type": "code",
   "execution_count": 23,
   "metadata": {},
   "outputs": [
    {
     "name": "stdout",
     "output_type": "stream",
     "text": [
      "LinearRegression: RMSE = 23.4822\n"
     ]
    },
    {
     "name": "stderr",
     "output_type": "stream",
     "text": [
      "/home/besbesines/.local/lib/python3.10/site-packages/sklearn/linear_model/_ridge.py:200: LinAlgWarning: Ill-conditioned matrix (rcond=8.05484e-17): result may not be accurate.\n",
      "  return linalg.solve(A, Xy, assume_a=\"pos\", overwrite_a=True).T\n",
      "/home/besbesines/.local/lib/python3.10/site-packages/sklearn/linear_model/_ridge.py:200: LinAlgWarning: Ill-conditioned matrix (rcond=7.95554e-17): result may not be accurate.\n",
      "  return linalg.solve(A, Xy, assume_a=\"pos\", overwrite_a=True).T\n",
      "/home/besbesines/.local/lib/python3.10/site-packages/sklearn/linear_model/_ridge.py:200: LinAlgWarning: Ill-conditioned matrix (rcond=9.22651e-17): result may not be accurate.\n",
      "  return linalg.solve(A, Xy, assume_a=\"pos\", overwrite_a=True).T\n",
      "/home/besbesines/.local/lib/python3.10/site-packages/sklearn/linear_model/_ridge.py:200: LinAlgWarning: Ill-conditioned matrix (rcond=8.34931e-17): result may not be accurate.\n",
      "  return linalg.solve(A, Xy, assume_a=\"pos\", overwrite_a=True).T\n",
      "/home/besbesines/.local/lib/python3.10/site-packages/sklearn/linear_model/_ridge.py:200: LinAlgWarning: Ill-conditioned matrix (rcond=7.41832e-17): result may not be accurate.\n",
      "  return linalg.solve(A, Xy, assume_a=\"pos\", overwrite_a=True).T\n"
     ]
    },
    {
     "name": "stdout",
     "output_type": "stream",
     "text": [
      "Ridge regression, best alpha: 0.1, RMSE: 0.4057552227619756\n",
      "Lasso: RMSE = 2.9372\n",
      "SVR: RMSE = 2.6690\n",
      "KNN: RMSE = 1.1561\n",
      "DecisionTree: RMSE = 0.8756\n",
      "RandomForest: RMSE = 0.5787\n",
      "GradientBoosting: RMSE = 0.6095\n",
      "XGBoost: RMSE = 0.5406\n",
      "\n",
      "Meilleur modèle : Ridge avec une RMSE de 0.4058\n"
     ]
    }
   ],
   "source": [
    "best_model_scattering_coulomb, best_model_name_scattering_coulomb, best_rmse_scattering_coulomb = find_best_model(models, X_train, y_train, cross_val_folds=5)"
   ]
  },
  {
   "cell_type": "code",
   "execution_count": 24,
   "metadata": {},
   "outputs": [
    {
     "data": {
      "text/html": [
       "<style>#sk-container-id-1 {color: black;}#sk-container-id-1 pre{padding: 0;}#sk-container-id-1 div.sk-toggleable {background-color: white;}#sk-container-id-1 label.sk-toggleable__label {cursor: pointer;display: block;width: 100%;margin-bottom: 0;padding: 0.3em;box-sizing: border-box;text-align: center;}#sk-container-id-1 label.sk-toggleable__label-arrow:before {content: \"▸\";float: left;margin-right: 0.25em;color: #696969;}#sk-container-id-1 label.sk-toggleable__label-arrow:hover:before {color: black;}#sk-container-id-1 div.sk-estimator:hover label.sk-toggleable__label-arrow:before {color: black;}#sk-container-id-1 div.sk-toggleable__content {max-height: 0;max-width: 0;overflow: hidden;text-align: left;background-color: #f0f8ff;}#sk-container-id-1 div.sk-toggleable__content pre {margin: 0.2em;color: black;border-radius: 0.25em;background-color: #f0f8ff;}#sk-container-id-1 input.sk-toggleable__control:checked~div.sk-toggleable__content {max-height: 200px;max-width: 100%;overflow: auto;}#sk-container-id-1 input.sk-toggleable__control:checked~label.sk-toggleable__label-arrow:before {content: \"▾\";}#sk-container-id-1 div.sk-estimator input.sk-toggleable__control:checked~label.sk-toggleable__label {background-color: #d4ebff;}#sk-container-id-1 div.sk-label input.sk-toggleable__control:checked~label.sk-toggleable__label {background-color: #d4ebff;}#sk-container-id-1 input.sk-hidden--visually {border: 0;clip: rect(1px 1px 1px 1px);clip: rect(1px, 1px, 1px, 1px);height: 1px;margin: -1px;overflow: hidden;padding: 0;position: absolute;width: 1px;}#sk-container-id-1 div.sk-estimator {font-family: monospace;background-color: #f0f8ff;border: 1px dotted black;border-radius: 0.25em;box-sizing: border-box;margin-bottom: 0.5em;}#sk-container-id-1 div.sk-estimator:hover {background-color: #d4ebff;}#sk-container-id-1 div.sk-parallel-item::after {content: \"\";width: 100%;border-bottom: 1px solid gray;flex-grow: 1;}#sk-container-id-1 div.sk-label:hover label.sk-toggleable__label {background-color: #d4ebff;}#sk-container-id-1 div.sk-serial::before {content: \"\";position: absolute;border-left: 1px solid gray;box-sizing: border-box;top: 0;bottom: 0;left: 50%;z-index: 0;}#sk-container-id-1 div.sk-serial {display: flex;flex-direction: column;align-items: center;background-color: white;padding-right: 0.2em;padding-left: 0.2em;position: relative;}#sk-container-id-1 div.sk-item {position: relative;z-index: 1;}#sk-container-id-1 div.sk-parallel {display: flex;align-items: stretch;justify-content: center;background-color: white;position: relative;}#sk-container-id-1 div.sk-item::before, #sk-container-id-1 div.sk-parallel-item::before {content: \"\";position: absolute;border-left: 1px solid gray;box-sizing: border-box;top: 0;bottom: 0;left: 50%;z-index: -1;}#sk-container-id-1 div.sk-parallel-item {display: flex;flex-direction: column;z-index: 1;position: relative;background-color: white;}#sk-container-id-1 div.sk-parallel-item:first-child::after {align-self: flex-end;width: 50%;}#sk-container-id-1 div.sk-parallel-item:last-child::after {align-self: flex-start;width: 50%;}#sk-container-id-1 div.sk-parallel-item:only-child::after {width: 0;}#sk-container-id-1 div.sk-dashed-wrapped {border: 1px dashed gray;margin: 0 0.4em 0.5em 0.4em;box-sizing: border-box;padding-bottom: 0.4em;background-color: white;}#sk-container-id-1 div.sk-label label {font-family: monospace;font-weight: bold;display: inline-block;line-height: 1.2em;}#sk-container-id-1 div.sk-label-container {text-align: center;}#sk-container-id-1 div.sk-container {/* jupyter's `normalize.less` sets `[hidden] { display: none; }` but bootstrap.min.css set `[hidden] { display: none !important; }` so we also need the `!important` here to be able to override the default hidden behavior on the sphinx rendered scikit-learn.org. See: https://github.com/scikit-learn/scikit-learn/issues/21755 */display: inline-block !important;position: relative;}#sk-container-id-1 div.sk-text-repr-fallback {display: none;}</style><div id=\"sk-container-id-1\" class=\"sk-top-container\"><div class=\"sk-text-repr-fallback\"><pre>Pipeline(steps=[(&#x27;standardscaler&#x27;, StandardScaler()),\n",
       "                (&#x27;ridge&#x27;, Ridge(alpha=0.1))])</pre><b>In a Jupyter environment, please rerun this cell to show the HTML representation or trust the notebook. <br />On GitHub, the HTML representation is unable to render, please try loading this page with nbviewer.org.</b></div><div class=\"sk-container\" hidden><div class=\"sk-item sk-dashed-wrapped\"><div class=\"sk-label-container\"><div class=\"sk-label sk-toggleable\"><input class=\"sk-toggleable__control sk-hidden--visually\" id=\"sk-estimator-id-1\" type=\"checkbox\" ><label for=\"sk-estimator-id-1\" class=\"sk-toggleable__label sk-toggleable__label-arrow\">Pipeline</label><div class=\"sk-toggleable__content\"><pre>Pipeline(steps=[(&#x27;standardscaler&#x27;, StandardScaler()),\n",
       "                (&#x27;ridge&#x27;, Ridge(alpha=0.1))])</pre></div></div></div><div class=\"sk-serial\"><div class=\"sk-item\"><div class=\"sk-estimator sk-toggleable\"><input class=\"sk-toggleable__control sk-hidden--visually\" id=\"sk-estimator-id-2\" type=\"checkbox\" ><label for=\"sk-estimator-id-2\" class=\"sk-toggleable__label sk-toggleable__label-arrow\">StandardScaler</label><div class=\"sk-toggleable__content\"><pre>StandardScaler()</pre></div></div></div><div class=\"sk-item\"><div class=\"sk-estimator sk-toggleable\"><input class=\"sk-toggleable__control sk-hidden--visually\" id=\"sk-estimator-id-3\" type=\"checkbox\" ><label for=\"sk-estimator-id-3\" class=\"sk-toggleable__label sk-toggleable__label-arrow\">Ridge</label><div class=\"sk-toggleable__content\"><pre>Ridge(alpha=0.1)</pre></div></div></div></div></div></div></div>"
      ],
      "text/plain": [
       "Pipeline(steps=[('standardscaler', StandardScaler()),\n",
       "                ('ridge', Ridge(alpha=0.1))])"
      ]
     },
     "execution_count": 24,
     "metadata": {},
     "output_type": "execute_result"
    }
   ],
   "source": [
    "best_model_scattering_coulomb.fit(X_train, y_train)"
   ]
  },
  {
   "cell_type": "code",
   "execution_count": 25,
   "metadata": {},
   "outputs": [],
   "source": [
    "predictions_test = best_model_scattering_coulomb.predict(X_test)\n",
    "\n",
    "results = pd.DataFrame({\n",
    "    'id': np.arange(len(predictions_test)),\n",
    "    'energy': predictions_test\n",
    "})\n",
    "results = results.sort_values(by='energy').reset_index(drop=True)\n",
    "results['id'] = results['id'] + 6592\n",
    "results.to_csv('results/scattering_article_coulomb_raw_only.csv', index=False)"
   ]
  },
  {
   "cell_type": "markdown",
   "metadata": {},
   "source": [
    "### With additional features"
   ]
  },
  {
   "cell_type": "code",
   "execution_count": 26,
   "metadata": {},
   "outputs": [],
   "source": [
    "X_train = np.concatenate([train_scattering_coef_article, X_raw_flattened_train, additional_features_train], axis=1)\n",
    "y_train = energies_df['energy'].to_list()\n",
    "\n",
    "X_test = np.concatenate([test_scattering_coef_article, X_raw_flattened_test, additional_features_test], axis=1)"
   ]
  },
  {
   "cell_type": "code",
   "execution_count": 27,
   "metadata": {},
   "outputs": [
    {
     "name": "stdout",
     "output_type": "stream",
     "text": [
      "LinearRegression: RMSE = 8.5514\n"
     ]
    },
    {
     "name": "stderr",
     "output_type": "stream",
     "text": [
      "/home/besbesines/.local/lib/python3.10/site-packages/sklearn/linear_model/_ridge.py:200: LinAlgWarning: Ill-conditioned matrix (rcond=8.44195e-17): result may not be accurate.\n",
      "  return linalg.solve(A, Xy, assume_a=\"pos\", overwrite_a=True).T\n",
      "/home/besbesines/.local/lib/python3.10/site-packages/sklearn/linear_model/_ridge.py:200: LinAlgWarning: Ill-conditioned matrix (rcond=8.49146e-17): result may not be accurate.\n",
      "  return linalg.solve(A, Xy, assume_a=\"pos\", overwrite_a=True).T\n",
      "/home/besbesines/.local/lib/python3.10/site-packages/sklearn/linear_model/_ridge.py:200: LinAlgWarning: Ill-conditioned matrix (rcond=8.57707e-17): result may not be accurate.\n",
      "  return linalg.solve(A, Xy, assume_a=\"pos\", overwrite_a=True).T\n",
      "/home/besbesines/.local/lib/python3.10/site-packages/sklearn/linear_model/_ridge.py:200: LinAlgWarning: Ill-conditioned matrix (rcond=8.59015e-17): result may not be accurate.\n",
      "  return linalg.solve(A, Xy, assume_a=\"pos\", overwrite_a=True).T\n",
      "/home/besbesines/.local/lib/python3.10/site-packages/sklearn/linear_model/_ridge.py:200: LinAlgWarning: Ill-conditioned matrix (rcond=8.66577e-17): result may not be accurate.\n",
      "  return linalg.solve(A, Xy, assume_a=\"pos\", overwrite_a=True).T\n"
     ]
    },
    {
     "name": "stdout",
     "output_type": "stream",
     "text": [
      "Ridge regression, best alpha: 0.01, RMSE: 0.17181378487798485\n",
      "Lasso: RMSE = 1.4311\n",
      "SVR: RMSE = 2.5456\n",
      "KNN: RMSE = 1.1042\n",
      "DecisionTree: RMSE = 0.6699\n",
      "RandomForest: RMSE = 0.4884\n",
      "GradientBoosting: RMSE = 0.4749\n",
      "XGBoost: RMSE = 0.4272\n",
      "\n",
      "Meilleur modèle : Ridge avec une RMSE de 0.1718\n"
     ]
    }
   ],
   "source": [
    "best_model_scattering_coulomb_and_features, best_model_name_scattering_coulomb_and_features, best_rmse_scattering_coulomb_and_features = find_best_model(models, X_train, y_train, cross_val_folds=5)"
   ]
  },
  {
   "cell_type": "code",
   "execution_count": 31,
   "metadata": {},
   "outputs": [
    {
     "data": {
      "text/html": [
       "<style>#sk-container-id-3 {color: black;}#sk-container-id-3 pre{padding: 0;}#sk-container-id-3 div.sk-toggleable {background-color: white;}#sk-container-id-3 label.sk-toggleable__label {cursor: pointer;display: block;width: 100%;margin-bottom: 0;padding: 0.3em;box-sizing: border-box;text-align: center;}#sk-container-id-3 label.sk-toggleable__label-arrow:before {content: \"▸\";float: left;margin-right: 0.25em;color: #696969;}#sk-container-id-3 label.sk-toggleable__label-arrow:hover:before {color: black;}#sk-container-id-3 div.sk-estimator:hover label.sk-toggleable__label-arrow:before {color: black;}#sk-container-id-3 div.sk-toggleable__content {max-height: 0;max-width: 0;overflow: hidden;text-align: left;background-color: #f0f8ff;}#sk-container-id-3 div.sk-toggleable__content pre {margin: 0.2em;color: black;border-radius: 0.25em;background-color: #f0f8ff;}#sk-container-id-3 input.sk-toggleable__control:checked~div.sk-toggleable__content {max-height: 200px;max-width: 100%;overflow: auto;}#sk-container-id-3 input.sk-toggleable__control:checked~label.sk-toggleable__label-arrow:before {content: \"▾\";}#sk-container-id-3 div.sk-estimator input.sk-toggleable__control:checked~label.sk-toggleable__label {background-color: #d4ebff;}#sk-container-id-3 div.sk-label input.sk-toggleable__control:checked~label.sk-toggleable__label {background-color: #d4ebff;}#sk-container-id-3 input.sk-hidden--visually {border: 0;clip: rect(1px 1px 1px 1px);clip: rect(1px, 1px, 1px, 1px);height: 1px;margin: -1px;overflow: hidden;padding: 0;position: absolute;width: 1px;}#sk-container-id-3 div.sk-estimator {font-family: monospace;background-color: #f0f8ff;border: 1px dotted black;border-radius: 0.25em;box-sizing: border-box;margin-bottom: 0.5em;}#sk-container-id-3 div.sk-estimator:hover {background-color: #d4ebff;}#sk-container-id-3 div.sk-parallel-item::after {content: \"\";width: 100%;border-bottom: 1px solid gray;flex-grow: 1;}#sk-container-id-3 div.sk-label:hover label.sk-toggleable__label {background-color: #d4ebff;}#sk-container-id-3 div.sk-serial::before {content: \"\";position: absolute;border-left: 1px solid gray;box-sizing: border-box;top: 0;bottom: 0;left: 50%;z-index: 0;}#sk-container-id-3 div.sk-serial {display: flex;flex-direction: column;align-items: center;background-color: white;padding-right: 0.2em;padding-left: 0.2em;position: relative;}#sk-container-id-3 div.sk-item {position: relative;z-index: 1;}#sk-container-id-3 div.sk-parallel {display: flex;align-items: stretch;justify-content: center;background-color: white;position: relative;}#sk-container-id-3 div.sk-item::before, #sk-container-id-3 div.sk-parallel-item::before {content: \"\";position: absolute;border-left: 1px solid gray;box-sizing: border-box;top: 0;bottom: 0;left: 50%;z-index: -1;}#sk-container-id-3 div.sk-parallel-item {display: flex;flex-direction: column;z-index: 1;position: relative;background-color: white;}#sk-container-id-3 div.sk-parallel-item:first-child::after {align-self: flex-end;width: 50%;}#sk-container-id-3 div.sk-parallel-item:last-child::after {align-self: flex-start;width: 50%;}#sk-container-id-3 div.sk-parallel-item:only-child::after {width: 0;}#sk-container-id-3 div.sk-dashed-wrapped {border: 1px dashed gray;margin: 0 0.4em 0.5em 0.4em;box-sizing: border-box;padding-bottom: 0.4em;background-color: white;}#sk-container-id-3 div.sk-label label {font-family: monospace;font-weight: bold;display: inline-block;line-height: 1.2em;}#sk-container-id-3 div.sk-label-container {text-align: center;}#sk-container-id-3 div.sk-container {/* jupyter's `normalize.less` sets `[hidden] { display: none; }` but bootstrap.min.css set `[hidden] { display: none !important; }` so we also need the `!important` here to be able to override the default hidden behavior on the sphinx rendered scikit-learn.org. See: https://github.com/scikit-learn/scikit-learn/issues/21755 */display: inline-block !important;position: relative;}#sk-container-id-3 div.sk-text-repr-fallback {display: none;}</style><div id=\"sk-container-id-3\" class=\"sk-top-container\"><div class=\"sk-text-repr-fallback\"><pre>Pipeline(steps=[(&#x27;standardscaler&#x27;, StandardScaler()),\n",
       "                (&#x27;ridge&#x27;, Ridge(alpha=0.01))])</pre><b>In a Jupyter environment, please rerun this cell to show the HTML representation or trust the notebook. <br />On GitHub, the HTML representation is unable to render, please try loading this page with nbviewer.org.</b></div><div class=\"sk-container\" hidden><div class=\"sk-item sk-dashed-wrapped\"><div class=\"sk-label-container\"><div class=\"sk-label sk-toggleable\"><input class=\"sk-toggleable__control sk-hidden--visually\" id=\"sk-estimator-id-7\" type=\"checkbox\" ><label for=\"sk-estimator-id-7\" class=\"sk-toggleable__label sk-toggleable__label-arrow\">Pipeline</label><div class=\"sk-toggleable__content\"><pre>Pipeline(steps=[(&#x27;standardscaler&#x27;, StandardScaler()),\n",
       "                (&#x27;ridge&#x27;, Ridge(alpha=0.01))])</pre></div></div></div><div class=\"sk-serial\"><div class=\"sk-item\"><div class=\"sk-estimator sk-toggleable\"><input class=\"sk-toggleable__control sk-hidden--visually\" id=\"sk-estimator-id-8\" type=\"checkbox\" ><label for=\"sk-estimator-id-8\" class=\"sk-toggleable__label sk-toggleable__label-arrow\">StandardScaler</label><div class=\"sk-toggleable__content\"><pre>StandardScaler()</pre></div></div></div><div class=\"sk-item\"><div class=\"sk-estimator sk-toggleable\"><input class=\"sk-toggleable__control sk-hidden--visually\" id=\"sk-estimator-id-9\" type=\"checkbox\" ><label for=\"sk-estimator-id-9\" class=\"sk-toggleable__label sk-toggleable__label-arrow\">Ridge</label><div class=\"sk-toggleable__content\"><pre>Ridge(alpha=0.01)</pre></div></div></div></div></div></div></div>"
      ],
      "text/plain": [
       "Pipeline(steps=[('standardscaler', StandardScaler()),\n",
       "                ('ridge', Ridge(alpha=0.01))])"
      ]
     },
     "execution_count": 31,
     "metadata": {},
     "output_type": "execute_result"
    }
   ],
   "source": [
    "best_model_scattering_coulomb_and_features.fit(X_train, y_train)"
   ]
  },
  {
   "cell_type": "code",
   "execution_count": 32,
   "metadata": {},
   "outputs": [],
   "source": [
    "predictions_test = best_model_scattering_coulomb_and_features.predict(X_test)"
   ]
  },
  {
   "cell_type": "code",
   "execution_count": 33,
   "metadata": {},
   "outputs": [],
   "source": [
    "results = pd.DataFrame({\n",
    "    'id': np.arange(len(predictions_test)),\n",
    "    'energy': predictions_test\n",
    "})\n",
    "results = results.sort_values(by='energy').reset_index(drop=True)\n",
    "results['id'] = results['id'] + 6592\n",
    "results.to_csv('results/scattering_article_coulomb_raw_with_other_features.csv', index=False)"
   ]
  }
 ],
 "metadata": {
  "kernelspec": {
   "display_name": "optim",
   "language": "python",
   "name": "python3"
  },
  "language_info": {
   "codemirror_mode": {
    "name": "ipython",
    "version": 3
   },
   "file_extension": ".py",
   "mimetype": "text/x-python",
   "name": "python",
   "nbconvert_exporter": "python",
   "pygments_lexer": "ipython3",
   "version": "3.10.13"
  }
 },
 "nbformat": 4,
 "nbformat_minor": 2
}
