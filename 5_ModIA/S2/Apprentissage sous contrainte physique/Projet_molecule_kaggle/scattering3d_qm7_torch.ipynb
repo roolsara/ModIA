{
 "cells": [
  {
   "cell_type": "code",
   "execution_count": 1,
   "metadata": {
    "collapsed": false
   },
   "outputs": [],
   "source": [
    "%matplotlib inline"
   ]
  },
  {
   "cell_type": "markdown",
   "metadata": {},
   "source": [
    "\n",
    "# 3D scattering quantum chemistry regression\n",
    "\n",
    "Description:\n",
    "This example trains a classifier combined with a scattering transform to\n",
    "regress molecular atomization energies on the QM7 dataset. Here, we use full\n",
    "charges, valence charges and core charges. A linear regression is deployed.\n",
    "\n",
    "Remarks:\n",
    "The linear regression of the QM7 energies with the given values gives MAE\n",
    "2.75, RMSE 4.18 (kcal.mol-1)\n",
    "\n",
    "Reference:\n",
    "https://arxiv.org/abs/1805.00571\n"
   ]
  },
  {
   "cell_type": "markdown",
   "metadata": {},
   "source": [
    "## Preliminaries\n",
    "\n",
    "First, we import NumPy, PyTorch, and some utility modules.\n",
    "\n"
   ]
  },
  {
   "cell_type": "code",
   "execution_count": 2,
   "metadata": {
    "collapsed": false
   },
   "outputs": [],
   "source": [
    "import numpy as np\n",
    "import torch\n",
    "import time\n",
    "import os"
   ]
  },
  {
   "cell_type": "markdown",
   "metadata": {},
   "source": [
    "We will use scikit-learn to construct a linear model, so we import the\n",
    "necessary modules. In addition, we need to compute distance matrices when\n",
    "normalizing our input features, so we import `pdist` from `scipy.spatial`.\n",
    "\n"
   ]
  },
  {
   "cell_type": "code",
   "execution_count": 3,
   "metadata": {
    "collapsed": false
   },
   "outputs": [],
   "source": [
    "from sklearn import (linear_model, model_selection, preprocessing,\n",
    "                     pipeline)\n",
    "from scipy.spatial.distance import pdist"
   ]
  },
  {
   "cell_type": "markdown",
   "metadata": {},
   "source": [
    "We then import the necessary functionality from Kymatio. First, we need the\n",
    "PyTorch frontend of the 3D solid harmonic cattering transform.\n",
    "\n"
   ]
  },
  {
   "cell_type": "code",
   "execution_count": 4,
   "metadata": {
    "collapsed": false
   },
   "outputs": [],
   "source": [
    "from kymatio.torch import HarmonicScattering3D"
   ]
  },
  {
   "cell_type": "markdown",
   "metadata": {},
   "source": [
    "The 3D transform doesn't compute the zeroth-order coefficients, so we need\n",
    "to import `compute_integrals` to do this manually.\n",
    "\n"
   ]
  },
  {
   "cell_type": "code",
   "execution_count": 5,
   "metadata": {
    "collapsed": false
   },
   "outputs": [],
   "source": [
    "from kymatio.scattering3d.backend.torch_backend \\\n",
    "    import TorchBackend3D"
   ]
  },
  {
   "cell_type": "markdown",
   "metadata": {},
   "source": [
    "To generate the input 3D maps, we need to calculate sums of Gaussians, so we\n",
    "import the function `generate_weighted_sum_of_gaussians`.\n",
    "\n"
   ]
  },
  {
   "cell_type": "code",
   "execution_count": 6,
   "metadata": {
    "collapsed": false
   },
   "outputs": [],
   "source": [
    "from kymatio.scattering3d.utils \\\n",
    "    import generate_weighted_sum_of_gaussians"
   ]
  },
  {
   "cell_type": "markdown",
   "metadata": {},
   "source": [
    "Finally, we import the utility functions that let us access the QM7 dataset\n",
    "and the cache directories to store our results.\n",
    "\n"
   ]
  },
  {
   "cell_type": "code",
   "execution_count": 7,
   "metadata": {
    "collapsed": false
   },
   "outputs": [],
   "source": [
    "from kymatio.datasets import fetch_qm7\n",
    "from kymatio.caching import get_cache_dir"
   ]
  },
  {
   "cell_type": "markdown",
   "metadata": {},
   "source": [
    "## Data preparation\n",
    "\n",
    "Fetch the QM7 database and extract the atomic positions and nuclear charges\n",
    "of each molecule. This dataset contains 7165 organic molecules with up to\n",
    "seven non-hydrogen atoms, whose energies were computed using density\n",
    "functional theory.\n",
    "\n"
   ]
  },
  {
   "cell_type": "code",
   "execution_count": 8,
   "metadata": {
    "collapsed": false
   },
   "outputs": [],
   "source": [
    "qm7 = fetch_qm7(align=True)\n",
    "pos = qm7['positions']\n",
    "full_charges = qm7['charges']\n",
    "\n",
    "n_molecules = pos.shape[0]"
   ]
  },
  {
   "cell_type": "code",
   "execution_count": 12,
   "metadata": {},
   "outputs": [
    {
     "data": {
      "text/plain": [
       "7165"
      ]
     },
     "execution_count": 12,
     "metadata": {},
     "output_type": "execute_result"
    }
   ],
   "source": [
    "n_molecules"
   ]
  },
  {
   "cell_type": "code",
   "execution_count": 28,
   "metadata": {},
   "outputs": [
    {
     "data": {
      "text/plain": [
       "(7165, 23)"
      ]
     },
     "execution_count": 28,
     "metadata": {},
     "output_type": "execute_result"
    }
   ],
   "source": [
    "full_charges.shape"
   ]
  },
  {
   "cell_type": "markdown",
   "metadata": {},
   "source": [
    "From the nuclear charges, we compute the number of valence electrons, which\n",
    "we store as the valence charge of that atom.\n",
    "\n"
   ]
  },
  {
   "cell_type": "code",
   "execution_count": 9,
   "metadata": {
    "collapsed": false
   },
   "outputs": [],
   "source": [
    "mask = full_charges <= 2\n",
    "valence_charges = full_charges * mask\n",
    "\n",
    "mask = np.logical_and(full_charges > 2, full_charges <= 10)\n",
    "valence_charges += (full_charges - 2) * mask\n",
    "\n",
    "mask = np.logical_and(full_charges > 10, full_charges <= 18)\n",
    "valence_charges += (full_charges - 10) * mask"
   ]
  },
  {
   "cell_type": "markdown",
   "metadata": {},
   "source": [
    "We then normalize the positions of the atoms. Specifically, the positions\n",
    "are rescaled such that two Gaussians of width `sigma` placed at those\n",
    "positions overlap with amplitude less than `overlapping_precision`.\n",
    "\n"
   ]
  },
  {
   "cell_type": "code",
   "execution_count": 13,
   "metadata": {
    "collapsed": false
   },
   "outputs": [],
   "source": [
    "overlapping_precision = 1e-1\n",
    "sigma = 2.0\n",
    "min_dist = np.inf\n",
    "\n",
    "for i in range(n_molecules):\n",
    "    n_atoms = np.sum(full_charges[i] != 0)\n",
    "    pos_i = pos[i, :n_atoms, :]\n",
    "    min_dist = min(min_dist, pdist(pos_i).min())\n",
    "\n",
    "delta = sigma * np.sqrt(-8 * np.log(overlapping_precision))\n",
    "pos = pos * delta / min_dist"
   ]
  },
  {
   "cell_type": "markdown",
   "metadata": {},
   "source": [
    "## Scattering Transform\n",
    "Given the rescaled positions and charges, we are now ready to compute the\n",
    "density maps by placing Gaussians at the different positions weighted by the\n",
    "appropriate charge. These are fed into the 3D solid harmonic scattering\n",
    "transform to obtain features that are used to regress the energies. In\n",
    "order to do this, we must first define a grid.\n",
    "\n"
   ]
  },
  {
   "cell_type": "code",
   "execution_count": 16,
   "metadata": {
    "collapsed": false
   },
   "outputs": [],
   "source": [
    "M, N, O = 32, 32, 32\n",
    "\n",
    "grid = np.mgrid[-M//2:-M//2+M, -N//2:-N//2+N, -O//2:-O//2+O]\n",
    "grid = np.fft.ifftshift(grid)"
   ]
  },
  {
   "cell_type": "markdown",
   "metadata": {},
   "source": [
    "We then define the scattering transform using the `HarmonicScattering3D`\n",
    "class.\n",
    "\n"
   ]
  },
  {
   "cell_type": "code",
   "execution_count": 17,
   "metadata": {
    "collapsed": false
   },
   "outputs": [],
   "source": [
    "J = 1\n",
    "L = 2\n",
    "integral_powers = [0.5, 1.0, 2.0, 3.0]\n",
    "\n",
    "scattering = HarmonicScattering3D(J=J, shape=(M, N, O),\n",
    "                                  L=L, sigma_0=sigma,\n",
    "                                  integral_powers=integral_powers)"
   ]
  },
  {
   "cell_type": "markdown",
   "metadata": {},
   "source": [
    "We then check whether a GPU is available, in which case we transfer our\n",
    "scattering object there.\n",
    "\n"
   ]
  },
  {
   "cell_type": "code",
   "execution_count": 13,
   "metadata": {
    "collapsed": false
   },
   "outputs": [
    {
     "data": {
      "text/plain": [
       "HarmonicScattering3D()"
      ]
     },
     "execution_count": 13,
     "metadata": {},
     "output_type": "execute_result"
    }
   ],
   "source": [
    "use_cuda = torch.cuda.is_available()\n",
    "device = torch.device(\"cuda\" if use_cuda else \"cpu\")\n",
    "scattering.to(device)"
   ]
  },
  {
   "cell_type": "markdown",
   "metadata": {},
   "source": [
    "The maps computed for each molecule are quite large, so the computation has\n",
    "to be done by batches. Here we select a small batch size to ensure that we\n",
    "have enough memory when running on the GPU. Dividing the number of molecules\n",
    "by the batch size then gives us the number of batches.\n",
    "\n"
   ]
  },
  {
   "cell_type": "code",
   "execution_count": 14,
   "metadata": {
    "collapsed": false
   },
   "outputs": [
    {
     "name": "stdout",
     "output_type": "stream",
     "text": [
      "896\n"
     ]
    }
   ],
   "source": [
    "batch_size = 8\n",
    "n_batches = int(np.ceil(n_molecules / batch_size))\n",
    "print(n_batches)"
   ]
  },
  {
   "cell_type": "markdown",
   "metadata": {},
   "source": [
    "We are now ready to compute the scattering transforms. In the following\n",
    "loop, each batch of molecules is transformed into three maps using Gaussians\n",
    "centered at the atomic positions, one for the nuclear charges, one for the\n",
    "valence charges, and one with their difference (called the “core” charges).\n",
    "For each map, we compute its scattering transform up to order two and store\n",
    "the results.\n",
    "\n"
   ]
  },
  {
   "cell_type": "code",
   "execution_count": 15,
   "metadata": {
    "collapsed": false
   },
   "outputs": [
    {
     "name": "stdout",
     "output_type": "stream",
     "text": [
      "Computing solid harmonic scattering coefficients of 7165 molecules from the QM7 database on GPU\n",
      "sigma: 2.0, L: 2, J: 1, integral powers: [0.5, 1.0, 2.0, 3.0]\n",
      "Iteration 1 ETA: -\n",
      "Iteration 2 ETA: [00:18:04]\n",
      "Iteration 3 ETA: [00:15:50]\n",
      "Iteration 4 ETA: [00:15:51]\n",
      "Iteration 5 ETA: [00:16:00]\n",
      "Iteration 6 ETA: [00:15:58]\n",
      "Iteration 7 ETA: [00:15:49]\n",
      "Iteration 8 ETA: [00:15:53]\n",
      "Iteration 9 ETA: [00:16:05]\n",
      "Iteration 10 ETA: [00:15:56]\n",
      "Iteration 11 ETA: [00:15:56]\n",
      "Iteration 12 ETA: [00:15:45]\n",
      "Iteration 13 ETA: [00:15:52]\n",
      "Iteration 14 ETA: [00:15:53]\n",
      "Iteration 15 ETA: [00:15:49]\n",
      "Iteration 16 ETA: [00:15:39]\n",
      "Iteration 17 ETA: [00:15:46]\n",
      "Iteration 18 ETA: [00:15:54]\n",
      "Iteration 19 ETA: [00:15:51]\n",
      "Iteration 20 ETA: [00:15:51]\n",
      "Iteration 21 ETA: [00:15:44]\n",
      "Iteration 22 ETA: [00:15:42]\n",
      "Iteration 23 ETA: [00:16:02]\n",
      "Iteration 24 ETA: [00:15:47]\n",
      "Iteration 25 ETA: [00:15:38]\n",
      "Iteration 26 ETA: [00:15:40]\n",
      "Iteration 27 ETA: [00:15:37]\n",
      "Iteration 28 ETA: [00:15:38]\n",
      "Iteration 29 ETA: [00:15:59]\n",
      "Iteration 30 ETA: [00:15:52]\n",
      "Iteration 31 ETA: [00:15:39]\n",
      "Iteration 32 ETA: [00:15:36]\n",
      "Iteration 33 ETA: [00:15:39]\n",
      "Iteration 34 ETA: [00:15:44]\n",
      "Iteration 35 ETA: [00:15:55]\n",
      "Iteration 36 ETA: [00:15:37]\n",
      "Iteration 37 ETA: [00:15:34]\n",
      "Iteration 38 ETA: [00:15:32]\n",
      "Iteration 39 ETA: [00:15:34]\n",
      "Iteration 40 ETA: [00:15:41]\n",
      "Iteration 41 ETA: [00:15:37]\n",
      "Iteration 42 ETA: [00:15:29]\n",
      "Iteration 43 ETA: [00:15:14]\n",
      "Iteration 44 ETA: [00:15:31]\n",
      "Iteration 45 ETA: [00:15:30]\n",
      "Iteration 46 ETA: [00:15:28]\n",
      "Iteration 47 ETA: [00:15:27]\n",
      "Iteration 48 ETA: [00:15:32]\n",
      "Iteration 49 ETA: [00:15:26]\n",
      "Iteration 50 ETA: [00:15:27]\n",
      "Iteration 51 ETA: [00:15:25]\n",
      "Iteration 52 ETA: [00:15:06]\n",
      "Iteration 53 ETA: [00:15:15]\n",
      "Iteration 54 ETA: [00:15:17]\n",
      "Iteration 55 ETA: [00:15:14]\n",
      "Iteration 56 ETA: [00:15:21]\n",
      "Iteration 57 ETA: [00:15:09]\n",
      "Iteration 58 ETA: [00:15:14]\n",
      "Iteration 59 ETA: [00:15:14]\n",
      "Iteration 60 ETA: [00:15:09]\n",
      "Iteration 61 ETA: [00:15:15]\n",
      "Iteration 62 ETA: [00:15:14]\n",
      "Iteration 63 ETA: [00:15:17]\n",
      "Iteration 64 ETA: [00:15:05]\n",
      "Iteration 65 ETA: [00:14:57]\n",
      "Iteration 66 ETA: [00:15:02]\n",
      "Iteration 67 ETA: [00:15:21]\n",
      "Iteration 68 ETA: [00:15:06]\n",
      "Iteration 69 ETA: [00:15:03]\n",
      "Iteration 70 ETA: [00:14:50]\n",
      "Iteration 71 ETA: [00:14:54]\n",
      "Iteration 72 ETA: [00:15:00]\n",
      "Iteration 73 ETA: [00:14:57]\n",
      "Iteration 74 ETA: [00:14:48]\n",
      "Iteration 75 ETA: [00:14:51]\n",
      "Iteration 76 ETA: [00:14:46]\n",
      "Iteration 77 ETA: [00:14:51]\n",
      "Iteration 78 ETA: [00:14:49]\n",
      "Iteration 79 ETA: [00:14:47]\n",
      "Iteration 80 ETA: [00:14:49]\n",
      "Iteration 81 ETA: [00:14:41]\n",
      "Iteration 82 ETA: [00:14:35]\n",
      "Iteration 83 ETA: [00:14:37]\n",
      "Iteration 84 ETA: [00:14:42]\n",
      "Iteration 85 ETA: [00:14:40]\n",
      "Iteration 86 ETA: [00:14:30]\n",
      "Iteration 87 ETA: [00:14:32]\n",
      "Iteration 88 ETA: [00:14:32]\n",
      "Iteration 89 ETA: [00:14:43]\n",
      "Iteration 90 ETA: [00:14:37]\n",
      "Iteration 91 ETA: [00:14:37]\n",
      "Iteration 92 ETA: [00:14:30]\n",
      "Iteration 93 ETA: [00:14:31]\n",
      "Iteration 94 ETA: [00:14:24]\n",
      "Iteration 95 ETA: [00:14:31]\n",
      "Iteration 96 ETA: [00:14:23]\n",
      "Iteration 97 ETA: [00:14:22]\n",
      "Iteration 98 ETA: [00:14:32]\n",
      "Iteration 99 ETA: [00:14:26]\n",
      "Iteration 100 ETA: [00:14:19]\n",
      "Iteration 101 ETA: [00:14:23]\n",
      "Iteration 102 ETA: [00:14:20]\n",
      "Iteration 103 ETA: [00:14:20]\n",
      "Iteration 104 ETA: [00:14:20]\n",
      "Iteration 105 ETA: [00:14:19]\n",
      "Iteration 106 ETA: [00:14:12]\n",
      "Iteration 107 ETA: [00:14:13]\n",
      "Iteration 108 ETA: [00:14:10]\n",
      "Iteration 109 ETA: [00:14:03]\n",
      "Iteration 110 ETA: [00:14:10]\n",
      "Iteration 111 ETA: [00:14:05]\n",
      "Iteration 112 ETA: [00:14:12]\n",
      "Iteration 113 ETA: [00:14:01]\n",
      "Iteration 114 ETA: [00:14:01]\n",
      "Iteration 115 ETA: [00:14:01]\n",
      "Iteration 116 ETA: [00:14:04]\n",
      "Iteration 117 ETA: [00:13:55]\n",
      "Iteration 118 ETA: [00:13:57]\n",
      "Iteration 119 ETA: [00:13:59]\n",
      "Iteration 120 ETA: [00:14:00]\n",
      "Iteration 121 ETA: [00:14:00]\n",
      "Iteration 122 ETA: [00:13:57]\n",
      "Iteration 123 ETA: [00:13:58]\n",
      "Iteration 124 ETA: [00:13:58]\n",
      "Iteration 125 ETA: [00:13:58]\n",
      "Iteration 126 ETA: [00:13:51]\n",
      "Iteration 127 ETA: [00:13:58]\n",
      "Iteration 128 ETA: [00:13:52]\n",
      "Iteration 129 ETA: [00:13:52]\n",
      "Iteration 130 ETA: [00:13:49]\n",
      "Iteration 131 ETA: [00:13:52]\n",
      "Iteration 132 ETA: [00:13:53]\n",
      "Iteration 133 ETA: [00:13:47]\n",
      "Iteration 134 ETA: [00:13:50]\n",
      "Iteration 135 ETA: [00:13:49]\n",
      "Iteration 136 ETA: [00:13:42]\n",
      "Iteration 137 ETA: [00:13:44]\n",
      "Iteration 138 ETA: [00:13:41]\n",
      "Iteration 139 ETA: [00:13:41]\n",
      "Iteration 140 ETA: [00:13:29]\n",
      "Iteration 141 ETA: [00:13:37]\n",
      "Iteration 142 ETA: [00:13:26]\n",
      "Iteration 143 ETA: [00:13:24]\n",
      "Iteration 144 ETA: [00:13:31]\n",
      "Iteration 145 ETA: [00:13:27]\n",
      "Iteration 146 ETA: [00:13:26]\n",
      "Iteration 147 ETA: [00:13:31]\n",
      "Iteration 148 ETA: [00:13:48]\n",
      "Iteration 149 ETA: [00:13:46]\n",
      "Iteration 150 ETA: [00:13:38]\n",
      "Iteration 151 ETA: [00:13:42]\n",
      "Iteration 152 ETA: [00:13:36]\n",
      "Iteration 153 ETA: [00:13:36]\n",
      "Iteration 154 ETA: [00:13:38]\n",
      "Iteration 155 ETA: [00:13:25]\n",
      "Iteration 156 ETA: [00:13:39]\n",
      "Iteration 157 ETA: [00:13:34]\n",
      "Iteration 158 ETA: [00:13:33]\n",
      "Iteration 159 ETA: [00:13:26]\n",
      "Iteration 160 ETA: [00:13:25]\n",
      "Iteration 161 ETA: [00:13:30]\n",
      "Iteration 162 ETA: [00:13:34]\n",
      "Iteration 163 ETA: [00:13:31]\n",
      "Iteration 164 ETA: [00:13:13]\n",
      "Iteration 165 ETA: [00:13:24]\n",
      "Iteration 166 ETA: [00:13:26]\n",
      "Iteration 167 ETA: [00:13:24]\n",
      "Iteration 168 ETA: [00:13:22]\n",
      "Iteration 169 ETA: [00:13:19]\n",
      "Iteration 170 ETA: [00:13:23]\n",
      "Iteration 171 ETA: [00:13:19]\n",
      "Iteration 172 ETA: [00:13:18]\n",
      "Iteration 173 ETA: [00:13:17]\n",
      "Iteration 174 ETA: [00:13:31]\n",
      "Iteration 175 ETA: [00:13:16]\n",
      "Iteration 176 ETA: [00:13:18]\n",
      "Iteration 177 ETA: [00:13:16]\n",
      "Iteration 178 ETA: [00:13:12]\n",
      "Iteration 179 ETA: [00:13:13]\n",
      "Iteration 180 ETA: [00:13:12]\n",
      "Iteration 181 ETA: [00:13:01]\n",
      "Iteration 182 ETA: [00:13:04]\n",
      "Iteration 183 ETA: [00:13:06]\n",
      "Iteration 184 ETA: [00:13:03]\n",
      "Iteration 185 ETA: [00:13:02]\n",
      "Iteration 186 ETA: [00:13:00]\n"
     ]
    },
    {
     "ename": "KeyboardInterrupt",
     "evalue": "",
     "output_type": "error",
     "traceback": [
      "\u001b[0;31m---------------------------------------------------------------------------\u001b[0m",
      "\u001b[0;31mKeyboardInterrupt\u001b[0m                         Traceback (most recent call last)",
      "Cell \u001b[0;32mIn[15], line 21\u001b[0m\n\u001b[1;32m     19\u001b[0m     \u001b[38;5;28mprint\u001b[39m(\u001b[38;5;124m\"\u001b[39m\u001b[38;5;124mIteration \u001b[39m\u001b[38;5;132;01m{}\u001b[39;00m\u001b[38;5;124m ETA: \u001b[39m\u001b[38;5;132;01m{}\u001b[39;00m\u001b[38;5;124m\"\u001b[39m\u001b[38;5;241m.\u001b[39mformat(i \u001b[38;5;241m+\u001b[39m \u001b[38;5;241m1\u001b[39m, \u001b[38;5;124m'\u001b[39m\u001b[38;5;124m-\u001b[39m\u001b[38;5;124m'\u001b[39m))\n\u001b[1;32m     20\u001b[0m last_time \u001b[38;5;241m=\u001b[39m this_time\n\u001b[0;32m---> 21\u001b[0m \u001b[43mtime\u001b[49m\u001b[38;5;241;43m.\u001b[39;49m\u001b[43msleep\u001b[49m\u001b[43m(\u001b[49m\u001b[38;5;241;43m1\u001b[39;49m\u001b[43m)\u001b[49m\n\u001b[1;32m     23\u001b[0m \u001b[38;5;66;03m# Extract the current batch.\u001b[39;00m\n\u001b[1;32m     24\u001b[0m start \u001b[38;5;241m=\u001b[39m i \u001b[38;5;241m*\u001b[39m batch_size\n",
      "\u001b[0;31mKeyboardInterrupt\u001b[0m: "
     ]
    }
   ],
   "source": [
    "order_0, orders_1_and_2 = [], []\n",
    "print('Computing solid harmonic scattering coefficients of '\n",
    "      '{} molecules from the QM7 database on {}'.format(\n",
    "        n_molecules,   \"GPU\" if use_cuda else \"CPU\"))\n",
    "print('sigma: {}, L: {}, J: {}, integral powers: {}'.format(\n",
    "        sigma, L, J, integral_powers))\n",
    "\n",
    "this_time = None\n",
    "last_time = None\n",
    "for i in range(n_batches):\n",
    "    this_time = time.time()\n",
    "    if last_time is not None:\n",
    "        dt = this_time - last_time\n",
    "        print(\"Iteration {} ETA: [{:02}:{:02}:{:02}]\".format(\n",
    "                    i + 1, int(((n_batches - i - 1) * dt) // 3600),\n",
    "                    int((((n_batches - i - 1) * dt) // 60) % 60),\n",
    "                    int(((n_batches - i - 1) * dt) % 60)))\n",
    "    else:\n",
    "        print(\"Iteration {} ETA: {}\".format(i + 1, '-'))\n",
    "    last_time = this_time\n",
    "    time.sleep(1)\n",
    "\n",
    "    # Extract the current batch.\n",
    "    start = i * batch_size\n",
    "    end = min(start + batch_size, n_molecules)\n",
    "\n",
    "    pos_batch = pos[start:end]\n",
    "    full_batch = full_charges[start:end]\n",
    "    val_batch = valence_charges[start:end]\n",
    "\n",
    "    # Calculate the density map for the nuclear charges and transfer\n",
    "    # to PyTorch.\n",
    "    full_density_batch = generate_weighted_sum_of_gaussians(grid,\n",
    "            pos_batch, full_batch, sigma)\n",
    "    full_density_batch = torch.from_numpy(full_density_batch)\n",
    "    full_density_batch = full_density_batch.to(device).float()\n",
    "\n",
    "    # Compute zeroth-order, first-order, and second-order scattering\n",
    "    # coefficients of the nuclear charges.\n",
    "    full_order_0 = TorchBackend3D.compute_integrals(full_density_batch,\n",
    "                                     integral_powers)\n",
    "    full_scattering = scattering(full_density_batch)\n",
    "\n",
    "    # Compute the map for valence charges.\n",
    "    val_density_batch = generate_weighted_sum_of_gaussians(grid,\n",
    "            pos_batch, val_batch, sigma)\n",
    "    val_density_batch = torch.from_numpy(val_density_batch)\n",
    "    val_density_batch = val_density_batch.to(device).float()\n",
    "\n",
    "    # Compute scattering coefficients for the valence charges.\n",
    "    val_order_0 = TorchBackend3D.compute_integrals(val_density_batch,\n",
    "                                    integral_powers)\n",
    "    val_scattering = scattering(val_density_batch)\n",
    "\n",
    "    # Take the difference between nuclear and valence charges, then\n",
    "    # compute the corresponding scattering coefficients.\n",
    "    core_density_batch = full_density_batch - val_density_batch\n",
    "\n",
    "    core_order_0 = TorchBackend3D.compute_integrals(core_density_batch,\n",
    "                                     integral_powers)\n",
    "    core_scattering = scattering(core_density_batch)\n",
    "\n",
    "    # Stack the nuclear, valence, and core coefficients into arrays\n",
    "    # and append them to the output.\n",
    "    batch_order_0 = torch.stack(\n",
    "        (full_order_0, val_order_0, core_order_0), dim=-1)\n",
    "    batch_orders_1_and_2 = torch.stack(\n",
    "        (full_scattering, val_scattering, core_scattering), dim=-1)\n",
    "\n",
    "    order_0.append(batch_order_0)\n",
    "    orders_1_and_2.append(batch_orders_1_and_2)"
   ]
  },
  {
   "cell_type": "markdown",
   "metadata": {},
   "source": [
    "Concatenate the batch outputs and transfer to NumPy.\n",
    "\n"
   ]
  },
  {
   "cell_type": "code",
   "execution_count": 17,
   "metadata": {
    "collapsed": false
   },
   "outputs": [],
   "source": [
    "order_0 = torch.cat(order_0, dim=0)\n",
    "orders_1_and_2 = torch.cat(orders_1_and_2, dim=0)\n",
    "\n",
    "order_0 = order_0.cpu().numpy()\n",
    "orders_1_and_2 = orders_1_and_2.cpu().numpy()"
   ]
  },
  {
   "cell_type": "markdown",
   "metadata": {},
   "source": [
    "## Regression\n",
    "\n",
    "To use the scattering coefficients as features in a scikit-learn pipeline,\n",
    "these must be of shape `(n_samples, n_features)`, so we reshape our arrays\n",
    "accordingly.\n",
    "\n"
   ]
  },
  {
   "cell_type": "code",
   "execution_count": 18,
   "metadata": {
    "collapsed": false
   },
   "outputs": [
    {
     "ename": "ValueError",
     "evalue": "cannot reshape array of size 480 into shape (7165,newaxis)",
     "output_type": "error",
     "traceback": [
      "\u001b[0;31m---------------------------------------------------------------------------\u001b[0m",
      "\u001b[0;31mValueError\u001b[0m                                Traceback (most recent call last)",
      "Cell \u001b[0;32mIn[18], line 1\u001b[0m\n\u001b[0;32m----> 1\u001b[0m order_0 \u001b[38;5;241m=\u001b[39m \u001b[43morder_0\u001b[49m\u001b[38;5;241;43m.\u001b[39;49m\u001b[43mreshape\u001b[49m\u001b[43m(\u001b[49m\u001b[43m(\u001b[49m\u001b[43mn_molecules\u001b[49m\u001b[43m,\u001b[49m\u001b[43m \u001b[49m\u001b[38;5;241;43m-\u001b[39;49m\u001b[38;5;241;43m1\u001b[39;49m\u001b[43m)\u001b[49m\u001b[43m)\u001b[49m\n\u001b[1;32m      2\u001b[0m orders_1_and_2 \u001b[38;5;241m=\u001b[39m orders_1_and_2\u001b[38;5;241m.\u001b[39mreshape((n_molecules, \u001b[38;5;241m-\u001b[39m\u001b[38;5;241m1\u001b[39m))\n",
      "\u001b[0;31mValueError\u001b[0m: cannot reshape array of size 480 into shape (7165,newaxis)"
     ]
    }
   ],
   "source": [
    "order_0 = order_0.reshape((n_molecules, -1))\n",
    "orders_1_and_2 = orders_1_and_2.reshape((n_molecules, -1))"
   ]
  },
  {
   "cell_type": "markdown",
   "metadata": {},
   "source": [
    "Since the above calculation is quite lengthy, we save the results to a cache\n",
    "for future use.\n",
    "\n"
   ]
  },
  {
   "cell_type": "code",
   "execution_count": 19,
   "metadata": {
    "collapsed": false
   },
   "outputs": [],
   "source": [
    "basename = 'qm7_L_{}_J_{}_sigma_{}_MNO_{}_powers_{}.npy'.format(\n",
    "        L, J, sigma, (M, N, O), integral_powers)\n",
    "\n",
    "cache_dir = get_cache_dir(\"qm7/experiments\")\n",
    "\n",
    "filename = os.path.join(cache_dir, 'order_0_' + basename)\n",
    "np.save(filename, order_0)\n",
    "\n",
    "filename = os.path.join(cache_dir, 'orders_1_and_2' + basename)\n",
    "np.save(filename, orders_1_and_2)"
   ]
  },
  {
   "cell_type": "markdown",
   "metadata": {},
   "source": [
    "We now concatenate the zeroth-order coefficients with the rest since we want\n",
    "to use all of them as features.\n",
    "\n"
   ]
  },
  {
   "cell_type": "code",
   "execution_count": 20,
   "metadata": {
    "collapsed": false
   },
   "outputs": [
    {
     "ename": "ValueError",
     "evalue": "all the input arrays must have same number of dimensions, but the array at index 0 has 3 dimension(s) and the array at index 1 has 5 dimension(s)",
     "output_type": "error",
     "traceback": [
      "\u001b[0;31m---------------------------------------------------------------------------\u001b[0m",
      "\u001b[0;31mValueError\u001b[0m                                Traceback (most recent call last)",
      "Cell \u001b[0;32mIn[20], line 1\u001b[0m\n\u001b[0;32m----> 1\u001b[0m scattering_coef \u001b[38;5;241m=\u001b[39m \u001b[43mnp\u001b[49m\u001b[38;5;241;43m.\u001b[39;49m\u001b[43mconcatenate\u001b[49m\u001b[43m(\u001b[49m\u001b[43m[\u001b[49m\u001b[43morder_0\u001b[49m\u001b[43m,\u001b[49m\u001b[43m \u001b[49m\u001b[43morders_1_and_2\u001b[49m\u001b[43m]\u001b[49m\u001b[43m,\u001b[49m\u001b[43m \u001b[49m\u001b[43maxis\u001b[49m\u001b[38;5;241;43m=\u001b[39;49m\u001b[38;5;241;43m1\u001b[39;49m\u001b[43m)\u001b[49m\n",
      "\u001b[0;31mValueError\u001b[0m: all the input arrays must have same number of dimensions, but the array at index 0 has 3 dimension(s) and the array at index 1 has 5 dimension(s)"
     ]
    }
   ],
   "source": [
    "scattering_coef = np.concatenate([order_0, orders_1_and_2], axis=1)"
   ]
  },
  {
   "cell_type": "markdown",
   "metadata": {},
   "source": [
    "Fetch the target energies from the QM7 dataset.\n",
    "\n"
   ]
  },
  {
   "cell_type": "code",
   "execution_count": 21,
   "metadata": {
    "collapsed": false
   },
   "outputs": [],
   "source": [
    "qm7 = fetch_qm7()\n",
    "target = qm7['energies']"
   ]
  },
  {
   "cell_type": "markdown",
   "metadata": {},
   "source": [
    "We evaluate the performance of the regression using five-fold\n",
    "cross-validation. To do so, we first shuffle the molecules, then we store\n",
    "the resulting indices in `cross_val_folds`.\n",
    "\n"
   ]
  },
  {
   "cell_type": "code",
   "execution_count": 23,
   "metadata": {},
   "outputs": [
    {
     "data": {
      "text/plain": [
       "7165"
      ]
     },
     "execution_count": 23,
     "metadata": {},
     "output_type": "execute_result"
    }
   ],
   "source": [
    "n_molecules"
   ]
  },
  {
   "cell_type": "code",
   "execution_count": 21,
   "metadata": {},
   "outputs": [],
   "source": [
    "order_0 = np.load('/home/besbesines/kymatio_cache/results/order_0_molecule_L_3_J_2_sigma_2.0_MNO_(192, 128, 96)_powers_[0.5, 1.0, 2.0, 3.0].npy')\n",
    "orders_1_and_2 = np.load('/home/besbesines/kymatio_cache/results/orders_1_and_2molecule_L_3_J_2_sigma_2.0_MNO_(192, 128, 96)_powers_[0.5, 1.0, 2.0, 3.0].npy')"
   ]
  },
  {
   "cell_type": "code",
   "execution_count": 22,
   "metadata": {
    "collapsed": false
   },
   "outputs": [],
   "source": [
    "n_folds = 5\n",
    "\n",
    "P = np.random.permutation(n_molecules).reshape((n_folds, -1))\n",
    "\n",
    "cross_val_folds = []\n",
    "\n",
    "for i_fold in range(n_folds):\n",
    "    fold = (np.concatenate(P[np.arange(n_folds) != i_fold], axis=0),\n",
    "            P[i_fold])\n",
    "    cross_val_folds.append(fold)"
   ]
  },
  {
   "cell_type": "markdown",
   "metadata": {},
   "source": [
    "Given these folds, we compute the regression error for various settings of\n",
    "the `alpha` parameter, which controls the amount of regularization applied\n",
    "to the regression problem (here in the form of a simple ridge regression, or\n",
    "Tikhonov, regularization). The mean absolute error (MAE) and root mean\n",
    "square error (RMSE) is output for each value of `alpha`.\n",
    "\n"
   ]
  },
  {
   "cell_type": "code",
   "execution_count": 23,
   "metadata": {
    "collapsed": false
   },
   "outputs": [
    {
     "ename": "NameError",
     "evalue": "name 'scattering_coef' is not defined",
     "output_type": "error",
     "traceback": [
      "\u001b[0;31m---------------------------------------------------------------------------\u001b[0m",
      "\u001b[0;31mNameError\u001b[0m                                 Traceback (most recent call last)",
      "Cell \u001b[0;32mIn[23], line 9\u001b[0m\n\u001b[1;32m      4\u001b[0m ridge \u001b[38;5;241m=\u001b[39m linear_model\u001b[38;5;241m.\u001b[39mRidge(alpha\u001b[38;5;241m=\u001b[39malpha)\n\u001b[1;32m      6\u001b[0m regressor \u001b[38;5;241m=\u001b[39m pipeline\u001b[38;5;241m.\u001b[39mmake_pipeline(scaler, ridge)\n\u001b[1;32m      8\u001b[0m target_prediction \u001b[38;5;241m=\u001b[39m model_selection\u001b[38;5;241m.\u001b[39mcross_val_predict(regressor,\n\u001b[0;32m----> 9\u001b[0m         X\u001b[38;5;241m=\u001b[39m\u001b[43mscattering_coef\u001b[49m, y\u001b[38;5;241m=\u001b[39mtarget, cv\u001b[38;5;241m=\u001b[39mcross_val_folds)\n\u001b[1;32m     11\u001b[0m MAE \u001b[38;5;241m=\u001b[39m np\u001b[38;5;241m.\u001b[39mmean(np\u001b[38;5;241m.\u001b[39mabs(target_prediction \u001b[38;5;241m-\u001b[39m target))\n\u001b[1;32m     12\u001b[0m RMSE \u001b[38;5;241m=\u001b[39m np\u001b[38;5;241m.\u001b[39msqrt(np\u001b[38;5;241m.\u001b[39mmean((target_prediction \u001b[38;5;241m-\u001b[39m target) \u001b[38;5;241m*\u001b[39m\u001b[38;5;241m*\u001b[39m \u001b[38;5;241m2\u001b[39m))\n",
      "\u001b[0;31mNameError\u001b[0m: name 'scattering_coef' is not defined"
     ]
    }
   ],
   "source": [
    "alphas = 10.0 ** (-np.arange(1, 10))\n",
    "for i, alpha in enumerate(alphas):\n",
    "    scaler = preprocessing.StandardScaler()\n",
    "    ridge = linear_model.Ridge(alpha=alpha)\n",
    "\n",
    "    regressor = pipeline.make_pipeline(scaler, ridge)\n",
    "\n",
    "    target_prediction = model_selection.cross_val_predict(regressor,\n",
    "            X=scattering_coef, y=target, cv=cross_val_folds)\n",
    "\n",
    "    MAE = np.mean(np.abs(target_prediction - target))\n",
    "    RMSE = np.sqrt(np.mean((target_prediction - target) ** 2))\n",
    "\n",
    "    print('Ridge regression, alpha: {}, MAE: {}, RMSE: {}'.format(\n",
    "        alpha, MAE, RMSE))"
   ]
  }
 ],
 "metadata": {
  "kernelspec": {
   "display_name": "optim",
   "language": "python",
   "name": "python3"
  },
  "language_info": {
   "codemirror_mode": {
    "name": "ipython",
    "version": 3
   },
   "file_extension": ".py",
   "mimetype": "text/x-python",
   "name": "python",
   "nbconvert_exporter": "python",
   "pygments_lexer": "ipython3",
   "version": "3.10.13"
  }
 },
 "nbformat": 4,
 "nbformat_minor": 0
}
