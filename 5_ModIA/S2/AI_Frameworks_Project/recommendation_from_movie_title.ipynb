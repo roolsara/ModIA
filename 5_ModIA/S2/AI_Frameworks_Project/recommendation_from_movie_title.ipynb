{
 "cells": [
  {
   "cell_type": "code",
   "execution_count": 30,
   "metadata": {},
   "outputs": [
    {
     "name": "stdout",
     "output_type": "stream",
     "text": [
      "✅ Chargé : 44512 films.\n",
      "✅ Tous les indexes Annoy chargés.\n"
     ]
    }
   ],
   "source": [
    "## a été lancé localement\n",
    "import os\n",
    "import pickle\n",
    "from annoy import AnnoyIndex\n",
    "import requests\n",
    "\n",
    "with open(\"vector_db.pkl\", \"rb\") as f:\n",
    "    vector_db = pickle.load(f)\n",
    "\n",
    "print(f\"Chargé : {len(vector_db)} films.\")\n",
    "\n",
    "id_to_title = {idx: vector_db[idx][\"title\"] for idx in vector_db}\n",
    "title_to_id = {title: idx for idx, title in id_to_title.items()}\n",
    "\n",
    "indexes = {}\n",
    "for method in INDEX_URLS.keys():\n",
    "    dim = len(vector_db[0][method])\n",
    "    idx = AnnoyIndex(dim, 'angular')\n",
    "    idx.load(f\"{method}_index.ann\")\n",
    "    indexes[method] = idx\n",
    "\n",
    "print(\"Tous les indexes Annoy chargés.\")\n",
    "\n",
    "def recommend(title, method, top_n=5):\n",
    "    if title not in title_to_id:\n",
    "        return f\"Le film '{title}' n'existe pas dans la base.\"\n",
    "    \n",
    "    idx = title_to_id[title]\n",
    "    neighbors = indexes[method].get_nns_by_item(idx, top_n + 1)[1:] \n",
    "    recos = [id_to_title[n] for n in neighbors]\n",
    "    \n",
    "    print(f\"Recommandations similaires à : '{title}' (méthode : {method})\")\n",
    "    for i, r in enumerate(recos, 1):\n",
    "        print(f\"{i}. {r}\")\n"
   ]
  },
  {
   "cell_type": "code",
   "execution_count": 31,
   "metadata": {},
   "outputs": [
    {
     "name": "stdout",
     "output_type": "stream",
     "text": [
      "🎬 Recommandations similaires à : 'The Matrix' (méthode : distilbert)\n",
      "1. Cyborg X\n",
      "2. Prisoners of the Lost Universe\n",
      "3. The Crash\n",
      "4. Android Cop\n",
      "5. Remains\n"
     ]
    }
   ],
   "source": [
    "recommend(\"The Matrix\", \"distilbert\")"
   ]
  }
 ],
 "metadata": {
  "kernelspec": {
   "display_name": "Python 3",
   "language": "python",
   "name": "python3"
  },
  "language_info": {
   "codemirror_mode": {
    "name": "ipython",
    "version": 3
   },
   "file_extension": ".py",
   "mimetype": "text/x-python",
   "name": "python",
   "nbconvert_exporter": "python",
   "pygments_lexer": "ipython3",
   "version": "3.10.13"
  }
 },
 "nbformat": 4,
 "nbformat_minor": 2
}
