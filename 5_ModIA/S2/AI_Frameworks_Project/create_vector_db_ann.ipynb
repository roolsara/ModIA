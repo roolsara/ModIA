{
 "cells": [
  {
   "cell_type": "code",
   "execution_count": 2,
   "metadata": {},
   "outputs": [
    {
     "data": {
      "text/html": [
       "<div>\n",
       "<style scoped>\n",
       "    .dataframe tbody tr th:only-of-type {\n",
       "        vertical-align: middle;\n",
       "    }\n",
       "\n",
       "    .dataframe tbody tr th {\n",
       "        vertical-align: top;\n",
       "    }\n",
       "\n",
       "    .dataframe thead th {\n",
       "        text-align: right;\n",
       "    }\n",
       "</style>\n",
       "<table border=\"1\" class=\"dataframe\">\n",
       "  <thead>\n",
       "    <tr style=\"text-align: right;\">\n",
       "      <th></th>\n",
       "      <th>original_title</th>\n",
       "      <th>overview</th>\n",
       "      <th>bow_embedding</th>\n",
       "      <th>tfidf_embedding</th>\n",
       "      <th>glove_embedding</th>\n",
       "      <th>distilbert_embedding</th>\n",
       "    </tr>\n",
       "  </thead>\n",
       "  <tbody>\n",
       "    <tr>\n",
       "      <th>0</th>\n",
       "      <td>Toy Story</td>\n",
       "      <td>Led by Woody, Andy's toys live happily in his ...</td>\n",
       "      <td>[0, 0, 0, 0, 0, 0, 0, 0, 0, 0, 0, 0, 0, 0, 0, ...</td>\n",
       "      <td>[0.0, 0.0, 0.0, 0.0, 0.0, 0.0, 0.0, 0.0, 0.0, ...</td>\n",
       "      <td>[-0.020005550235509872, 0.21014796197414398, 0...</td>\n",
       "      <td>[-2.50181526e-01  2.13542148e-01  2.42972970e-...</td>\n",
       "    </tr>\n",
       "    <tr>\n",
       "      <th>1</th>\n",
       "      <td>Jumanji</td>\n",
       "      <td>When siblings Judy and Peter discover an encha...</td>\n",
       "      <td>[0, 0, 0, 0, 0, 0, 0, 0, 0, 0, 0, 0, 0, 0, 0, ...</td>\n",
       "      <td>[0.0, 0.0, 0.0, 0.0, 0.0, 0.0, 0.0, 0.0, 0.0, ...</td>\n",
       "      <td>[0.031650930643081665, 0.23956623673439026, 0....</td>\n",
       "      <td>[-2.30265379e-01  1.25701606e-01  2.22994342e-...</td>\n",
       "    </tr>\n",
       "    <tr>\n",
       "      <th>2</th>\n",
       "      <td>Grumpier Old Men</td>\n",
       "      <td>A family wedding reignites the ancient feud be...</td>\n",
       "      <td>[0, 0, 0, 0, 0, 0, 0, 0, 0, 0, 0, 0, 0, 0, 0, ...</td>\n",
       "      <td>[0.0, 0.0, 0.0, 0.0, 0.0, 0.0, 0.0, 0.0, 0.0, ...</td>\n",
       "      <td>[-0.07700946927070618, 0.17933276295661926, 0....</td>\n",
       "      <td>[-7.44484961e-02 -1.16385005e-01  2.24213406e-...</td>\n",
       "    </tr>\n",
       "    <tr>\n",
       "      <th>3</th>\n",
       "      <td>Waiting to Exhale</td>\n",
       "      <td>Cheated on, mistreated and stepped on, the wom...</td>\n",
       "      <td>[0, 0, 0, 0, 0, 0, 0, 0, 0, 0, 0, 0, 0, 0, 0, ...</td>\n",
       "      <td>[0.0, 0.0, 0.0, 0.0, 0.0, 0.0, 0.0, 0.0, 0.0, ...</td>\n",
       "      <td>[0.08693083375692368, 0.11770206689834595, 0.2...</td>\n",
       "      <td>[ 1.23767488e-01  8.40852708e-02  4.18685287e-...</td>\n",
       "    </tr>\n",
       "    <tr>\n",
       "      <th>4</th>\n",
       "      <td>Father of the Bride Part II</td>\n",
       "      <td>Just when George Banks has recovered from his ...</td>\n",
       "      <td>[0, 0, 0, 0, 0, 0, 0, 0, 0, 0, 0, 0, 0, 0, 0, ...</td>\n",
       "      <td>[0.0, 0.0, 0.0, 0.0, 0.0, 0.0, 0.0, 0.0, 0.0, ...</td>\n",
       "      <td>[0.05611945316195488, 0.0037858595605939627, 0...</td>\n",
       "      <td>[-1.70990497e-01 -9.64889675e-02  4.28808451e-...</td>\n",
       "    </tr>\n",
       "  </tbody>\n",
       "</table>\n",
       "</div>"
      ],
      "text/plain": [
       "                original_title  \\\n",
       "0                    Toy Story   \n",
       "1                      Jumanji   \n",
       "2             Grumpier Old Men   \n",
       "3            Waiting to Exhale   \n",
       "4  Father of the Bride Part II   \n",
       "\n",
       "                                            overview  \\\n",
       "0  Led by Woody, Andy's toys live happily in his ...   \n",
       "1  When siblings Judy and Peter discover an encha...   \n",
       "2  A family wedding reignites the ancient feud be...   \n",
       "3  Cheated on, mistreated and stepped on, the wom...   \n",
       "4  Just when George Banks has recovered from his ...   \n",
       "\n",
       "                                       bow_embedding  \\\n",
       "0  [0, 0, 0, 0, 0, 0, 0, 0, 0, 0, 0, 0, 0, 0, 0, ...   \n",
       "1  [0, 0, 0, 0, 0, 0, 0, 0, 0, 0, 0, 0, 0, 0, 0, ...   \n",
       "2  [0, 0, 0, 0, 0, 0, 0, 0, 0, 0, 0, 0, 0, 0, 0, ...   \n",
       "3  [0, 0, 0, 0, 0, 0, 0, 0, 0, 0, 0, 0, 0, 0, 0, ...   \n",
       "4  [0, 0, 0, 0, 0, 0, 0, 0, 0, 0, 0, 0, 0, 0, 0, ...   \n",
       "\n",
       "                                     tfidf_embedding  \\\n",
       "0  [0.0, 0.0, 0.0, 0.0, 0.0, 0.0, 0.0, 0.0, 0.0, ...   \n",
       "1  [0.0, 0.0, 0.0, 0.0, 0.0, 0.0, 0.0, 0.0, 0.0, ...   \n",
       "2  [0.0, 0.0, 0.0, 0.0, 0.0, 0.0, 0.0, 0.0, 0.0, ...   \n",
       "3  [0.0, 0.0, 0.0, 0.0, 0.0, 0.0, 0.0, 0.0, 0.0, ...   \n",
       "4  [0.0, 0.0, 0.0, 0.0, 0.0, 0.0, 0.0, 0.0, 0.0, ...   \n",
       "\n",
       "                                     glove_embedding  \\\n",
       "0  [-0.020005550235509872, 0.21014796197414398, 0...   \n",
       "1  [0.031650930643081665, 0.23956623673439026, 0....   \n",
       "2  [-0.07700946927070618, 0.17933276295661926, 0....   \n",
       "3  [0.08693083375692368, 0.11770206689834595, 0.2...   \n",
       "4  [0.05611945316195488, 0.0037858595605939627, 0...   \n",
       "\n",
       "                                distilbert_embedding  \n",
       "0  [-2.50181526e-01  2.13542148e-01  2.42972970e-...  \n",
       "1  [-2.30265379e-01  1.25701606e-01  2.22994342e-...  \n",
       "2  [-7.44484961e-02 -1.16385005e-01  2.24213406e-...  \n",
       "3  [ 1.23767488e-01  8.40852708e-02  4.18685287e-...  \n",
       "4  [-1.70990497e-01 -9.64889675e-02  4.28808451e-...  "
      ]
     },
     "execution_count": 2,
     "metadata": {},
     "output_type": "execute_result"
    }
   ],
   "source": [
    "import pandas as pd\n",
    "import ast\n",
    "import pickle\n",
    "from annoy import AnnoyIndex\n",
    "import numpy as np\n",
    "df = pd.read_csv(\"embeddings.csv\").rename(columns={\"bow_embedding_count\": \"bow_embedding\", \"bow_embedding_tfidf\": \"tfidf_embedding\"})\n",
    "# df.head()"
   ]
  },
  {
   "cell_type": "code",
   "execution_count": 3,
   "metadata": {},
   "outputs": [],
   "source": [
    "def parse_vector_safe(text):\n",
    "    try:\n",
    "        if isinstance(text, str):\n",
    "            cleaned = text.replace('[', '').replace(']', '')\n",
    "            numbers = [float(x) for x in cleaned.split()]\n",
    "            return numbers\n",
    "        elif isinstance(text, list):\n",
    "            return text \n",
    "    except:\n",
    "        return []"
   ]
  },
  {
   "cell_type": "code",
   "execution_count": 4,
   "metadata": {},
   "outputs": [],
   "source": [
    "methods = [\"glove_embedding\", \"bow_embedding\", \"tfidf_embedding\", \"distilbert_embedding\"]\n",
    "\n",
    "df['glove_embedding'] = df['glove_embedding'].apply(ast.literal_eval)\n",
    "df[\"bow_embedding\"] = df[\"bow_embedding\"].apply(ast.literal_eval)\n",
    "df[\"tfidf_embedding\"] = df[\"tfidf_embedding\"].apply(ast.literal_eval)\n",
    "df[\"distilbert_embedding\"] = df[\"distilbert_embedding\"].apply(parse_vector_safe)\n"
   ]
  },
  {
   "cell_type": "code",
   "execution_count": 7,
   "metadata": {},
   "outputs": [],
   "source": [
    "vector_db = {}\n",
    "for idx, row in df.iterrows():\n",
    "    vector_db[idx] = {\n",
    "        \"title\": row[\"original_title\"],\n",
    "        \"glove\": row[\"glove_embedding\"],\n",
    "        \"bow\": row[\"bow_embedding\"],\n",
    "        \"tfidf\": row[\"tfidf_embedding\"],\n",
    "        \"distilbert\": row[\"distilbert_embedding\"]\n",
    "    }"
   ]
  },
  {
   "cell_type": "code",
   "execution_count": 10,
   "metadata": {},
   "outputs": [
    {
     "name": "stdout",
     "output_type": "stream",
     "text": [
      "✅ Fichiers générés : vector_db.pkl + 4 fichiers .ann\n"
     ]
    }
   ],
   "source": [
    "with open(\"vector_db.pkl\", \"wb\") as f:\n",
    "    pickle.dump(vector_db, f)\n",
    "\n",
    "for method in [\"glove\", \"bow\", \"tfidf\", \"distilbert\"]:\n",
    "    dim = len(vector_db[0][method])\n",
    "    index = AnnoyIndex(dim, 'angular')\n",
    "    for idx in vector_db:\n",
    "        index.add_item(idx, vector_db[idx][method])\n",
    "    index.build(10) \n",
    "    index.save(f\"{method}_index.ann\")\n",
    "\n",
    "print(\"Fichiers générés : vector_db.pkl + 4 fichiers .ann\")\n"
   ]
  }
 ],
 "metadata": {
  "kernelspec": {
   "display_name": "Python 3",
   "language": "python",
   "name": "python3"
  },
  "language_info": {
   "codemirror_mode": {
    "name": "ipython",
    "version": 3
   },
   "file_extension": ".py",
   "mimetype": "text/x-python",
   "name": "python",
   "nbconvert_exporter": "python",
   "pygments_lexer": "ipython3",
   "version": "3.10.13"
  }
 },
 "nbformat": 4,
 "nbformat_minor": 2
}
