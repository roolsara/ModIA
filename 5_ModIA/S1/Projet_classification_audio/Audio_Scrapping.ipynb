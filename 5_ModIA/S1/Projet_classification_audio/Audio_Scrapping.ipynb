{
  "cells": [
    {
      "cell_type": "markdown",
      "metadata": {
        "id": "3XVavNrQjig0"
      },
      "source": [
        "### Installation des packages"
      ]
    },
    {
      "cell_type": "code",
      "execution_count": 45,
      "metadata": {
        "id": "17IKKAhDGiVd"
      },
      "outputs": [],
      "source": [
        "# !pip install pytube moviepy\n",
        "# !pip install yt-dlp\n",
        "# !pip install --upgrade pytube"
      ]
    },
    {
      "cell_type": "markdown",
      "metadata": {
        "id": "LSvOtLSQjplK"
      },
      "source": [
        "### Importation des librairies"
      ]
    },
    {
      "cell_type": "code",
      "execution_count": 46,
      "metadata": {
        "id": "eJi91QSmQDHD"
      },
      "outputs": [],
      "source": [
        "import os\n",
        "import subprocess\n",
        "from moviepy.editor import AudioFileClip\n",
        "import shutil"
      ]
    },
    {
      "cell_type": "markdown",
      "metadata": {
        "id": "8-NxE5KFrpYd"
      },
      "source": [
        "##### Au cas où tu veux supprimer le dossier qui contient les enregistrements"
      ]
    },
    {
      "cell_type": "code",
      "execution_count": 47,
      "metadata": {
        "id": "YWpixK4KQJIX"
      },
      "outputs": [],
      "source": [
        "# shutil.rmtree('./clips')"
      ]
    },
    {
      "cell_type": "markdown",
      "metadata": {
        "id": "vYNF9hVZr1th"
      },
      "source": [
        "### Fonction qui compte le nombre de fichiers dans un dossier"
      ]
    },
    {
      "cell_type": "code",
      "execution_count": 48,
      "metadata": {
        "id": "HNolVV3vcKDf"
      },
      "outputs": [],
      "source": [
        "def count_files(directory):\n",
        "    return len([f for f in os.listdir(directory) if os.path.isfile(os.path.join(directory, f))])"
      ]
    },
    {
      "cell_type": "markdown",
      "metadata": {
        "id": "h2OBxCLkr6vo"
      },
      "source": [
        "### Script qui saisit l'url d'une vidéo Youtube et la coupe en 5 extraits de 5 secondes qu'il enregistre dans le dossier clips"
      ]
    },
    {
      "cell_type": "markdown",
      "metadata": {
        "id": "3GWjIMNNsKI4"
      },
      "source": [
        "<b> /!\\ : il faut modifier le nom du fichier dans output_file quand on change de pays et de sexe (F pour femme et H pour homme, logique, je sais) <br>\n",
        "/!\\ : il faut faire attention à ce que la vidéo ne contienne pas de musique en arrière plan </b>"
      ]
    },
    {
      "cell_type": "code",
      "execution_count": 49,
      "metadata": {
        "colab": {
          "base_uri": "https://localhost:8080/"
        },
        "id": "VzmUo2p3UsTe",
        "outputId": "a6b0e8c8-400c-4085-f1c5-7cba7bbc6b3c"
      },
      "outputs": [
        {
          "name": "stdout",
          "output_type": "stream",
          "text": [
            "https://www.youtube.com/watch?v=DHCjQ56LnaM\n"
          ]
        },
        {
          "name": "stderr",
          "output_type": "stream",
          "text": [
            "WARNING: Post-Processor arguments given without specifying name. The arguments will be given to all post-processors\n"
          ]
        },
        {
          "name": "stdout",
          "output_type": "stream",
          "text": [
            "[youtube] Extracting URL: https://www.youtube.com/watch?v=DHCjQ56LnaM\n",
            "[youtube] DHCjQ56LnaM: Downloading webpage\n",
            "[youtube] DHCjQ56LnaM: Downloading ios player API JSON\n",
            "[youtube] DHCjQ56LnaM: Downloading mweb player API JSON\n",
            "[youtube] DHCjQ56LnaM: Downloading m3u8 information\n",
            "[info] DHCjQ56LnaM: Downloading 1 format(s): 251\n",
            "[download] Destination: ./clips_hanna/japon_H_1.webm\n",
            "[download] 100% of    6.05MiB in 00:00:00 at 10.33MiB/s  \n",
            "[ExtractAudio] Destination: ./clips_hanna/japon_H_1.mp3\n",
            "Deleting original file ./clips_hanna/japon_H_1.webm (pass -k to keep)\n",
            "Extrait 1 enregistré : ./clips_hanna/japon_H_1.mp3\n"
          ]
        },
        {
          "name": "stderr",
          "output_type": "stream",
          "text": [
            "WARNING: Post-Processor arguments given without specifying name. The arguments will be given to all post-processors\n"
          ]
        },
        {
          "name": "stdout",
          "output_type": "stream",
          "text": [
            "[youtube] Extracting URL: https://www.youtube.com/watch?v=DHCjQ56LnaM\n",
            "[youtube] DHCjQ56LnaM: Downloading webpage\n",
            "[youtube] DHCjQ56LnaM: Downloading ios player API JSON\n",
            "[youtube] DHCjQ56LnaM: Downloading mweb player API JSON\n",
            "[youtube] DHCjQ56LnaM: Downloading m3u8 information\n",
            "[info] DHCjQ56LnaM: Downloading 1 format(s): 251\n",
            "[download] Destination: ./clips_hanna/japon_H_2.webm\n",
            "[download] 100% of    6.05MiB in 00:00:00 at 10.34MiB/s  \n",
            "[ExtractAudio] Destination: ./clips_hanna/japon_H_2.mp3\n",
            "Deleting original file ./clips_hanna/japon_H_2.webm (pass -k to keep)\n",
            "Extrait 2 enregistré : ./clips_hanna/japon_H_2.mp3\n"
          ]
        },
        {
          "name": "stderr",
          "output_type": "stream",
          "text": [
            "WARNING: Post-Processor arguments given without specifying name. The arguments will be given to all post-processors\n"
          ]
        },
        {
          "name": "stdout",
          "output_type": "stream",
          "text": [
            "[youtube] Extracting URL: https://www.youtube.com/watch?v=DHCjQ56LnaM\n",
            "[youtube] DHCjQ56LnaM: Downloading webpage\n",
            "[youtube] DHCjQ56LnaM: Downloading ios player API JSON\n",
            "[youtube] DHCjQ56LnaM: Downloading mweb player API JSON\n",
            "[youtube] DHCjQ56LnaM: Downloading m3u8 information\n",
            "[info] DHCjQ56LnaM: Downloading 1 format(s): 251\n",
            "[download] Destination: ./clips_hanna/japon_H_3.webm\n",
            "[download] 100% of    6.05MiB in 00:00:00 at 12.81MiB/s    \n",
            "[ExtractAudio] Destination: ./clips_hanna/japon_H_3.mp3\n",
            "Deleting original file ./clips_hanna/japon_H_3.webm (pass -k to keep)\n",
            "Extrait 3 enregistré : ./clips_hanna/japon_H_3.mp3\n"
          ]
        },
        {
          "name": "stderr",
          "output_type": "stream",
          "text": [
            "WARNING: Post-Processor arguments given without specifying name. The arguments will be given to all post-processors\n"
          ]
        },
        {
          "name": "stdout",
          "output_type": "stream",
          "text": [
            "[youtube] Extracting URL: https://www.youtube.com/watch?v=DHCjQ56LnaM\n",
            "[youtube] DHCjQ56LnaM: Downloading webpage\n",
            "[youtube] DHCjQ56LnaM: Downloading ios player API JSON\n",
            "[youtube] DHCjQ56LnaM: Downloading mweb player API JSON\n",
            "[youtube] DHCjQ56LnaM: Downloading m3u8 information\n",
            "[info] DHCjQ56LnaM: Downloading 1 format(s): 251\n",
            "[download] Destination: ./clips_hanna/japon_H_4.webm\n",
            "[download] 100% of    6.05MiB in 00:00:00 at 11.52MiB/s  \n",
            "[ExtractAudio] Destination: ./clips_hanna/japon_H_4.mp3\n",
            "Deleting original file ./clips_hanna/japon_H_4.webm (pass -k to keep)\n",
            "Extrait 4 enregistré : ./clips_hanna/japon_H_4.mp3\n"
          ]
        },
        {
          "name": "stderr",
          "output_type": "stream",
          "text": [
            "WARNING: Post-Processor arguments given without specifying name. The arguments will be given to all post-processors\n"
          ]
        },
        {
          "name": "stdout",
          "output_type": "stream",
          "text": [
            "[youtube] Extracting URL: https://www.youtube.com/watch?v=DHCjQ56LnaM\n",
            "[youtube] DHCjQ56LnaM: Downloading webpage\n",
            "[youtube] DHCjQ56LnaM: Downloading ios player API JSON\n",
            "[youtube] DHCjQ56LnaM: Downloading mweb player API JSON\n",
            "[youtube] DHCjQ56LnaM: Downloading m3u8 information\n",
            "[info] DHCjQ56LnaM: Downloading 1 format(s): 251\n",
            "[download] Destination: ./clips_hanna/japon_H_5.webm\n",
            "[download] 100% of    6.05MiB in 00:00:00 at 10.93MiB/s  \n",
            "[ExtractAudio] Destination: ./clips_hanna/japon_H_5.mp3\n",
            "Deleting original file ./clips_hanna/japon_H_5.webm (pass -k to keep)\n",
            "Extrait 5 enregistré : ./clips_hanna/japon_H_5.mp3\n",
            "CPU times: user 60.5 ms, sys: 24.9 ms, total: 85.4 ms\n",
            "Wall time: 23.8 s\n"
          ]
        }
      ],
      "source": [
        "%%time\n",
        "\n",
        "# Étape 1 : Télécharger une portion d'audio d'une vidéo YouTube avec yt-dlp\n",
        "def download_youtube_audio_segment(url, output_dir, start_time, duration, clip_num, prefix):\n",
        "\n",
        "    # Utilisation de yt-dlp pour télécharger un extrait audio spécifique\n",
        "    output_file = os.path.join(output_dir, f\"{prefix}_{clip_num}.mp3\")\n",
        "    command = [\n",
        "        'yt-dlp',\n",
        "        '-f', 'bestaudio',\n",
        "        '--ffmpeg-location', '/usr/bin/ffmpeg',\n",
        "        '--extract-audio',\n",
        "        '--audio-format', 'mp3',\n",
        "        '--postprocessor-args', f\"-ss {start_time} -t {duration}\",  # Spécifier l'heure de début et la durée\n",
        "        '-o', output_file,\n",
        "        url\n",
        "    ]\n",
        "\n",
        "    # Exécution de la commande pour télécharger l'extrait\n",
        "    subprocess.run(command, check=True)\n",
        "    print(f\"Extrait {clip_num} enregistré : {output_file}\")\n",
        "\n",
        "# Étape 2 : Télécharger plusieurs extraits audio d'une vidéo YouTube\n",
        "def extract_multiple_audio_clips(url, output_dir, clip_duration, num_clips, prefix):\n",
        "    start = 60\n",
        "    # Créer le dossier s'il n'existe pas\n",
        "    if not os.path.exists(output_dir):\n",
        "        os.makedirs(output_dir)\n",
        "    total = count_files(output_dir)\n",
        "    for clip_num in range(1, num_clips + 1):\n",
        "        num = clip_num + total\n",
        "        download_youtube_audio_segment(url, output_dir, start, clip_duration, num, prefix)\n",
        "        start += clip_duration + 20 # Met à jour l'heure de début pour le prochain extrait\n",
        "\n",
        "# Exemple d'utilisation\n",
        "if __name__ == \"__main__\":\n",
        "    import json\n",
        "    # # url = \"https://www.youtube.com/watch?v=Hqg72vgV6wE\"\n",
        "    # extract_multiple_audio_clips(url, output_dir, clip_duration, num_clips, prefix)\n",
        "\n",
        "    with open('urls.json') as json_file:\n",
        "        urls = json.load(json_file)\n",
        "    \n",
        "    \n",
        "    for prefix, urls in urls.items():\n",
        "        output_dir = \"./clips\"\n",
        "\n",
        "        # Spécifie le nombre d'extraits et la durée de chaque extrait\n",
        "        num_clips = 5  # Par exemple, 5 extraits\n",
        "        clip_duration = 5  # Par exemple, chaque extrait fait 5 secondes\n",
        "\n",
        "        for url in urls:\n",
        "            print(url)\n",
        "            # Télécharger uniquement les extraits spécifiés\n",
        "            extract_multiple_audio_clips(url, output_dir, clip_duration, num_clips, prefix)\n"
      ]
    },
    {
      "cell_type": "code",
      "execution_count": null,
      "metadata": {
        "id": "pgzr6IkLVNqM"
      },
      "outputs": [],
      "source": []
    },
    {
      "cell_type": "markdown",
      "metadata": {
        "id": "aINs9XFTVbKc"
      },
      "source": [
        "### Méthode plus rapide mais qui télécharge le fichier audio en entier (donc il faut le supprimer après) : on ne va pas l'utiliser\n"
      ]
    },
    {
      "cell_type": "code",
      "execution_count": 50,
      "metadata": {
        "colab": {
          "base_uri": "https://localhost:8080/"
        },
        "id": "LIld5SAyObtx",
        "outputId": "b167e3f3-df5c-40e0-a03b-d490c625f690"
      },
      "outputs": [],
      "source": [
        "# # Étape 1 : Télécharger l'audio de la vidéo YouTube avec yt-dlp\n",
        "# def download_youtube_audio(url, output_dir):\n",
        "#     # Créer le dossier s'il n'existe pas\n",
        "#     if not os.path.exists(output_dir):\n",
        "#         os.makedirs(output_dir)\n",
        "\n",
        "#     # Utilisation de yt-dlp pour télécharger le meilleur audio\n",
        "#     command = [\n",
        "#         'yt-dlp',\n",
        "#         '-f', 'bestaudio',\n",
        "#         '--extract-audio',\n",
        "#         '--audio-format', 'mp3',\n",
        "#         '-o', os.path.join(output_dir, '%(title)s.%(ext)s'),\n",
        "#         url\n",
        "#     ]\n",
        "\n",
        "#     # Exécution de la commande\n",
        "#     subprocess.run(command, check=True)\n",
        "\n",
        "#     # Récupérer le nom du fichier audio téléchargé\n",
        "#     downloaded_files = os.listdir(output_dir)\n",
        "#     audio_file = [f for f in downloaded_files if f.endswith('.mp3')][0]\n",
        "\n",
        "#     return os.path.join(output_dir, audio_file)\n",
        "\n",
        "# # Étape 2 : Extraire des extraits audio en spécifiant la durée et le nombre d'extraits\n",
        "# def extract_audio_clips(audio_file, output_dir, clip_duration, num_clips):\n",
        "#     # Charger l'audio avec AudioFileClip\n",
        "#     audio_clip = AudioFileClip(audio_file)\n",
        "#     total_duration = audio_clip.duration\n",
        "\n",
        "#     # Calculer la durée totale nécessaire pour générer tous les extraits\n",
        "#     total_clips_duration = clip_duration * num_clips\n",
        "\n",
        "#     # Vérifier si la durée totale demandée dépasse la durée de l'audio\n",
        "#     if total_clips_duration > total_duration:\n",
        "#         print(f\"La durée totale demandée ({total_clips_duration} secondes) dépasse la durée de l'audio ({total_duration} secondes).\")\n",
        "#         print(f\"Les extraits seront ajustés pour ne pas dépasser la fin de l'audio.\")\n",
        "#         num_clips = int(total_duration // clip_duration)  # Ajuster le nombre d'extraits possibles\n",
        "#         print(f\"Nombre d'extraits ajusté à : {num_clips}\")\n",
        "\n",
        "#     start = 0\n",
        "#     clip_num = 1\n",
        "#     while clip_num <= num_clips:\n",
        "#         end = min(start + clip_duration, total_duration)  # Assure de ne pas dépasser la durée de l'audio\n",
        "#         audio_segment = audio_clip.subclip(start, end)\n",
        "#         output_file = os.path.join(output_dir, f\"spain_F_{clip_num}.mp3\")\n",
        "#         audio_segment.write_audiofile(output_file)\n",
        "#         print(f\"Extrait {clip_num} enregistré : {output_file}\")\n",
        "#         start += clip_duration\n",
        "#         clip_num += 1\n",
        "\n",
        "# # Exemple d'utilisation\n",
        "# if __name__ == \"__main__\":\n",
        "#     youtube_url = \"https://www.youtube.com/watch?v=7OU9_C1JnFs\"\n",
        "#     output_path = \"./\"\n",
        "#     output_dir = \"./clips\"\n",
        "\n",
        "#     # Spécifie le nombre d'extraits et la durée de chaque extrait\n",
        "#     num_clips = 5  # Par exemple, 5 extraits\n",
        "#     clip_duration = 5  # Par exemple, chaque extrait fait 5 secondes\n",
        "\n",
        "#     # Télécharger l'audio de YouTube\n",
        "#     audio_file = download_youtube_audio(youtube_url, output_dir)\n",
        "\n",
        "#     # Extraire les extraits audio\n",
        "#     extract_audio_clips(audio_file, output_dir, clip_duration, num_clips)\n"
      ]
    },
    {
      "cell_type": "code",
      "execution_count": null,
      "metadata": {
        "id": "XfNCWAImUP89"
      },
      "outputs": [],
      "source": []
    }
  ],
  "metadata": {
    "colab": {
      "provenance": []
    },
    "kernelspec": {
      "display_name": "Python 3",
      "name": "python3"
    },
    "language_info": {
      "codemirror_mode": {
        "name": "ipython",
        "version": 3
      },
      "file_extension": ".py",
      "mimetype": "text/x-python",
      "name": "python",
      "nbconvert_exporter": "python",
      "pygments_lexer": "ipython3",
      "version": "3.11.6"
    }
  },
  "nbformat": 4,
  "nbformat_minor": 0
}
