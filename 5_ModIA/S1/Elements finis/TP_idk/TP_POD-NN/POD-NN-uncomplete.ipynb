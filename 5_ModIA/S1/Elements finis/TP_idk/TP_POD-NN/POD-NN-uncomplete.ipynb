{
 "cells": [
  {
   "cell_type": "markdown",
   "id": "a7d05498",
   "metadata": {},
   "source": [
    "# POD-NN method"
   ]
  },
  {
   "cell_type": "markdown",
   "id": "efe4881b",
   "metadata": {},
   "source": [
    "## The advection-diffusion problem"
   ]
  },
  {
   "cell_type": "markdown",
   "id": "8ab245f5",
   "metadata": {},
   "source": [
    "Let us  considere the following BVP. It is based on the 2D stationary advection-diffusion. It is here parametrized by the diffusivity coefficient $\\lambda(\\mu)$. The equations read: "
   ]
  },
  {
   "cell_type": "markdown",
   "id": "1d83a1fd",
   "metadata": {},
   "source": [
    "$$\\begin{equation}\n",
    "\\begin{cases}\n",
    "-div(\\lambda(\\mu)\\nabla u)+w\\nabla u=f & in~~\\Omega\\\\\n",
    "~~~~~~\\hfill~~~~~~~~~~~~~~~~~~u=g & in~~\\varGamma_{in}\\\\\n",
    "~~~\\hfill~~~~-\\lambda(\\mu)\\nabla u.n=0 & in~~\\varGamma_{wall}\\\\\n",
    "~~~\\hfill~~~~-\\lambda(\\mu)\\nabla u.n=0 & in~~\\varGamma_{out}\n",
    "\\end{cases}\n",
    "\\label{eq:Advection-non-affine}\n",
    "\\end{equation}$$"
   ]
  },
  {
   "cell_type": "markdown",
   "id": "aafe68ad",
   "metadata": {},
   "source": [
    "with $\\lambda(\\mu)=\\exp(\\mu_{0}(\\mu + 1))$. The scalar $\\mu_{0}=0.7$ and $\\mu\\in\\textbf{P}=[\\mu_{min},{~}\\mu_{max}],{~}  \\mu_{min}=1,{~} \\mu_{max}=10$."
   ]
  },
  {
   "cell_type": "markdown",
   "id": "749b312a",
   "metadata": {},
   "source": [
    "### Modules  import and initializations"
   ]
  },
  {
   "cell_type": "code",
   "execution_count": 1,
   "id": "2eca8a3e",
   "metadata": {},
   "outputs": [
    {
     "name": "stderr",
     "output_type": "stream",
     "text": [
      "2024-12-12 09:06:15.860824: I tensorflow/core/util/port.cc:110] oneDNN custom operations are on. You may see slightly different numerical results due to floating-point round-off errors from different computation orders. To turn them off, set the environment variable `TF_ENABLE_ONEDNN_OPTS=0`.\n",
      "2024-12-12 09:06:15.892621: I tensorflow/core/platform/cpu_feature_guard.cc:182] This TensorFlow binary is optimized to use available CPU instructions in performance-critical operations.\n",
      "To enable the following instructions: AVX2 AVX_VNNI FMA, in other operations, rebuild TensorFlow with the appropriate compiler flags.\n",
      "2024-12-12 09:06:16.422838: W tensorflow/compiler/tf2tensorrt/utils/py_utils.cc:38] TF-TRT Warning: Could not find TensorRT\n"
     ]
    }
   ],
   "source": [
    "### Modules importation\n",
    "import tensorflow as tf\n",
    "import tensorflow.keras as k\n",
    "from tensorflow.keras.datasets import mnist\n",
    "import tensorflow.keras.preprocessing.image as kpi\n",
    "import tensorflow.keras.models as km\n",
    "import tensorflow.keras.layers as kl\n",
    "import tensorflow.keras.losses as kloss\n",
    "import tensorflow.keras.regularizers as kr\n",
    "import tensorflow.keras.backend as K\n",
    "import tensorflow.keras.utils as ku\n",
    "from tensorflow.keras import callbacks\n",
    "import scipy as sc\n",
    "import numpy as np\n",
    "import numpy.linalg as npl\n",
    "import matplotlib.pyplot as plt\n",
    "import sys,os\n",
    "import random \n",
    "#import pandas as pd\n",
    "import sklearn.utils\n",
    "# Verbosity\n",
    "fit_verbosity = 1"
   ]
  },
  {
   "cell_type": "markdown",
   "id": "59f683bc",
   "metadata": {},
   "source": [
    "### Normalization and non-affine functions "
   ]
  },
  {
   "cell_type": "code",
   "execution_count": 2,
   "id": "daa43431",
   "metadata": {},
   "outputs": [],
   "source": [
    "# The scaling function for data normalisation\n",
    "# Scaling function\n",
    "def scaling(S, S_max, S_min):\n",
    "    S[ : ] = (S - S_min)/(S_max - S_min)\n",
    "    \n",
    "# Inverse scaling function\n",
    "def inverse_scaling(S, S_max, S_min):\n",
    "    S[ : ] = (S_max - S_min) * S + S_min\n",
    "    \n",
    "# The non-affinity function\n",
    "def Lambda(mu):\n",
    "    return np.exp(mu0*(mu+1.))"
   ]
  },
  {
   "cell_type": "markdown",
   "id": "75d79df0",
   "metadata": {},
   "source": [
    "## The offline phase"
   ]
  },
  {
   "cell_type": "markdown",
   "id": "c62f3018",
   "metadata": {},
   "source": [
    "### Preparing the data"
   ]
  },
  {
   "cell_type": "markdown",
   "id": "cdb02148",
   "metadata": {},
   "source": [
    "The RB POD matrix $Brb=[\\xi_{1},\\dots,\\xi_{M}]\\in\\mathbb{R}^{NN\\times N_{rb}}$. The RB matrix is constructed by POD method. It is computed for 10000 snapshots of Problem (1). The reduced matrix here is of size $N_{rb}=5$. $$\\$$\n",
    "For the training step of the NN, the snapshots matrix $S=[U_{h}(\\mu_{1}),\\dots,U_{h}(\\mu_{M})]\\in\\mathbb{R}^{NN\\times M}$ has already been computed with $M=10000$."
   ]
  },
  {
   "cell_type": "markdown",
   "id": "8b953859",
   "metadata": {},
   "source": [
    "#### Load the data from numpy files"
   ]
  },
  {
   "cell_type": "code",
   "execution_count": 3,
   "id": "a5d416a6",
   "metadata": {},
   "outputs": [],
   "source": [
    "# Prepare the data\n",
    "# Load the data from the numpy file\n",
    "# Snaphots matrix\n",
    "S =  np.load('Snapshots_non_affine.npy') # of size M*NN\n",
    "S = S.transpose() # of size NN*M\n",
    "\n",
    "# The reduced POD basis\n",
    "Brb = np.load('Brb.npy') # of size NN*Nrb#\n",
    "Brb = Brb.real\n",
    "Nrb = len(Brb.transpose())\n",
    "\n",
    "# The parameter matrix\n",
    "P = np.load('parameter_non_affine.npy') # of size M x 1\n",
    "P = P.reshape(len(P),1)"
   ]
  },
  {
   "cell_type": "markdown",
   "id": "e2a5e1c7",
   "metadata": {},
   "source": [
    "#### Computation of the reduced outputs for the NN and randomly shuffle the data"
   ]
  },
  {
   "cell_type": "markdown",
   "id": "017eeb36",
   "metadata": {},
   "source": [
    "The reduced outputs are computed by the formula: $$\\begin{equation}Urb = Brb^{T}U_{h}(\\mu)\\in\\mathbb{R}^{N_{rb}}\\end{equation}$$ with $\\mu\\in\\textbf{P}=[\\mu_{min},{~}\\mu_{max}]$. $\\\\$\n",
    "We denote by $Urb_{POD}=Brb^{T}S$."
   ]
  },
  {
   "cell_type": "code",
   "execution_count": 4,
   "id": "03537ae8",
   "metadata": {},
   "outputs": [
    {
     "name": "stdout",
     "output_type": "stream",
     "text": [
      "Urb_POD size= (10000, 5)\n",
      "Urb_POD before normalization [[-3.91171195e+01 -7.44696817e-01 -3.33082341e-01  1.02522034e-01\n",
      "   1.79626258e-02]\n",
      " [-4.09309878e+01  7.40101680e-01 -7.28900135e-01 -2.05954026e-02\n",
      "  -2.49620907e-02]\n",
      " [-3.68939827e+01 -1.54966041e+00  3.08306254e-01 -2.25030350e-02\n",
      "  -7.36426857e-04]\n",
      " ...\n",
      " [-3.64569752e+01 -1.68039591e+00  4.32098080e-01 -5.54359342e-02\n",
      "  -8.88229681e-03]\n",
      " [-4.04827680e+01  2.81886590e+00  7.77179204e-01  7.64805653e-02\n",
      "   1.03941968e-02]\n",
      " [-4.05802297e+01  1.70858981e-01 -7.25122216e-01  7.20586163e-02\n",
      "  -8.32810059e-03]]\n",
      "P before normalization [[108.18994029]\n",
      " [ 28.95655432]\n",
      " [511.31901933]\n",
      " ...\n",
      " [998.99590053]\n",
      " [  5.69867689]\n",
      " [ 45.09317358]]\n"
     ]
    }
   ],
   "source": [
    "# Computation of the reduced solutions: Brb^T*Uh(mu)\n",
    "Urb_POD = np.dot(Brb.transpose(),S) # of size Nrb*M\n",
    "#print(\"Urb_POD size=\",Urb_POD.shape)\n",
    "\n",
    "# Transpose \n",
    "Urb_POD = Urb_POD.transpose() # of size M*Nrb\n",
    "print(\"Urb_POD size=\",Urb_POD.shape)\n",
    "\n",
    "# Randomy shufl the data set\n",
    "shuffle = np.arange(len(Urb_POD))\n",
    "np.random.shuffle(shuffle)\n",
    "Urb_POD = Urb_POD[shuffle]\n",
    "P = P[shuffle]\n",
    "print(\"Urb_POD before normalization\",Urb_POD)\n",
    "print(\"P before normalization\",P)"
   ]
  },
  {
   "cell_type": "markdown",
   "id": "00570cb3",
   "metadata": {},
   "source": [
    "#### Data normalization"
   ]
  },
  {
   "cell_type": "markdown",
   "id": "a5d4f8f5",
   "metadata": {},
   "source": [
    "The normalization of the data is done as follows: $$\\\\$$\n",
    "The input parameters for the NN are such that: $$\\begin{equation}\\tilde{\\mu_{i}} = \\frac{\\mu_{i}}{\\mu_{max}}\\end{equation}$$ for $1\\leq i\\leq M$ $$\\$$\n",
    "The outputs (RB solutions) for the NN are normalized as follows:$$\\begin{equation}(\\tilde{Urb}_{POD})_{ij} = \\frac{(Urb_{POD})_{ij}-\\underset{i,j}{\\min}(Urb_{POD})_{ij}}{\\underset{i,j}{\\max}(Urb_{POD})_{ij}-\\underset{i,j}{\\min}(Urb_{POD})_{ij}}\\end{equation}$$ for $1\\leq i\\leq M$ and $1\\leq j\\leq N_{rb}$ $$\\\\$$"
   ]
  },
  {
   "cell_type": "code",
   "execution_count": 5,
   "id": "ff538d10",
   "metadata": {},
   "outputs": [
    {
     "name": "stdout",
     "output_type": "stream",
     "text": [
      "P after normalization [[0.04899135]\n",
      " [0.01311231]\n",
      " [0.23153915]\n",
      " ...\n",
      " [0.4523725 ]\n",
      " [0.00258052]\n",
      " [0.02041941]]\n",
      "Urb_POD after normalization [[0.04219791 0.91211302 0.92144445 0.93131974 0.92940276]\n",
      " [0.00107693 0.94577388 0.91247114 0.92852863 0.92842964]\n",
      " [0.09259713 0.89386424 0.93598494 0.92848539 0.92897884]\n",
      " ...\n",
      " [0.10250423 0.89090042 0.93879134 0.92773879 0.92879417]\n",
      " [0.01123822 0.99290013 0.94661444 0.93072938 0.92923118]\n",
      " [0.00902873 0.93286896 0.91255678 0.93062913 0.92880674]]\n"
     ]
    }
   ],
   "source": [
    "# Data normalization\n",
    "# Normalization of the parameter set\n",
    "# Obtain the min and the max of P\n",
    "P_max = np.max(P); P_min = np.min(P)\n",
    "# Normalize the parameter vector P\n",
    "P = P/P_max\n",
    "\n",
    "# Normalization of the reduced matrix\n",
    "# Obtain the min and the max of the reduced outputs BrbUh\n",
    "Urb_POD_max = np.max(Urb_POD); Urb_POD_min = np.min(Urb_POD)\n",
    "scaling(Urb_POD, Urb_POD_max, Urb_POD_min)\n",
    "\n",
    "print(\"P after normalization\",P)\n",
    "print(\"Urb_POD after normalization\",Urb_POD)"
   ]
  },
  {
   "cell_type": "markdown",
   "id": "b4cfed79",
   "metadata": {},
   "source": [
    "#### Load the already trained NN"
   ]
  },
  {
   "cell_type": "code",
   "execution_count": 6,
   "id": "d65b990d",
   "metadata": {},
   "outputs": [
    {
     "name": "stdout",
     "output_type": "stream",
     "text": [
      "Model: \"sequential\"\n",
      "_________________________________________________________________\n",
      " Layer (type)                Output Shape              Param #   \n",
      "=================================================================\n",
      " dense (Dense)               (None, 17)                34        \n",
      "                                                                 \n",
      " dense_1 (Dense)             (None, 17)                306       \n",
      "                                                                 \n",
      " dense_2 (Dense)             (None, 17)                306       \n",
      "                                                                 \n",
      " dense_3 (Dense)             (None, 17)                306       \n",
      "                                                                 \n",
      " dense_4 (Dense)             (None, 17)                306       \n",
      "                                                                 \n",
      " dense_5 (Dense)             (None, 17)                306       \n",
      "                                                                 \n",
      " dense_6 (Dense)             (None, 17)                306       \n",
      "                                                                 \n",
      " dense_7 (Dense)             (None, 17)                306       \n",
      "                                                                 \n",
      " dense_8 (Dense)             (None, 17)                306       \n",
      "                                                                 \n",
      " dense_9 (Dense)             (None, 17)                306       \n",
      "                                                                 \n",
      " dense_10 (Dense)            (None, 17)                306       \n",
      "                                                                 \n",
      " dense_11 (Dense)            (None, 17)                306       \n",
      "                                                                 \n",
      " dense_12 (Dense)            (None, 17)                306       \n",
      "                                                                 \n",
      " dense_13 (Dense)            (None, 17)                306       \n",
      "                                                                 \n",
      " dense_14 (Dense)            (None, 5)                 90        \n",
      "                                                                 \n",
      "=================================================================\n",
      "Total params: 4,102\n",
      "Trainable params: 4,102\n",
      "Non-trainable params: 0\n",
      "_________________________________________________________________\n"
     ]
    },
    {
     "name": "stderr",
     "output_type": "stream",
     "text": [
      "2024-12-12 09:06:17.756318: I tensorflow/compiler/xla/stream_executor/cuda/cuda_gpu_executor.cc:996] successful NUMA node read from SysFS had negative value (-1), but there must be at least one NUMA node, so returning NUMA node zero. See more at https://github.com/torvalds/linux/blob/v6.0/Documentation/ABI/testing/sysfs-bus-pci#L344-L355\n",
      "2024-12-12 09:06:17.782660: W tensorflow/core/common_runtime/gpu/gpu_device.cc:1956] Cannot dlopen some GPU libraries. Please make sure the missing libraries mentioned above are installed properly if you would like to use GPU. Follow the guide at https://www.tensorflow.org/install/gpu for how to download and setup the required libraries for your platform.\n",
      "Skipping registering GPU devices...\n"
     ]
    }
   ],
   "source": [
    "# Load the pre-trained NN stored in h5 format\n",
    "Model = km.load_model(f'Neural-network.h5')\n",
    "\n",
    "# Summary of the model: layers and number of parameters \n",
    "Model.summary()"
   ]
  },
  {
   "cell_type": "markdown",
   "id": "472a6edd",
   "metadata": {},
   "source": [
    "## The online phase"
   ]
  },
  {
   "cell_type": "markdown",
   "id": "69dc5b1e",
   "metadata": {},
   "source": [
    "### New parameter value"
   ]
  },
  {
   "cell_type": "code",
   "execution_count": 7,
   "id": "4e3e92bd",
   "metadata": {},
   "outputs": [
    {
     "name": "stdout",
     "output_type": "stream",
     "text": [
      "New value for mu \n"
     ]
    },
    {
     "name": "stdin",
     "output_type": "stream",
     "text": [
      " 1\n"
     ]
    },
    {
     "name": "stdout",
     "output_type": "stream",
     "text": [
      "mu= [[1.]]\n",
      "diffus= [[4.05519997]]\n",
      "diffus after normalization= [[0.0018363]]\n"
     ]
    }
   ],
   "source": [
    "# The onlinbe phase \n",
    "# Predict the new solution U_POD_NN\n",
    "# The constant mu_0\n",
    "mu0 = 0.7\n",
    "\n",
    "# New value of the physical parameter mu\n",
    "print('New value for mu ')\n",
    "# The parameter input for the NN\n",
    "mu = np.array([[float(input())]])\n",
    "print(\"mu=\",mu)\n",
    "\n",
    "# The non-affine parameter\n",
    "diffus = Lambda(mu)\n",
    "print(\"diffus=\",diffus)\n",
    "\n",
    "# Normalization of the non-affine parameter\n",
    "diffus = diffus/P_max\n",
    "print(\"diffus after normalization=\",diffus)"
   ]
  },
  {
   "cell_type": "markdown",
   "id": "cce3e0d6",
   "metadata": {},
   "source": [
    "### Compute the RB solution for the new parameter value by performing the NN"
   ]
  },
  {
   "cell_type": "code",
   "execution_count": 21,
   "id": "52a775b7",
   "metadata": {},
   "outputs": [
    {
     "name": "stdout",
     "output_type": "stream",
     "text": [
      "1/1 [==============================] - 0s 15ms/step\n"
     ]
    }
   ],
   "source": [
    "# Predict the reduced basis solution of the new parameter\n",
    "basis = Model.predict([np.array([diffus])])\n",
    "# Rescaling the predicted reduced basis solution\n",
    "inverse_scaling(basis, Urb_POD_max, Urb_POD_min)\n",
    "# The change of variable from the RB basis to complete FE one.\n",
    "Uh_POD_NN = Brb@basis.T"
   ]
  },
  {
   "cell_type": "code",
   "execution_count": 20,
   "id": "4eae8aa2-4879-4702-aba3-0beac99e469d",
   "metadata": {},
   "outputs": [
    {
     "data": {
      "text/plain": [
       "[<matplotlib.lines.Line2D at 0x74b7897b7290>]"
      ]
     },
     "execution_count": 20,
     "metadata": {},
     "output_type": "execute_result"
    },
    {
     "data": {
      "image/png": "[encoded data removed]",
      "text/plain": [
       "<Figure size 640x480 with 1 Axes>"
      ]
     },
     "metadata": {},
     "output_type": "display_data"
    }
   ],
   "source": [
    "plt.plot(range(len(FE_basis)), FE_basis)"
   ]
  },
  {
   "cell_type": "markdown",
   "id": "86610189",
   "metadata": {},
   "source": [
    "### Save the POD-NN solution in numpy file"
   ]
  },
  {
   "cell_type": "code",
   "execution_count": 22,
   "id": "ebf2c470",
   "metadata": {},
   "outputs": [],
   "source": [
    "np.save('Uh_POD_NN',Uh_POD_NN)"
   ]
  },
  {
   "cell_type": "code",
   "execution_count": null,
   "id": "4d5f3de9-de6e-40bc-9f26-57c55b93365f",
   "metadata": {},
   "outputs": [],
   "source": []
  }
 ],
 "metadata": {
  "kernelspec": {
   "display_name": "Python 3 (ipykernel)",
   "language": "python",
   "name": "python3"
  },
  "language_info": {
   "codemirror_mode": {
    "name": "ipython",
    "version": 3
   },
   "file_extension": ".py",
   "mimetype": "text/x-python",
   "name": "python",
   "nbconvert_exporter": "python",
   "pygments_lexer": "ipython3",
   "version": "3.11.7"
  }
 },
 "nbformat": 4,
 "nbformat_minor": 5
}
